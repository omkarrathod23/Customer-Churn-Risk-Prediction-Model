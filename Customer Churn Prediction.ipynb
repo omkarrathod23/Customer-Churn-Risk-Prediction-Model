{
 "cells": [
  {
   "cell_type": "markdown",
   "id": "3cfc82e2",
   "metadata": {},
   "source": [
    "# `Data Description`\n",
    "\n",
    "Dataset consists customer information for a customer churn prediction problem. It includes the following columns:\n",
    "\n",
    "**CustomerID**: Unique identifier for each customer.\n",
    "\n",
    "\n",
    "**Name**: Name of the customer.\n",
    "\n",
    "\n",
    "**Age: Age of the customer.**\n",
    "\n",
    "\n",
    "**Gender**: Gender of the customer (Male or Female).\n",
    "\n",
    "\n",
    "**Location**: Location where the customer is based, with options including Houston, Los Angeles, Miami, Chicago, and New York.\n",
    "\n",
    "\n",
    "**Subscription_Length_Months**: The number of months the customer has been subscribed.\n",
    "\n",
    "\n",
    "**Monthly_Bill**: Monthly bill amount for the customer.\n",
    "\n",
    "\n",
    "**Total_Usage_GB**: Total usage in gigabytes.\n",
    "\n",
    "\n",
    "**Churn**: A binary indicator (1 or 0) representing whether the customer has churned (1) or not (0)."
   ]
  },
  {
   "cell_type": "code",
   "execution_count": 1,
   "id": "e11fb6b1",
   "metadata": {},
   "outputs": [],
   "source": [
    "# importing required libraries\n",
    "\n",
    "import pandas as pd\n",
    "pd.set_option('display.max_columns', None)\n",
    "import numpy as np\n",
    "import matplotlib.pyplot as plt\n",
    "%matplotlib inline\n",
    "import seaborn as sns"
   ]
  },
  {
   "cell_type": "code",
   "execution_count": 2,
   "id": "853c8571",
   "metadata": {},
   "outputs": [
    {
     "data": {
      "text/html": [
       "<div>\n",
       "<style scoped>\n",
       "    .dataframe tbody tr th:only-of-type {\n",
       "        vertical-align: middle;\n",
       "    }\n",
       "\n",
       "    .dataframe tbody tr th {\n",
       "        vertical-align: top;\n",
       "    }\n",
       "\n",
       "    .dataframe thead th {\n",
       "        text-align: right;\n",
       "    }\n",
       "</style>\n",
       "<table border=\"1\" class=\"dataframe\">\n",
       "  <thead>\n",
       "    <tr style=\"text-align: right;\">\n",
       "      <th></th>\n",
       "      <th>CustomerID</th>\n",
       "      <th>Name</th>\n",
       "      <th>Age</th>\n",
       "      <th>Gender</th>\n",
       "      <th>Location</th>\n",
       "      <th>Subscription_Length_Months</th>\n",
       "      <th>Monthly_Bill</th>\n",
       "      <th>Total_Usage_GB</th>\n",
       "      <th>Churn</th>\n",
       "    </tr>\n",
       "  </thead>\n",
       "  <tbody>\n",
       "    <tr>\n",
       "      <th>0</th>\n",
       "      <td>1</td>\n",
       "      <td>Customer_1</td>\n",
       "      <td>63</td>\n",
       "      <td>Male</td>\n",
       "      <td>Los Angeles</td>\n",
       "      <td>17</td>\n",
       "      <td>73.36</td>\n",
       "      <td>236</td>\n",
       "      <td>0</td>\n",
       "    </tr>\n",
       "    <tr>\n",
       "      <th>1</th>\n",
       "      <td>2</td>\n",
       "      <td>Customer_2</td>\n",
       "      <td>62</td>\n",
       "      <td>Female</td>\n",
       "      <td>New York</td>\n",
       "      <td>1</td>\n",
       "      <td>48.76</td>\n",
       "      <td>172</td>\n",
       "      <td>0</td>\n",
       "    </tr>\n",
       "    <tr>\n",
       "      <th>2</th>\n",
       "      <td>3</td>\n",
       "      <td>Customer_3</td>\n",
       "      <td>24</td>\n",
       "      <td>Female</td>\n",
       "      <td>Los Angeles</td>\n",
       "      <td>5</td>\n",
       "      <td>85.47</td>\n",
       "      <td>460</td>\n",
       "      <td>0</td>\n",
       "    </tr>\n",
       "    <tr>\n",
       "      <th>3</th>\n",
       "      <td>4</td>\n",
       "      <td>Customer_4</td>\n",
       "      <td>36</td>\n",
       "      <td>Female</td>\n",
       "      <td>Miami</td>\n",
       "      <td>3</td>\n",
       "      <td>97.94</td>\n",
       "      <td>297</td>\n",
       "      <td>1</td>\n",
       "    </tr>\n",
       "    <tr>\n",
       "      <th>4</th>\n",
       "      <td>5</td>\n",
       "      <td>Customer_5</td>\n",
       "      <td>46</td>\n",
       "      <td>Female</td>\n",
       "      <td>Miami</td>\n",
       "      <td>19</td>\n",
       "      <td>58.14</td>\n",
       "      <td>266</td>\n",
       "      <td>0</td>\n",
       "    </tr>\n",
       "  </tbody>\n",
       "</table>\n",
       "</div>"
      ],
      "text/plain": [
       "   CustomerID        Name  Age  Gender     Location  \\\n",
       "0           1  Customer_1   63    Male  Los Angeles   \n",
       "1           2  Customer_2   62  Female     New York   \n",
       "2           3  Customer_3   24  Female  Los Angeles   \n",
       "3           4  Customer_4   36  Female        Miami   \n",
       "4           5  Customer_5   46  Female        Miami   \n",
       "\n",
       "   Subscription_Length_Months  Monthly_Bill  Total_Usage_GB  Churn  \n",
       "0                          17         73.36             236      0  \n",
       "1                           1         48.76             172      0  \n",
       "2                           5         85.47             460      0  \n",
       "3                           3         97.94             297      1  \n",
       "4                          19         58.14             266      0  "
      ]
     },
     "execution_count": 2,
     "metadata": {},
     "output_type": "execute_result"
    }
   ],
   "source": [
    "df = pd.read_excel('customer_churn_large_dataset.xlsx')\n",
    "df.head()"
   ]
  },
  {
   "cell_type": "markdown",
   "id": "feaafb09",
   "metadata": {},
   "source": [
    "# `Exploratory Data Analysis (EDA)`"
   ]
  },
  {
   "cell_type": "code",
   "execution_count": 3,
   "id": "98e6927d",
   "metadata": {},
   "outputs": [
    {
     "data": {
      "text/html": [
       "<div>\n",
       "<style scoped>\n",
       "    .dataframe tbody tr th:only-of-type {\n",
       "        vertical-align: middle;\n",
       "    }\n",
       "\n",
       "    .dataframe tbody tr th {\n",
       "        vertical-align: top;\n",
       "    }\n",
       "\n",
       "    .dataframe thead th {\n",
       "        text-align: right;\n",
       "    }\n",
       "</style>\n",
       "<table border=\"1\" class=\"dataframe\">\n",
       "  <thead>\n",
       "    <tr style=\"text-align: right;\">\n",
       "      <th></th>\n",
       "      <th>CustomerID</th>\n",
       "      <th>Name</th>\n",
       "      <th>Age</th>\n",
       "      <th>Gender</th>\n",
       "      <th>Location</th>\n",
       "      <th>Subscription_Length_Months</th>\n",
       "      <th>Monthly_Bill</th>\n",
       "      <th>Total_Usage_GB</th>\n",
       "      <th>Churn</th>\n",
       "    </tr>\n",
       "  </thead>\n",
       "  <tbody>\n",
       "    <tr>\n",
       "      <th>85898</th>\n",
       "      <td>85899</td>\n",
       "      <td>Customer_85899</td>\n",
       "      <td>39</td>\n",
       "      <td>Female</td>\n",
       "      <td>Chicago</td>\n",
       "      <td>7</td>\n",
       "      <td>73.91</td>\n",
       "      <td>411</td>\n",
       "      <td>0</td>\n",
       "    </tr>\n",
       "    <tr>\n",
       "      <th>77836</th>\n",
       "      <td>77837</td>\n",
       "      <td>Customer_77837</td>\n",
       "      <td>54</td>\n",
       "      <td>Female</td>\n",
       "      <td>Miami</td>\n",
       "      <td>1</td>\n",
       "      <td>88.65</td>\n",
       "      <td>137</td>\n",
       "      <td>1</td>\n",
       "    </tr>\n",
       "    <tr>\n",
       "      <th>52726</th>\n",
       "      <td>52727</td>\n",
       "      <td>Customer_52727</td>\n",
       "      <td>53</td>\n",
       "      <td>Female</td>\n",
       "      <td>Chicago</td>\n",
       "      <td>8</td>\n",
       "      <td>82.91</td>\n",
       "      <td>99</td>\n",
       "      <td>0</td>\n",
       "    </tr>\n",
       "    <tr>\n",
       "      <th>8464</th>\n",
       "      <td>8465</td>\n",
       "      <td>Customer_8465</td>\n",
       "      <td>23</td>\n",
       "      <td>Female</td>\n",
       "      <td>New York</td>\n",
       "      <td>18</td>\n",
       "      <td>89.70</td>\n",
       "      <td>107</td>\n",
       "      <td>0</td>\n",
       "    </tr>\n",
       "    <tr>\n",
       "      <th>52348</th>\n",
       "      <td>52349</td>\n",
       "      <td>Customer_52349</td>\n",
       "      <td>35</td>\n",
       "      <td>Male</td>\n",
       "      <td>Chicago</td>\n",
       "      <td>6</td>\n",
       "      <td>32.56</td>\n",
       "      <td>333</td>\n",
       "      <td>0</td>\n",
       "    </tr>\n",
       "    <tr>\n",
       "      <th>81851</th>\n",
       "      <td>81852</td>\n",
       "      <td>Customer_81852</td>\n",
       "      <td>42</td>\n",
       "      <td>Female</td>\n",
       "      <td>Chicago</td>\n",
       "      <td>13</td>\n",
       "      <td>85.24</td>\n",
       "      <td>51</td>\n",
       "      <td>1</td>\n",
       "    </tr>\n",
       "    <tr>\n",
       "      <th>46109</th>\n",
       "      <td>46110</td>\n",
       "      <td>Customer_46110</td>\n",
       "      <td>68</td>\n",
       "      <td>Female</td>\n",
       "      <td>Miami</td>\n",
       "      <td>23</td>\n",
       "      <td>65.86</td>\n",
       "      <td>317</td>\n",
       "      <td>1</td>\n",
       "    </tr>\n",
       "    <tr>\n",
       "      <th>89920</th>\n",
       "      <td>89921</td>\n",
       "      <td>Customer_89921</td>\n",
       "      <td>29</td>\n",
       "      <td>Female</td>\n",
       "      <td>New York</td>\n",
       "      <td>18</td>\n",
       "      <td>74.24</td>\n",
       "      <td>487</td>\n",
       "      <td>0</td>\n",
       "    </tr>\n",
       "  </tbody>\n",
       "</table>\n",
       "</div>"
      ],
      "text/plain": [
       "       CustomerID            Name  Age  Gender  Location  \\\n",
       "85898       85899  Customer_85899   39  Female   Chicago   \n",
       "77836       77837  Customer_77837   54  Female     Miami   \n",
       "52726       52727  Customer_52727   53  Female   Chicago   \n",
       "8464         8465   Customer_8465   23  Female  New York   \n",
       "52348       52349  Customer_52349   35    Male   Chicago   \n",
       "81851       81852  Customer_81852   42  Female   Chicago   \n",
       "46109       46110  Customer_46110   68  Female     Miami   \n",
       "89920       89921  Customer_89921   29  Female  New York   \n",
       "\n",
       "       Subscription_Length_Months  Monthly_Bill  Total_Usage_GB  Churn  \n",
       "85898                           7         73.91             411      0  \n",
       "77836                           1         88.65             137      1  \n",
       "52726                           8         82.91              99      0  \n",
       "8464                           18         89.70             107      0  \n",
       "52348                           6         32.56             333      0  \n",
       "81851                          13         85.24              51      1  \n",
       "46109                          23         65.86             317      1  \n",
       "89920                          18         74.24             487      0  "
      ]
     },
     "execution_count": 3,
     "metadata": {},
     "output_type": "execute_result"
    }
   ],
   "source": [
    "df.sample(8)"
   ]
  },
  {
   "cell_type": "code",
   "execution_count": 4,
   "id": "12046ca0",
   "metadata": {},
   "outputs": [
    {
     "data": {
      "text/plain": [
       "(100000, 9)"
      ]
     },
     "execution_count": 4,
     "metadata": {},
     "output_type": "execute_result"
    }
   ],
   "source": [
    "df.shape"
   ]
  },
  {
   "cell_type": "code",
   "execution_count": 5,
   "id": "8649918b",
   "metadata": {},
   "outputs": [
    {
     "data": {
      "text/plain": [
       "Index(['CustomerID', 'Name', 'Age', 'Gender', 'Location',\n",
       "       'Subscription_Length_Months', 'Monthly_Bill', 'Total_Usage_GB',\n",
       "       'Churn'],\n",
       "      dtype='object')"
      ]
     },
     "execution_count": 5,
     "metadata": {},
     "output_type": "execute_result"
    }
   ],
   "source": [
    "df.columns"
   ]
  },
  {
   "cell_type": "code",
   "execution_count": 6,
   "id": "768c1a1f",
   "metadata": {},
   "outputs": [
    {
     "name": "stdout",
     "output_type": "stream",
     "text": [
      "<class 'pandas.core.frame.DataFrame'>\n",
      "RangeIndex: 100000 entries, 0 to 99999\n",
      "Data columns (total 9 columns):\n",
      " #   Column                      Non-Null Count   Dtype  \n",
      "---  ------                      --------------   -----  \n",
      " 0   CustomerID                  100000 non-null  int64  \n",
      " 1   Name                        100000 non-null  object \n",
      " 2   Age                         100000 non-null  int64  \n",
      " 3   Gender                      100000 non-null  object \n",
      " 4   Location                    100000 non-null  object \n",
      " 5   Subscription_Length_Months  100000 non-null  int64  \n",
      " 6   Monthly_Bill                100000 non-null  float64\n",
      " 7   Total_Usage_GB              100000 non-null  int64  \n",
      " 8   Churn                       100000 non-null  int64  \n",
      "dtypes: float64(1), int64(5), object(3)\n",
      "memory usage: 6.9+ MB\n"
     ]
    }
   ],
   "source": [
    "df.info()"
   ]
  },
  {
   "cell_type": "markdown",
   "id": "c87b2b8a",
   "metadata": {},
   "source": [
    "**All variables has correct data type.**"
   ]
  },
  {
   "cell_type": "code",
   "execution_count": 7,
   "id": "13edb16c",
   "metadata": {},
   "outputs": [
    {
     "data": {
      "text/plain": [
       "CustomerID                    0.0\n",
       "Name                          0.0\n",
       "Age                           0.0\n",
       "Gender                        0.0\n",
       "Location                      0.0\n",
       "Subscription_Length_Months    0.0\n",
       "Monthly_Bill                  0.0\n",
       "Total_Usage_GB                0.0\n",
       "Churn                         0.0\n",
       "dtype: float64"
      ]
     },
     "execution_count": 7,
     "metadata": {},
     "output_type": "execute_result"
    }
   ],
   "source": [
    "df.isna().sum()/len(df)*100"
   ]
  },
  {
   "cell_type": "markdown",
   "id": "f7f7d2a0",
   "metadata": {},
   "source": [
    "**There is no null value in any of variable.**"
   ]
  },
  {
   "cell_type": "code",
   "execution_count": 8,
   "id": "62b833ab",
   "metadata": {},
   "outputs": [
    {
     "data": {
      "text/plain": [
       "0"
      ]
     },
     "execution_count": 8,
     "metadata": {},
     "output_type": "execute_result"
    }
   ],
   "source": [
    "df.duplicated().sum()"
   ]
  },
  {
   "cell_type": "markdown",
   "id": "928e183a",
   "metadata": {},
   "source": [
    "**There is no duplicate record in datset.**"
   ]
  },
  {
   "cell_type": "code",
   "execution_count": 9,
   "id": "0c5ad6a9",
   "metadata": {},
   "outputs": [
    {
     "data": {
      "text/html": [
       "<div>\n",
       "<style scoped>\n",
       "    .dataframe tbody tr th:only-of-type {\n",
       "        vertical-align: middle;\n",
       "    }\n",
       "\n",
       "    .dataframe tbody tr th {\n",
       "        vertical-align: top;\n",
       "    }\n",
       "\n",
       "    .dataframe thead th {\n",
       "        text-align: right;\n",
       "    }\n",
       "</style>\n",
       "<table border=\"1\" class=\"dataframe\">\n",
       "  <thead>\n",
       "    <tr style=\"text-align: right;\">\n",
       "      <th></th>\n",
       "      <th>CustomerID</th>\n",
       "      <th>Age</th>\n",
       "      <th>Subscription_Length_Months</th>\n",
       "      <th>Monthly_Bill</th>\n",
       "      <th>Total_Usage_GB</th>\n",
       "      <th>Churn</th>\n",
       "    </tr>\n",
       "  </thead>\n",
       "  <tbody>\n",
       "    <tr>\n",
       "      <th>count</th>\n",
       "      <td>100000.000000</td>\n",
       "      <td>100000.000000</td>\n",
       "      <td>100000.000000</td>\n",
       "      <td>100000.000000</td>\n",
       "      <td>100000.000000</td>\n",
       "      <td>100000.000000</td>\n",
       "    </tr>\n",
       "    <tr>\n",
       "      <th>mean</th>\n",
       "      <td>50000.500000</td>\n",
       "      <td>44.027020</td>\n",
       "      <td>12.490100</td>\n",
       "      <td>65.053197</td>\n",
       "      <td>274.393650</td>\n",
       "      <td>0.497790</td>\n",
       "    </tr>\n",
       "    <tr>\n",
       "      <th>std</th>\n",
       "      <td>28867.657797</td>\n",
       "      <td>15.280283</td>\n",
       "      <td>6.926461</td>\n",
       "      <td>20.230696</td>\n",
       "      <td>130.463063</td>\n",
       "      <td>0.499998</td>\n",
       "    </tr>\n",
       "    <tr>\n",
       "      <th>min</th>\n",
       "      <td>1.000000</td>\n",
       "      <td>18.000000</td>\n",
       "      <td>1.000000</td>\n",
       "      <td>30.000000</td>\n",
       "      <td>50.000000</td>\n",
       "      <td>0.000000</td>\n",
       "    </tr>\n",
       "    <tr>\n",
       "      <th>25%</th>\n",
       "      <td>25000.750000</td>\n",
       "      <td>31.000000</td>\n",
       "      <td>6.000000</td>\n",
       "      <td>47.540000</td>\n",
       "      <td>161.000000</td>\n",
       "      <td>0.000000</td>\n",
       "    </tr>\n",
       "    <tr>\n",
       "      <th>50%</th>\n",
       "      <td>50000.500000</td>\n",
       "      <td>44.000000</td>\n",
       "      <td>12.000000</td>\n",
       "      <td>65.010000</td>\n",
       "      <td>274.000000</td>\n",
       "      <td>0.000000</td>\n",
       "    </tr>\n",
       "    <tr>\n",
       "      <th>75%</th>\n",
       "      <td>75000.250000</td>\n",
       "      <td>57.000000</td>\n",
       "      <td>19.000000</td>\n",
       "      <td>82.640000</td>\n",
       "      <td>387.000000</td>\n",
       "      <td>1.000000</td>\n",
       "    </tr>\n",
       "    <tr>\n",
       "      <th>max</th>\n",
       "      <td>100000.000000</td>\n",
       "      <td>70.000000</td>\n",
       "      <td>24.000000</td>\n",
       "      <td>100.000000</td>\n",
       "      <td>500.000000</td>\n",
       "      <td>1.000000</td>\n",
       "    </tr>\n",
       "  </tbody>\n",
       "</table>\n",
       "</div>"
      ],
      "text/plain": [
       "          CustomerID            Age  Subscription_Length_Months  \\\n",
       "count  100000.000000  100000.000000               100000.000000   \n",
       "mean    50000.500000      44.027020                   12.490100   \n",
       "std     28867.657797      15.280283                    6.926461   \n",
       "min         1.000000      18.000000                    1.000000   \n",
       "25%     25000.750000      31.000000                    6.000000   \n",
       "50%     50000.500000      44.000000                   12.000000   \n",
       "75%     75000.250000      57.000000                   19.000000   \n",
       "max    100000.000000      70.000000                   24.000000   \n",
       "\n",
       "        Monthly_Bill  Total_Usage_GB          Churn  \n",
       "count  100000.000000   100000.000000  100000.000000  \n",
       "mean       65.053197      274.393650       0.497790  \n",
       "std        20.230696      130.463063       0.499998  \n",
       "min        30.000000       50.000000       0.000000  \n",
       "25%        47.540000      161.000000       0.000000  \n",
       "50%        65.010000      274.000000       0.000000  \n",
       "75%        82.640000      387.000000       1.000000  \n",
       "max       100.000000      500.000000       1.000000  "
      ]
     },
     "execution_count": 9,
     "metadata": {},
     "output_type": "execute_result"
    }
   ],
   "source": [
    "# Statistical summary of numerical variables\n",
    "\n",
    "df.describe()"
   ]
  },
  {
   "cell_type": "markdown",
   "id": "09996b54",
   "metadata": {},
   "source": [
    "### `Age` \n",
    "\n",
    "* **The average age of the customers is approximately 44 years.**\n",
    "\n",
    "\n",
    "* **The ages of the people varies widely. The youngest person is 18 years old and the oldest person is 70 years old.**\n",
    "\n",
    "\n",
    "* **The majority of customers fall within the range of 31 to 57 years.**\n",
    "\n",
    "\n",
    "* **The spread of ages is represented by a standard deviation of about 15 years.**\n",
    "\n",
    "\n",
    "### `Subscription_Length_Months` \n",
    "\n",
    "* **On average, customers have a subscription length of around 12.5 months.**\n",
    "\n",
    "\n",
    "* **Subscription lengths vary between 1 and 24 months.**\n",
    "\n",
    "\n",
    "* **The majority of customers have subscription lengths ranging from 6 to 19 months.**\n",
    "\n",
    "\n",
    "* **The standard deviation is approximately 6.9 months, indicating some variation in subscription lengths.**\n",
    "\n",
    "\n",
    "### `Monthly_Bill`\n",
    "\n",
    "* **Customers pay an average monthly bill of roughly $65.**\n",
    "\n",
    "\n",
    "* **Monthly bills range from 30 Dollar (minimum) to 100 Dollar (maximum).**\n",
    "\n",
    "\n",
    "* **The majority of customers pay between approximately 47.50 Dollar to 82.64 Dollar per month.**\n",
    "\n",
    "\n",
    "* **Monthly bill amounts have a standard deviation of about $20.23, showing some variability.**\n",
    "\n",
    "\n",
    "### `Total_Usage_GB`\n",
    "\n",
    "* **The average total usage of customers is about 274.4 GB.**\n",
    "\n",
    "\n",
    "* **Total usage varies between 50 GB (minimum) and 500 GB (maximum).**\n",
    "\n",
    "\n",
    "* **Most customers have total usage between 161 GB and 387 GB.**\n",
    "\n",
    "\n",
    "* **Total usage has a standard deviation of approximately 130.46 GB, indicating a significant range.**\n",
    "\n",
    "### `Churn`\n",
    "\n",
    "* **About half of the customers have churned (Churn value = 1), while the other half haven't (Churn value = 0).**\n",
    "\n",
    "\n",
    "* **This is represented by a mean churn rate of approximately 0.5.**\n",
    "\n",
    "\n",
    "* **Churn values are binary (0 or 1), indicating whether a customer has churned or not.**\n",
    "\n",
    "\n",
    "* **Churn rate is evenly distributed due to a mean close to 0.5.**"
   ]
  },
  {
   "cell_type": "code",
   "execution_count": 10,
   "id": "0fda8cd0",
   "metadata": {},
   "outputs": [
    {
     "data": {
      "text/html": [
       "<div>\n",
       "<style scoped>\n",
       "    .dataframe tbody tr th:only-of-type {\n",
       "        vertical-align: middle;\n",
       "    }\n",
       "\n",
       "    .dataframe tbody tr th {\n",
       "        vertical-align: top;\n",
       "    }\n",
       "\n",
       "    .dataframe thead th {\n",
       "        text-align: right;\n",
       "    }\n",
       "</style>\n",
       "<table border=\"1\" class=\"dataframe\">\n",
       "  <thead>\n",
       "    <tr style=\"text-align: right;\">\n",
       "      <th></th>\n",
       "      <th>Name</th>\n",
       "      <th>Gender</th>\n",
       "      <th>Location</th>\n",
       "    </tr>\n",
       "  </thead>\n",
       "  <tbody>\n",
       "    <tr>\n",
       "      <th>count</th>\n",
       "      <td>100000</td>\n",
       "      <td>100000</td>\n",
       "      <td>100000</td>\n",
       "    </tr>\n",
       "    <tr>\n",
       "      <th>unique</th>\n",
       "      <td>100000</td>\n",
       "      <td>2</td>\n",
       "      <td>5</td>\n",
       "    </tr>\n",
       "    <tr>\n",
       "      <th>top</th>\n",
       "      <td>Customer_1</td>\n",
       "      <td>Female</td>\n",
       "      <td>Houston</td>\n",
       "    </tr>\n",
       "    <tr>\n",
       "      <th>freq</th>\n",
       "      <td>1</td>\n",
       "      <td>50216</td>\n",
       "      <td>20157</td>\n",
       "    </tr>\n",
       "  </tbody>\n",
       "</table>\n",
       "</div>"
      ],
      "text/plain": [
       "              Name  Gender Location\n",
       "count       100000  100000   100000\n",
       "unique      100000       2        5\n",
       "top     Customer_1  Female  Houston\n",
       "freq             1   50216    20157"
      ]
     },
     "execution_count": 10,
     "metadata": {},
     "output_type": "execute_result"
    }
   ],
   "source": [
    "# Statistical summary of categoical variables\n",
    "\n",
    "df.describe(include=['object'])"
   ]
  },
  {
   "cell_type": "code",
   "execution_count": 11,
   "id": "68616266",
   "metadata": {},
   "outputs": [
    {
     "data": {
      "text/plain": [
       "Gender\n",
       "Female    50216\n",
       "Male      49784\n",
       "Name: count, dtype: int64"
      ]
     },
     "execution_count": 11,
     "metadata": {},
     "output_type": "execute_result"
    }
   ],
   "source": [
    "df['Gender'].value_counts()"
   ]
  },
  {
   "cell_type": "code",
   "execution_count": 12,
   "id": "4dbf1bae",
   "metadata": {},
   "outputs": [
    {
     "data": {
      "text/plain": [
       "Location\n",
       "Houston        20157\n",
       "Los Angeles    20041\n",
       "Miami          20031\n",
       "Chicago        19958\n",
       "New York       19813\n",
       "Name: count, dtype: int64"
      ]
     },
     "execution_count": 12,
     "metadata": {},
     "output_type": "execute_result"
    }
   ],
   "source": [
    "df['Location'].value_counts()"
   ]
  },
  {
   "cell_type": "markdown",
   "id": "190386dc",
   "metadata": {},
   "source": [
    "### `Gender`\n",
    "\n",
    "* **The dataset includes information about two unique genders.**\n",
    "\n",
    "\n",
    "* **The most common gender is \"Female,\" which appears 50,216 times.**\n",
    "\n",
    "\n",
    "* **The frequency of females in the dataset is greater than that Male.**\n",
    "\n",
    "\n",
    "### `Location`\n",
    "\n",
    "* **The dataset contains information about five unique locations[Houston, Los Angeles, Miami, Chicago, New York].**\n",
    "\n",
    "\n",
    "* **The most frequent location is \"Houston,\" occurring 20,157 times.**"
   ]
  },
  {
   "cell_type": "code",
   "execution_count": null,
   "id": "804da930",
   "metadata": {},
   "outputs": [
    {
     "ename": "IndentationError",
     "evalue": "unexpected indent (3271952051.py, line 2)",
     "output_type": "error",
     "traceback": [
      "\u001b[1;36m  Cell \u001b[1;32mIn[16], line 2\u001b[1;36m\u001b[0m\n\u001b[1;33m    df_corr = df.drop(['CustomerID', 'Name'], axis=1)\u001b[0m\n\u001b[1;37m    ^\u001b[0m\n\u001b[1;31mIndentationError\u001b[0m\u001b[1;31m:\u001b[0m unexpected indent\n"
     ]
    }
   ],
   "source": [
    "# Checking correlation between numerical variables\n",
    " "
   ]
  },
  {
   "cell_type": "code",
   "execution_count": null,
   "id": "f29e0eb8",
   "metadata": {},
   "outputs": [
    {
     "data": {
      "image/png": "[encoded data removed]",
      "text/plain": [
       "<Figure size 1000x500 with 2 Axes>"
      ]
     },
     "metadata": {},
     "output_type": "display_data"
    }
   ],
   "source": [
    "corr_matrix = df.corr()\n",
    "plt.figure(figsize=(10,5)) #(width,height)\n",
    "sns.heatmap(corr_matrix, annot=True, cmap='coolwarm', square=True)\n",
    "plt.title('Correlation Matrix Heatmap')\n",
    "plt.show()"
   ]
  },
  {
   "cell_type": "markdown",
   "id": "9c6531a4",
   "metadata": {},
   "source": [
    "### `Age and Subscription Length` \n",
    "\n",
    "* **Age and subscription length have a very low positive correlation of approximately 0.0034.**\n",
    "\n",
    "\n",
    "* **This indicates that there is almost no linear relationship between a customer's age and the length of their subscription. It means customer's age does not have a strong impact on how long they stay subscribed.**\n",
    "\n",
    "\n",
    "### `Age and Monthly Bill`\n",
    "\n",
    "* **Age and monthly bill amount have an extremely low positive correlation of about 0.0011.**\n",
    "\n",
    "\n",
    "* **This suggests that there is almost no linear relationship between a customer's age and the amount they are billed monthly. It means customer's age does not have a strong impact on the amount they are billed monthly.**\n",
    "\n",
    "\n",
    "### `Age and Total Usage`\n",
    "\n",
    "* **Age and total usage in GB have a very low positive correlation of around 0.0019.**\n",
    "\n",
    "\n",
    "* **This implies that there is almost no linear relationship between a customer's age and the amount of data they use. it means  customer's age does not have a strong impact on how much data they use.**\n",
    "\n",
    "\n",
    "### `Age and Churn`\n",
    "\n",
    "* **Age and churn have a very low positive correlation of about 0.0016.**\n",
    "\n",
    "\n",
    "* **This means that there is almost no linear relationship between a customer's age and their likelihood to churn means customer's age is not a good predictor of whether they will churn.**\n",
    "\n",
    "\n",
    "### `Subscription Length and Monthly Bill`\n",
    "\n",
    "* **Subscription length and monthly bill amount have a very low negative correlation of approximately -0.0053.**\n",
    "\n",
    "\n",
    "* **There is a weak relationship between how long a customer has been subscribed and how much they pay each month.**\n",
    "\n",
    "\n",
    "### `Subscription Length and Total Usage`\n",
    "\n",
    "* **Subscription length and total usage have a very low negative correlation of around -0.0022.**\n",
    "\n",
    "\n",
    "* **This suggests that changes in subscription length are not strongly associated with changes in total data usage.**\n",
    "\n",
    "\n",
    "### `Subscription Length and Churn`\n",
    "\n",
    "* **Subscription length and churn have a very low positive correlation of about 0.0023.** \n",
    "\n",
    "\n",
    "* **There is almost no linear relationship between subscription length and churn behavior means length of a subscription does not have a strong impact on whether a customer churns.**\n",
    "\n",
    "\n",
    "### `Monthly Bill and Total Usage`\n",
    "\n",
    "* **Monthly bill amount and total usage have an extremely low positive correlation of about 0.0032.**\n",
    "\n",
    "\n",
    "* **This indicates that there is almost no linear relationship between a customer's monthly bill and their total data usage. It means the amount of data a customer uses does not have a strong impact on their monthly bill.**\n",
    "\n",
    "### `Monthly Bill and Churn`\n",
    "\n",
    "* **Monthly bill amount and churn have an extremely low negative correlation of approximately -0.0002.**\n",
    "\n",
    "\n",
    "* **This suggests that there is hardly any linear relationship between monthly bill amount and churn behavior.** \n",
    "\n",
    "\n",
    "* **The amount a customer is billed monthly does not have a strong impact on whether they churn.**\n",
    "\n",
    "### `Total Usage and Churn`\n",
    "\n",
    "* **Total usage and churn have a very low negative correlation of about -0.0028.**\n",
    "\n",
    "\n",
    "* **There is almost no linear relationship between a customer's data usage and their likelihood to churn.**\n",
    "\n",
    "\n",
    "* **The amount of data a customer uses does not have a strong impact on whether they churn.**"
   ]
  },
  {
   "cell_type": "code",
   "execution_count": null,
   "id": "bb1f3054",
   "metadata": {},
   "outputs": [],
   "source": [
    "df.drop(columns=['CustomerID', 'Name'],axis=1,inplace=True)"
   ]
  },
  {
   "cell_type": "code",
   "execution_count": null,
   "id": "82275164",
   "metadata": {},
   "outputs": [
    {
     "data": {
      "text/plain": [
       "Index(['Age', 'Gender', 'Location', 'Subscription_Length_Months',\n",
       "       'Monthly_Bill', 'Total_Usage_GB', 'Churn'],\n",
       "      dtype='object')"
      ]
     },
     "execution_count": 114,
     "metadata": {},
     "output_type": "execute_result"
    }
   ],
   "source": [
    "df.columns"
   ]
  },
  {
   "cell_type": "markdown",
   "id": "d88a955b",
   "metadata": {},
   "source": [
    "**Removed ['CustomerID' & 'Name'] variables becuase they are irrelevant for analysis. Now dataset left with 6 variables**"
   ]
  },
  {
   "cell_type": "code",
   "execution_count": null,
   "id": "c306b752",
   "metadata": {},
   "outputs": [
    {
     "name": "stdout",
     "output_type": "stream",
     "text": [
      "Unique values in 'Age': [63 62 24 36 46 67 30 20 53 50 44 34 28 42 55 43 31 41 58 64 70 18 25 27\n",
      " 66 29 60 26 45 19 37 49 38 57 47 48 40 21 33 51 35 69 61 52 39 56 59 65\n",
      " 22 54 68 32 23]\n",
      "\n",
      "Unique values in 'Gender': ['Male' 'Female']\n",
      "\n",
      "Unique values in 'Location': ['Los Angeles' 'New York' 'Miami' 'Chicago' 'Houston']\n",
      "\n",
      "Unique values in 'Subscription_Length_Months': [17  1  5  3 19 15 10 12 20 13  8 23  2  4 18  9 14 16  6  7 24 22 11 21]\n",
      "\n",
      "Unique values in 'Monthly_Bill': [73.36 48.76 85.47 ... 75.21 41.98 83.55]\n",
      "\n",
      "Unique values in 'Total_Usage_GB': [236 172 460 297 266 456 269 396 150 383 442 295 148 239 233 231 198 354\n",
      " 429 243 270 389 226 393  89 183 135 185 151 115 194 278 423 202 495 162\n",
      " 101 294 122 305 212 220 253 411 447 218 221 166  64  67 391 232 298 334\n",
      " 326 459 371 299 376 214 329  50 444 113  76 134 184 319 235  85 332  73\n",
      " 369 308 446 321  83 114 296 102 215 169 225 140  84 463 402 468 375 366\n",
      " 404 471 204 320 178 149 361 304 281 177 117 137 322 427 403 237 439 336\n",
      " 344 288 257 196 365 419 111 192 244 287 395 213 109 286 283 230 491 274\n",
      " 335 462 407 126 199 351 261 496 480 400 303 197 181 474 348 112 457  54\n",
      " 397 100 318 242 327 476 256 241 466 438  51 165 120 493  59 188 339 167\n",
      " 301 209 311 190 345 284 390  72 258 358 136 280  55 309 388  52 478 401\n",
      " 472  65 163 488 497  71 216 229 271 223 263 255 145 203 372 443 306 307\n",
      " 386 448 377 482 324 357 187 394 123 106  80 211  78 499 498 424 325 119\n",
      " 143 153 437 492 406  69 272 352 125  82 160 333 104 247 405 353  63 289\n",
      "  88 346  91 385 380 431 364  79 300 374  86 290 265 433 469 453 224 421\n",
      " 251 485 180 171  95  93 350  58 200 420 132 428 479  96 103 129 417  99\n",
      " 430  75  53 382 412 268 410  94 315 387 116 489 108 208 313 127 222 451\n",
      "  56 139 282 138 141 156 373 157 467  68 414 360 144 273 217 189 118 155\n",
      "  62 413 154 458 449 490 464 379 254 131  92 195 450 347 191 425 432 384\n",
      "  57 494 173 210 363 130 487 455 105 399 323  61 341 426 240 302 176 152\n",
      " 331 440 276  87 291 193  90 500 170 174 182 359 408 454 158 328 436 312\n",
      " 338  60 362 205 416 483 415 477 484 252 250 164 146 161 234 473 317  77\n",
      " 267 342 110 343 133 330 367 147  81 277 310 392 349 314 107 259 228 168\n",
      " 246 219  98 121 142 238 206  97 381 245 175 124 292 340 316 465 470 475\n",
      " 248 445 452 249 337  66 418 201 227 422 481 355 279 435 275 260  70 186\n",
      " 159 368 179 262 370  74 378 128 461 293 441 434 207 356 398 285 409 486\n",
      " 264]\n",
      "\n",
      "Unique values in 'Churn': [0 1]\n",
      "\n",
      "--------------------------------------------------\n",
      "Missing values:\n",
      "Age                           0\n",
      "Gender                        0\n",
      "Location                      0\n",
      "Subscription_Length_Months    0\n",
      "Monthly_Bill                  0\n",
      "Total_Usage_GB                0\n",
      "Churn                         0\n",
      "dtype: int64\n",
      "\n",
      "--------------------------------------------------\n",
      "Duplicate values: 0\n",
      "\n",
      "--------------------------------------------------\n",
      "Shape of Dataset: (100000, 7)\n",
      "\n",
      "--------------------------------------------------\n",
      "Columns of Datset: Index(['Age', 'Gender', 'Location', 'Subscription_Length_Months',\n",
      "       'Monthly_Bill', 'Total_Usage_GB', 'Churn'],\n",
      "      dtype='object')\n",
      "\n",
      "--------------------------------------------------\n",
      "\n",
      "Data types:\n",
      "Age                             int64\n",
      "Gender                         object\n",
      "Location                       object\n",
      "Subscription_Length_Months      int64\n",
      "Monthly_Bill                  float64\n",
      "Total_Usage_GB                  int64\n",
      "Churn                           int64\n",
      "dtype: object\n",
      "\n"
     ]
    }
   ],
   "source": [
    "# Check for typo's & suspicious values and rechecking dataset \n",
    "\n",
    "for column in df.columns:\n",
    "    unique_values = df[column].unique()\n",
    "    print(f\"Unique values in '{column}': {unique_values}\")\n",
    "    print()\n",
    "\n",
    "missing_values = df.isnull().sum()\n",
    "data_types = df.dtypes\n",
    "\n",
    "print('-'*50)\n",
    "print(\"Missing values:\")\n",
    "print(missing_values)\n",
    "print()\n",
    "\n",
    "x = df.duplicated().sum()\n",
    "print('-'*50)\n",
    "print(\"Duplicate values:\", x)\n",
    "print()\n",
    "\n",
    "\n",
    "y = df.shape\n",
    "print('-'*50)\n",
    "print(\"Shape of Dataset:\", y)\n",
    "print()\n",
    "\n",
    "z = df.columns\n",
    "print('-'*50)\n",
    "print(\"Columns of Datset:\", z)\n",
    "print()\n",
    "\n",
    "print('-'*50)\n",
    "print(\"\\nData types:\")\n",
    "print(data_types)\n",
    "print()"
   ]
  },
  {
   "cell_type": "markdown",
   "id": "cbb7859c",
   "metadata": {},
   "source": [
    "**The dataset has been cleaned and no suspicious values or typos have been found.**"
   ]
  },
  {
   "cell_type": "markdown",
   "id": "8e9a9a41",
   "metadata": {},
   "source": [
    "# `Outliers Treatment`\n",
    "\n",
    "It is important to find and remove unusual or extreme data points, also known as outliers. Outliers can affect the model's understanding of the data and lead to wrong predictions. By identifying and removing outliers, the model becomes more accurate and reliable, and can better capture the actual patterns in the data."
   ]
  },
  {
   "cell_type": "code",
   "execution_count": null,
   "id": "e1f660d4",
   "metadata": {},
   "outputs": [
    {
     "data": {
      "image/png": "[encoded data removed]",
      "text/plain": [
       "<Figure size 700x600 with 1 Axes>"
      ]
     },
     "metadata": {},
     "output_type": "display_data"
    }
   ],
   "source": [
    "# Adjust figure size based on the number of columns\n",
    "num_columns = len(df.columns)\n",
    "fig, ax = plt.subplots(figsize=(10, 6))\n",
    "if num_columns > 16:\n",
    "    fig.set_size_inches(10, num_columns * 0.6)\n",
    "else:\n",
    "    fig.set_size_inches(num_columns, 6)\n",
    "\n",
    "# Create a boxplot for each column\n",
    "df.boxplot(ax=ax)\n",
    "\n",
    "# Set the title and labels\n",
    "plt.title(\"Boxplot of Columns\")\n",
    "plt.xlabel(\"Columns\")\n",
    "plt.ylabel(\"Values\")\n",
    "\n",
    "# Rotate the x-axis labels for better readability (optional)\n",
    "plt.xticks(rotation=90)\n",
    "\n",
    "# Show the plot\n",
    "plt.show()"
   ]
  },
  {
   "cell_type": "markdown",
   "id": "8f3de4af",
   "metadata": {},
   "source": [
    "**There is no outlier present in any of the variable.**"
   ]
  },
  {
   "cell_type": "code",
   "execution_count": null,
   "id": "6193a6bf",
   "metadata": {},
   "outputs": [],
   "source": [
    "# Make a copy of cleaned data\n",
    "\n",
    "df_cleaned = df.copy()"
   ]
  },
  {
   "cell_type": "markdown",
   "id": "b09da425",
   "metadata": {},
   "source": [
    "# `Feature Encoding`\n",
    "\n",
    "Feature encoding techniques converts categorical data (like labels) into numbers that algorithms understand. This is essential because algorithms work with numbers, ensuring valuable info from categories isn't lost."
   ]
  },
  {
   "cell_type": "code",
   "execution_count": null,
   "id": "868b4e5d",
   "metadata": {},
   "outputs": [
    {
     "data": {
      "text/plain": [
       "Index(['Gender', 'Location'], dtype='object')"
      ]
     },
     "execution_count": 118,
     "metadata": {},
     "output_type": "execute_result"
    }
   ],
   "source": [
    "categorical_columns = df.select_dtypes(include=['object']).columns\n",
    "categorical_columns"
   ]
  },
  {
   "cell_type": "markdown",
   "id": "b68a4328",
   "metadata": {},
   "source": [
    "**There are two variables, which needs to be encode.**"
   ]
  },
  {
   "cell_type": "code",
   "execution_count": null,
   "id": "6a7d7273",
   "metadata": {},
   "outputs": [],
   "source": [
    "df = pd.get_dummies(df, columns=['Gender', 'Location'], drop_first = True)"
   ]
  },
  {
   "cell_type": "code",
   "execution_count": null,
   "id": "a2bdab30",
   "metadata": {},
   "outputs": [
    {
     "data": {
      "text/html": [
       "<div>\n",
       "<style scoped>\n",
       "    .dataframe tbody tr th:only-of-type {\n",
       "        vertical-align: middle;\n",
       "    }\n",
       "\n",
       "    .dataframe tbody tr th {\n",
       "        vertical-align: top;\n",
       "    }\n",
       "\n",
       "    .dataframe thead th {\n",
       "        text-align: right;\n",
       "    }\n",
       "</style>\n",
       "<table border=\"1\" class=\"dataframe\">\n",
       "  <thead>\n",
       "    <tr style=\"text-align: right;\">\n",
       "      <th></th>\n",
       "      <th>Age</th>\n",
       "      <th>Subscription_Length_Months</th>\n",
       "      <th>Monthly_Bill</th>\n",
       "      <th>Total_Usage_GB</th>\n",
       "      <th>Churn</th>\n",
       "      <th>Gender_Male</th>\n",
       "      <th>Location_Houston</th>\n",
       "      <th>Location_Los Angeles</th>\n",
       "      <th>Location_Miami</th>\n",
       "      <th>Location_New York</th>\n",
       "    </tr>\n",
       "  </thead>\n",
       "  <tbody>\n",
       "    <tr>\n",
       "      <th>0</th>\n",
       "      <td>63</td>\n",
       "      <td>17</td>\n",
       "      <td>73.36</td>\n",
       "      <td>236</td>\n",
       "      <td>0</td>\n",
       "      <td>True</td>\n",
       "      <td>False</td>\n",
       "      <td>True</td>\n",
       "      <td>False</td>\n",
       "      <td>False</td>\n",
       "    </tr>\n",
       "    <tr>\n",
       "      <th>1</th>\n",
       "      <td>62</td>\n",
       "      <td>1</td>\n",
       "      <td>48.76</td>\n",
       "      <td>172</td>\n",
       "      <td>0</td>\n",
       "      <td>False</td>\n",
       "      <td>False</td>\n",
       "      <td>False</td>\n",
       "      <td>False</td>\n",
       "      <td>True</td>\n",
       "    </tr>\n",
       "    <tr>\n",
       "      <th>2</th>\n",
       "      <td>24</td>\n",
       "      <td>5</td>\n",
       "      <td>85.47</td>\n",
       "      <td>460</td>\n",
       "      <td>0</td>\n",
       "      <td>False</td>\n",
       "      <td>False</td>\n",
       "      <td>True</td>\n",
       "      <td>False</td>\n",
       "      <td>False</td>\n",
       "    </tr>\n",
       "    <tr>\n",
       "      <th>3</th>\n",
       "      <td>36</td>\n",
       "      <td>3</td>\n",
       "      <td>97.94</td>\n",
       "      <td>297</td>\n",
       "      <td>1</td>\n",
       "      <td>False</td>\n",
       "      <td>False</td>\n",
       "      <td>False</td>\n",
       "      <td>True</td>\n",
       "      <td>False</td>\n",
       "    </tr>\n",
       "    <tr>\n",
       "      <th>4</th>\n",
       "      <td>46</td>\n",
       "      <td>19</td>\n",
       "      <td>58.14</td>\n",
       "      <td>266</td>\n",
       "      <td>0</td>\n",
       "      <td>False</td>\n",
       "      <td>False</td>\n",
       "      <td>False</td>\n",
       "      <td>True</td>\n",
       "      <td>False</td>\n",
       "    </tr>\n",
       "  </tbody>\n",
       "</table>\n",
       "</div>"
      ],
      "text/plain": [
       "   Age  Subscription_Length_Months  Monthly_Bill  Total_Usage_GB  Churn  \\\n",
       "0   63                          17         73.36             236      0   \n",
       "1   62                           1         48.76             172      0   \n",
       "2   24                           5         85.47             460      0   \n",
       "3   36                           3         97.94             297      1   \n",
       "4   46                          19         58.14             266      0   \n",
       "\n",
       "   Gender_Male  Location_Houston  Location_Los Angeles  Location_Miami  \\\n",
       "0         True             False                  True           False   \n",
       "1        False             False                 False           False   \n",
       "2        False             False                  True           False   \n",
       "3        False             False                 False            True   \n",
       "4        False             False                 False            True   \n",
       "\n",
       "   Location_New York  \n",
       "0              False  \n",
       "1               True  \n",
       "2              False  \n",
       "3              False  \n",
       "4              False  "
      ]
     },
     "execution_count": 120,
     "metadata": {},
     "output_type": "execute_result"
    }
   ],
   "source": [
    "df.head()"
   ]
  },
  {
   "cell_type": "markdown",
   "id": "3536f146",
   "metadata": {},
   "source": [
    "\n",
    "**Here I apply One Hot Encoding becuase both variables have less number of categories.**"
   ]
  },
  {
   "cell_type": "code",
   "execution_count": null,
   "id": "3e7ce710",
   "metadata": {},
   "outputs": [
    {
     "name": "stdout",
     "output_type": "stream",
     "text": [
      "<class 'pandas.core.frame.DataFrame'>\n",
      "RangeIndex: 100000 entries, 0 to 99999\n",
      "Data columns (total 10 columns):\n",
      " #   Column                      Non-Null Count   Dtype  \n",
      "---  ------                      --------------   -----  \n",
      " 0   Age                         100000 non-null  int64  \n",
      " 1   Subscription_Length_Months  100000 non-null  int64  \n",
      " 2   Monthly_Bill                100000 non-null  float64\n",
      " 3   Total_Usage_GB              100000 non-null  int64  \n",
      " 4   Churn                       100000 non-null  int64  \n",
      " 5   Gender_Male                 100000 non-null  bool   \n",
      " 6   Location_Houston            100000 non-null  bool   \n",
      " 7   Location_Los Angeles        100000 non-null  bool   \n",
      " 8   Location_Miami              100000 non-null  bool   \n",
      " 9   Location_New York           100000 non-null  bool   \n",
      "dtypes: bool(5), float64(1), int64(4)\n",
      "memory usage: 4.3 MB\n"
     ]
    }
   ],
   "source": [
    "df.info()"
   ]
  },
  {
   "cell_type": "markdown",
   "id": "004d0106",
   "metadata": {},
   "source": [
    "**Data types of all variables is fine.**"
   ]
  },
  {
   "cell_type": "markdown",
   "id": "23e3847f",
   "metadata": {},
   "source": [
    "# `Checking Distribution of data`\n",
    "\n",
    "* In machine learning, it is important to check how the data is spread across different values. This is called the distribution of data.\n",
    "\n",
    "\n",
    "* If the data is skewed, meaning that there are more data points in one area than others, it can affect the performance of our models. For example, if the data is skewed towards the majority class, the model might perform well on the majority class but poorly on the minority class.\n",
    "\n",
    "\n",
    "* By understanding the data distribution, we can choose appropriate strategies to handle imbalances, outliers, or other issues. This will ensure that our model works well across all scenarios and accurately represents the underlying patterns in the data."
   ]
  },
  {
   "cell_type": "code",
   "execution_count": null,
   "id": "252af253",
   "metadata": {},
   "outputs": [
    {
     "data": {
      "text/plain": [
       "(100000, 10)"
      ]
     },
     "execution_count": 122,
     "metadata": {},
     "output_type": "execute_result"
    }
   ],
   "source": [
    "df.shape"
   ]
  },
  {
   "cell_type": "code",
   "execution_count": null,
   "id": "5dc90af4",
   "metadata": {},
   "outputs": [
    {
     "name": "stdout",
     "output_type": "stream",
     "text": [
      "Number of bins according to Sturges' Rule: 17\n"
     ]
    }
   ],
   "source": [
    "# Select appropriate bin size using sturges_rule\n",
    "\n",
    "import math\n",
    "\n",
    "def sturges_rule(num_data_points):\n",
    "    k = 1 + math.log2(num_data_points)\n",
    "    return int(k)\n",
    "\n",
    "# Example usage\n",
    "num_data_points = 100000\n",
    "bins = sturges_rule(num_data_points)\n",
    "print(\"Number of bins according to Sturges' Rule:\", bins)"
   ]
  },
  {
   "cell_type": "code",
   "execution_count": null,
   "id": "1b92b6a7",
   "metadata": {},
   "outputs": [
    {
     "data": {
      "image/png": "[encoded data removed]",
      "text/plain": [
       "<Figure size 600x400 with 1 Axes>"
      ]
     },
     "metadata": {},
     "output_type": "display_data"
    },
    {
     "data": {
      "image/png": "[encoded data removed]",
      "text/plain": [
       "<Figure size 600x400 with 1 Axes>"
      ]
     },
     "metadata": {},
     "output_type": "display_data"
    },
    {
     "data": {
      "image/png": "[encoded data removed]",
      "text/plain": [
       "<Figure size 600x400 with 1 Axes>"
      ]
     },
     "metadata": {},
     "output_type": "display_data"
    },
    {
     "data": {
      "image/png": "[encoded data removed]",
      "text/plain": [
       "<Figure size 600x400 with 1 Axes>"
      ]
     },
     "metadata": {},
     "output_type": "display_data"
    }
   ],
   "source": [
    "# check distribution of all continuous variables\n",
    "continuous_vars = df.select_dtypes(include=['float64', 'int64']).columns\n",
    "\n",
    "# Exclude binary variables from the list\n",
    "binary_vars = [var for var in continuous_vars if df[var].nunique() == 2]\n",
    "\n",
    "# Exclude binary variables from the continuous variables\n",
    "continuous_vars = [var for var in continuous_vars if var not in binary_vars]\n",
    "\n",
    "# Plot the distribution of each continuous variable\n",
    "for var in continuous_vars:\n",
    "    plt.figure(figsize=(6, 4))\n",
    "    sns.histplot(data=df, x=var, bins=17, kde=True)\n",
    "    plt.xlabel(var)\n",
    "    plt.ylabel('Frequency')\n",
    "    plt.title(f'Distribution of {var}')\n",
    "    plt.show()"
   ]
  },
  {
   "cell_type": "code",
   "execution_count": null,
   "id": "8bd2974f",
   "metadata": {},
   "outputs": [
    {
     "data": {
      "text/plain": [
       "Age                          -0.002689\n",
       "Subscription_Length_Months   -0.001655\n",
       "Monthly_Bill                 -0.000326\n",
       "Total_Usage_GB                0.007113\n",
       "dtype: float64"
      ]
     },
     "execution_count": 125,
     "metadata": {},
     "output_type": "execute_result"
    }
   ],
   "source": [
    "# check skewness of all continuous variables\n",
    "df[continuous_vars].skew()"
   ]
  },
  {
   "cell_type": "markdown",
   "id": "5b766e7a",
   "metadata": {},
   "source": [
    "**All variables are approx normally distributed.**"
   ]
  },
  {
   "cell_type": "markdown",
   "id": "f0e2fd60",
   "metadata": {},
   "source": [
    "# `Check colinearity between variables`\n",
    "\n",
    "* In machine learning, it is important to check if there are variables that are highly correlated with each other. If there are, then we should remove one of them to improve the stability and interpretability of the model.\n",
    "\n",
    "\n",
    "* Highly correlated variables are redundant, meaning that they provide the same information. This can cause the model to give too much importance to one variable, leading to overfitting. Overfitting is when the model learns the training data too well and does not generalize well to new data.\n",
    "\n",
    "\n",
    "* By removing highly correlated variables, we can make the model focus on distinct and meaningful information. This makes the model more reliable and understandable. It also helps to prevent multicollinearity, which is a problem that can distort the model's predictions and insights."
   ]
  },
  {
   "cell_type": "code",
   "execution_count": null,
   "id": "b36ffdb4",
   "metadata": {},
   "outputs": [
    {
     "data": {
      "image/png": "[encoded data removed]",
      "text/plain": [
       "<Figure size 1400x800 with 2 Axes>"
      ]
     },
     "metadata": {},
     "output_type": "display_data"
    }
   ],
   "source": [
    "#checking colinearity between variables\n",
    "\n",
    "corr_matrix = df.corr()\n",
    "\n",
    "plt.figure(figsize=(14,8)) #(width,height)\n",
    "sns.heatmap(corr_matrix, annot=True, cmap='coolwarm', square=True)\n",
    "plt.title('Correlation Matrix Heatmap')\n",
    "plt.show()"
   ]
  },
  {
   "cell_type": "markdown",
   "id": "ebb5a9f9",
   "metadata": {},
   "source": [
    "**No pair of variable is highly corrleated.**"
   ]
  },
  {
   "cell_type": "markdown",
   "id": "4305d7b8",
   "metadata": {},
   "source": [
    "# `Diving data into train and test set` "
   ]
  },
  {
   "cell_type": "code",
   "execution_count": null,
   "id": "03a06ca8",
   "metadata": {},
   "outputs": [],
   "source": [
    "x = df.drop(\"Churn\",axis=1)\n",
    "y = df['Churn']"
   ]
  },
  {
   "cell_type": "code",
   "execution_count": null,
   "id": "3b609f9b",
   "metadata": {},
   "outputs": [],
   "source": [
    "from sklearn.model_selection import train_test_split\n",
    "\n",
    "X_train, X_test, y_train, y_test = train_test_split(x, y, test_size=0.3, random_state=42)"
   ]
  },
  {
   "cell_type": "markdown",
   "id": "ae6f0cc2",
   "metadata": {},
   "source": [
    "**Take 70% data for training and 30% for testing.**"
   ]
  },
  {
   "cell_type": "code",
   "execution_count": null,
   "id": "7ac957d2",
   "metadata": {},
   "outputs": [
    {
     "data": {
      "text/plain": [
       "((70000, 9), (70000,))"
      ]
     },
     "execution_count": 129,
     "metadata": {},
     "output_type": "execute_result"
    }
   ],
   "source": [
    "X_train.shape, y_train.shape"
   ]
  },
  {
   "cell_type": "code",
   "execution_count": null,
   "id": "de22f658",
   "metadata": {},
   "outputs": [
    {
     "data": {
      "text/plain": [
       "((30000, 9), (30000,))"
      ]
     },
     "execution_count": 130,
     "metadata": {},
     "output_type": "execute_result"
    }
   ],
   "source": [
    "X_test.shape, y_test.shape"
   ]
  },
  {
   "cell_type": "markdown",
   "id": "51bb2d34",
   "metadata": {},
   "source": [
    "# `Feature Scaling` \n",
    "\n",
    "* In machine learning, it is important to make sure that all features are on the same scale. This is called feature scaling.\n",
    "\n",
    "\n",
    "* Feature scaling is important because it ensures that no single feature dominates the learning process. This is because many machine learning algorithms use distance-based calculations, and if features are on different scales, those with larger values could disproportionately influence the results.\n",
    "\n",
    "\n",
    "* Feature scaling also helps to improve the convergence of gradient-based optimization algorithms, which can lead to faster training.\n",
    "\n",
    "\n",
    "* By scaling features, we create a balanced playing field for each feature. This allows the algorithm to make fair and accurate comparisons, which can lead to better model performance."
   ]
  },
  {
   "cell_type": "code",
   "execution_count": null,
   "id": "244aeef4",
   "metadata": {},
   "outputs": [
    {
     "data": {
      "text/html": [
       "<div>\n",
       "<style scoped>\n",
       "    .dataframe tbody tr th:only-of-type {\n",
       "        vertical-align: middle;\n",
       "    }\n",
       "\n",
       "    .dataframe tbody tr th {\n",
       "        vertical-align: top;\n",
       "    }\n",
       "\n",
       "    .dataframe thead th {\n",
       "        text-align: right;\n",
       "    }\n",
       "</style>\n",
       "<table border=\"1\" class=\"dataframe\">\n",
       "  <thead>\n",
       "    <tr style=\"text-align: right;\">\n",
       "      <th></th>\n",
       "      <th>Age</th>\n",
       "      <th>Subscription_Length_Months</th>\n",
       "      <th>Monthly_Bill</th>\n",
       "      <th>Total_Usage_GB</th>\n",
       "      <th>Churn</th>\n",
       "      <th>Gender_Male</th>\n",
       "      <th>Location_Houston</th>\n",
       "      <th>Location_Los Angeles</th>\n",
       "      <th>Location_Miami</th>\n",
       "      <th>Location_New York</th>\n",
       "    </tr>\n",
       "  </thead>\n",
       "  <tbody>\n",
       "    <tr>\n",
       "      <th>0</th>\n",
       "      <td>63</td>\n",
       "      <td>17</td>\n",
       "      <td>73.36</td>\n",
       "      <td>236</td>\n",
       "      <td>0</td>\n",
       "      <td>True</td>\n",
       "      <td>False</td>\n",
       "      <td>True</td>\n",
       "      <td>False</td>\n",
       "      <td>False</td>\n",
       "    </tr>\n",
       "    <tr>\n",
       "      <th>1</th>\n",
       "      <td>62</td>\n",
       "      <td>1</td>\n",
       "      <td>48.76</td>\n",
       "      <td>172</td>\n",
       "      <td>0</td>\n",
       "      <td>False</td>\n",
       "      <td>False</td>\n",
       "      <td>False</td>\n",
       "      <td>False</td>\n",
       "      <td>True</td>\n",
       "    </tr>\n",
       "    <tr>\n",
       "      <th>2</th>\n",
       "      <td>24</td>\n",
       "      <td>5</td>\n",
       "      <td>85.47</td>\n",
       "      <td>460</td>\n",
       "      <td>0</td>\n",
       "      <td>False</td>\n",
       "      <td>False</td>\n",
       "      <td>True</td>\n",
       "      <td>False</td>\n",
       "      <td>False</td>\n",
       "    </tr>\n",
       "    <tr>\n",
       "      <th>3</th>\n",
       "      <td>36</td>\n",
       "      <td>3</td>\n",
       "      <td>97.94</td>\n",
       "      <td>297</td>\n",
       "      <td>1</td>\n",
       "      <td>False</td>\n",
       "      <td>False</td>\n",
       "      <td>False</td>\n",
       "      <td>True</td>\n",
       "      <td>False</td>\n",
       "    </tr>\n",
       "    <tr>\n",
       "      <th>4</th>\n",
       "      <td>46</td>\n",
       "      <td>19</td>\n",
       "      <td>58.14</td>\n",
       "      <td>266</td>\n",
       "      <td>0</td>\n",
       "      <td>False</td>\n",
       "      <td>False</td>\n",
       "      <td>False</td>\n",
       "      <td>True</td>\n",
       "      <td>False</td>\n",
       "    </tr>\n",
       "  </tbody>\n",
       "</table>\n",
       "</div>"
      ],
      "text/plain": [
       "   Age  Subscription_Length_Months  Monthly_Bill  Total_Usage_GB  Churn  \\\n",
       "0   63                          17         73.36             236      0   \n",
       "1   62                           1         48.76             172      0   \n",
       "2   24                           5         85.47             460      0   \n",
       "3   36                           3         97.94             297      1   \n",
       "4   46                          19         58.14             266      0   \n",
       "\n",
       "   Gender_Male  Location_Houston  Location_Los Angeles  Location_Miami  \\\n",
       "0         True             False                  True           False   \n",
       "1        False             False                 False           False   \n",
       "2        False             False                  True           False   \n",
       "3        False             False                 False            True   \n",
       "4        False             False                 False            True   \n",
       "\n",
       "   Location_New York  \n",
       "0              False  \n",
       "1               True  \n",
       "2              False  \n",
       "3              False  \n",
       "4              False  "
      ]
     },
     "execution_count": 131,
     "metadata": {},
     "output_type": "execute_result"
    }
   ],
   "source": [
    "df.head()"
   ]
  },
  {
   "cell_type": "code",
   "execution_count": null,
   "id": "d0cfed04",
   "metadata": {},
   "outputs": [
    {
     "name": "stdout",
     "output_type": "stream",
     "text": [
      "Columns with values greater than 1 or less than 0:\n",
      "['Age', 'Subscription_Length_Months', 'Monthly_Bill', 'Total_Usage_GB']\n"
     ]
    }
   ],
   "source": [
    "columns_to_check = df.columns\n",
    "columns_needs_to_be_scaled = []\n",
    "\n",
    "for column in columns_to_check:\n",
    "    if (df[column] > 1).any() or (df[column] < 0).any():\n",
    "        columns_needs_to_be_scaled.append(column)\n",
    "\n",
    "print(\"Columns with values greater than 1 or less than 0:\")\n",
    "print(columns_needs_to_be_scaled)"
   ]
  },
  {
   "cell_type": "markdown",
   "id": "9f05c1f9",
   "metadata": {},
   "source": [
    "**These four columns need scaling, ['Age', 'Subscription_Length_Months', 'Monthly_Bill', 'Total_Usage_GB']. I decide to use MinMax Scaler becuase majority of variables in binary.**"
   ]
  },
  {
   "cell_type": "code",
   "execution_count": null,
   "id": "f39c5dbe",
   "metadata": {},
   "outputs": [],
   "source": [
    "from sklearn.preprocessing import MinMaxScaler\n",
    "\n",
    "columns_to_scale = ['Age', 'Subscription_Length_Months', 'Monthly_Bill', 'Total_Usage_GB']\n",
    "\n",
    "scaler = MinMaxScaler()\n",
    "\n",
    "X_train[columns_to_scale] = scaler.fit_transform(X_train[columns_to_scale])\n",
    "\n",
    "X_test[columns_to_scale] = scaler.transform(X_test[columns_to_scale])"
   ]
  },
  {
   "cell_type": "markdown",
   "id": "4edb5d53",
   "metadata": {},
   "source": [
    "* We use the .fit_transform() method on training data to calculate the scaling parameters (such as mean and standard deviation) and then apply the transformation. This ensures that the training data is scaled properly.\n",
    "\n",
    "\n",
    "* However, we use the .transform() method on test data because we do not want to change the scaling parameters based on the test data. Instead, we want to apply the same scaling that was learned from the training data. This maintains the consistency of scaling between training and testing data, which is more realistic and prevents the model from learning information from the test data during training."
   ]
  },
  {
   "cell_type": "code",
   "execution_count": null,
   "id": "cef1ac85",
   "metadata": {},
   "outputs": [
    {
     "data": {
      "text/html": [
       "<div>\n",
       "<style scoped>\n",
       "    .dataframe tbody tr th:only-of-type {\n",
       "        vertical-align: middle;\n",
       "    }\n",
       "\n",
       "    .dataframe tbody tr th {\n",
       "        vertical-align: top;\n",
       "    }\n",
       "\n",
       "    .dataframe thead th {\n",
       "        text-align: right;\n",
       "    }\n",
       "</style>\n",
       "<table border=\"1\" class=\"dataframe\">\n",
       "  <thead>\n",
       "    <tr style=\"text-align: right;\">\n",
       "      <th></th>\n",
       "      <th>Age</th>\n",
       "      <th>Subscription_Length_Months</th>\n",
       "      <th>Monthly_Bill</th>\n",
       "      <th>Total_Usage_GB</th>\n",
       "      <th>Gender_Male</th>\n",
       "      <th>Location_Houston</th>\n",
       "      <th>Location_Los Angeles</th>\n",
       "      <th>Location_Miami</th>\n",
       "      <th>Location_New York</th>\n",
       "    </tr>\n",
       "  </thead>\n",
       "  <tbody>\n",
       "    <tr>\n",
       "      <th>76513</th>\n",
       "      <td>0.134615</td>\n",
       "      <td>0.521739</td>\n",
       "      <td>0.973425</td>\n",
       "      <td>0.928889</td>\n",
       "      <td>True</td>\n",
       "      <td>False</td>\n",
       "      <td>True</td>\n",
       "      <td>False</td>\n",
       "      <td>False</td>\n",
       "    </tr>\n",
       "    <tr>\n",
       "      <th>60406</th>\n",
       "      <td>0.692308</td>\n",
       "      <td>0.043478</td>\n",
       "      <td>0.598657</td>\n",
       "      <td>0.740000</td>\n",
       "      <td>False</td>\n",
       "      <td>True</td>\n",
       "      <td>False</td>\n",
       "      <td>False</td>\n",
       "      <td>False</td>\n",
       "    </tr>\n",
       "    <tr>\n",
       "      <th>27322</th>\n",
       "      <td>0.269231</td>\n",
       "      <td>0.826087</td>\n",
       "      <td>0.509358</td>\n",
       "      <td>0.837778</td>\n",
       "      <td>True</td>\n",
       "      <td>False</td>\n",
       "      <td>False</td>\n",
       "      <td>False</td>\n",
       "      <td>False</td>\n",
       "    </tr>\n",
       "    <tr>\n",
       "      <th>53699</th>\n",
       "      <td>0.826923</td>\n",
       "      <td>0.478261</td>\n",
       "      <td>0.760109</td>\n",
       "      <td>0.031111</td>\n",
       "      <td>False</td>\n",
       "      <td>True</td>\n",
       "      <td>False</td>\n",
       "      <td>False</td>\n",
       "      <td>False</td>\n",
       "    </tr>\n",
       "    <tr>\n",
       "      <th>65412</th>\n",
       "      <td>1.000000</td>\n",
       "      <td>0.173913</td>\n",
       "      <td>0.170453</td>\n",
       "      <td>0.108889</td>\n",
       "      <td>False</td>\n",
       "      <td>False</td>\n",
       "      <td>False</td>\n",
       "      <td>False</td>\n",
       "      <td>True</td>\n",
       "    </tr>\n",
       "  </tbody>\n",
       "</table>\n",
       "</div>"
      ],
      "text/plain": [
       "            Age  Subscription_Length_Months  Monthly_Bill  Total_Usage_GB  \\\n",
       "76513  0.134615                    0.521739      0.973425        0.928889   \n",
       "60406  0.692308                    0.043478      0.598657        0.740000   \n",
       "27322  0.269231                    0.826087      0.509358        0.837778   \n",
       "53699  0.826923                    0.478261      0.760109        0.031111   \n",
       "65412  1.000000                    0.173913      0.170453        0.108889   \n",
       "\n",
       "       Gender_Male  Location_Houston  Location_Los Angeles  Location_Miami  \\\n",
       "76513         True             False                  True           False   \n",
       "60406        False              True                 False           False   \n",
       "27322         True             False                 False           False   \n",
       "53699        False              True                 False           False   \n",
       "65412        False             False                 False           False   \n",
       "\n",
       "       Location_New York  \n",
       "76513              False  \n",
       "60406              False  \n",
       "27322              False  \n",
       "53699              False  \n",
       "65412               True  "
      ]
     },
     "execution_count": 134,
     "metadata": {},
     "output_type": "execute_result"
    }
   ],
   "source": [
    "X_train.head()"
   ]
  },
  {
   "cell_type": "code",
   "execution_count": null,
   "id": "5e234ecc",
   "metadata": {},
   "outputs": [
    {
     "data": {
      "text/html": [
       "<div>\n",
       "<style scoped>\n",
       "    .dataframe tbody tr th:only-of-type {\n",
       "        vertical-align: middle;\n",
       "    }\n",
       "\n",
       "    .dataframe tbody tr th {\n",
       "        vertical-align: top;\n",
       "    }\n",
       "\n",
       "    .dataframe thead th {\n",
       "        text-align: right;\n",
       "    }\n",
       "</style>\n",
       "<table border=\"1\" class=\"dataframe\">\n",
       "  <thead>\n",
       "    <tr style=\"text-align: right;\">\n",
       "      <th></th>\n",
       "      <th>Age</th>\n",
       "      <th>Subscription_Length_Months</th>\n",
       "      <th>Monthly_Bill</th>\n",
       "      <th>Total_Usage_GB</th>\n",
       "      <th>Gender_Male</th>\n",
       "      <th>Location_Houston</th>\n",
       "      <th>Location_Los Angeles</th>\n",
       "      <th>Location_Miami</th>\n",
       "      <th>Location_New York</th>\n",
       "    </tr>\n",
       "  </thead>\n",
       "  <tbody>\n",
       "    <tr>\n",
       "      <th>75721</th>\n",
       "      <td>0.576923</td>\n",
       "      <td>0.434783</td>\n",
       "      <td>0.835548</td>\n",
       "      <td>0.982222</td>\n",
       "      <td>False</td>\n",
       "      <td>True</td>\n",
       "      <td>False</td>\n",
       "      <td>False</td>\n",
       "      <td>False</td>\n",
       "    </tr>\n",
       "    <tr>\n",
       "      <th>80184</th>\n",
       "      <td>0.596154</td>\n",
       "      <td>0.521739</td>\n",
       "      <td>0.151593</td>\n",
       "      <td>0.828889</td>\n",
       "      <td>True</td>\n",
       "      <td>False</td>\n",
       "      <td>False</td>\n",
       "      <td>False</td>\n",
       "      <td>True</td>\n",
       "    </tr>\n",
       "    <tr>\n",
       "      <th>19864</th>\n",
       "      <td>0.250000</td>\n",
       "      <td>0.173913</td>\n",
       "      <td>0.043006</td>\n",
       "      <td>0.502222</td>\n",
       "      <td>False</td>\n",
       "      <td>False</td>\n",
       "      <td>True</td>\n",
       "      <td>False</td>\n",
       "      <td>False</td>\n",
       "    </tr>\n",
       "    <tr>\n",
       "      <th>76699</th>\n",
       "      <td>0.673077</td>\n",
       "      <td>0.130435</td>\n",
       "      <td>0.923846</td>\n",
       "      <td>0.642222</td>\n",
       "      <td>True</td>\n",
       "      <td>False</td>\n",
       "      <td>False</td>\n",
       "      <td>False</td>\n",
       "      <td>True</td>\n",
       "    </tr>\n",
       "    <tr>\n",
       "      <th>92991</th>\n",
       "      <td>0.096154</td>\n",
       "      <td>1.000000</td>\n",
       "      <td>0.745964</td>\n",
       "      <td>0.564444</td>\n",
       "      <td>False</td>\n",
       "      <td>False</td>\n",
       "      <td>True</td>\n",
       "      <td>False</td>\n",
       "      <td>False</td>\n",
       "    </tr>\n",
       "  </tbody>\n",
       "</table>\n",
       "</div>"
      ],
      "text/plain": [
       "            Age  Subscription_Length_Months  Monthly_Bill  Total_Usage_GB  \\\n",
       "75721  0.576923                    0.434783      0.835548        0.982222   \n",
       "80184  0.596154                    0.521739      0.151593        0.828889   \n",
       "19864  0.250000                    0.173913      0.043006        0.502222   \n",
       "76699  0.673077                    0.130435      0.923846        0.642222   \n",
       "92991  0.096154                    1.000000      0.745964        0.564444   \n",
       "\n",
       "       Gender_Male  Location_Houston  Location_Los Angeles  Location_Miami  \\\n",
       "75721        False              True                 False           False   \n",
       "80184         True             False                 False           False   \n",
       "19864        False             False                  True           False   \n",
       "76699         True             False                 False           False   \n",
       "92991        False             False                  True           False   \n",
       "\n",
       "       Location_New York  \n",
       "75721              False  \n",
       "80184               True  \n",
       "19864              False  \n",
       "76699               True  \n",
       "92991              False  "
      ]
     },
     "execution_count": 135,
     "metadata": {},
     "output_type": "execute_result"
    }
   ],
   "source": [
    "X_test.head()"
   ]
  },
  {
   "cell_type": "markdown",
   "id": "f0b47457",
   "metadata": {},
   "source": [
    "# `Check for the class imbalance`\n",
    "\n",
    "* In machine learning, it is important to check if the data is balanced or not. This is called class imbalance.\n",
    "\n",
    "\n",
    "* Class imbalance happens when there are more data points in one class than in the other class. This can affect the performance of the model. For example, if the majority class has more data points than the minority class, the model might perform well on the majority class but poorly on the minority class.\n",
    "\n",
    "\n",
    "* By identifying class imbalance, we can employ strategies to address the issue. These strategies include resampling, adjusting class weights, or using different evaluation metrics. This will help us create a fair and accurate model that performs well across all classes\n"
   ]
  },
  {
   "cell_type": "code",
   "execution_count": null,
   "id": "6a543d50",
   "metadata": {},
   "outputs": [
    {
     "data": {
      "text/plain": [
       "Churn\n",
       "0    50221\n",
       "1    49779\n",
       "Name: count, dtype: int64"
      ]
     },
     "execution_count": 136,
     "metadata": {},
     "output_type": "execute_result"
    }
   ],
   "source": [
    "class_counts = df['Churn'].value_counts()\n",
    "class_counts"
   ]
  },
  {
   "cell_type": "code",
   "execution_count": null,
   "id": "a9f5d311",
   "metadata": {},
   "outputs": [
    {
     "data": {
      "image/png": "[encoded data removed]",
      "text/plain": [
       "<Figure size 1000x600 with 1 Axes>"
      ]
     },
     "metadata": {},
     "output_type": "display_data"
    }
   ],
   "source": [
    "plt.figure(figsize=(10, 6)) \n",
    "class_counts.plot(kind='bar')\n",
    "plt.title('Class Distribution')\n",
    "plt.xlabel('Class')\n",
    "plt.ylabel('Count')\n",
    "plt.xticks(rotation=45)\n",
    "plt.show()"
   ]
  },
  {
   "cell_type": "markdown",
   "id": "e12836a5",
   "metadata": {},
   "source": [
    "**The churn variables are almost evenly distributed, which means that there is no problem of class imbalance.**"
   ]
  },
  {
   "cell_type": "markdown",
   "id": "6a216c9b",
   "metadata": {},
   "source": [
    "# `Feature Selection using Random Forest Feature Importance Method`"
   ]
  },
  {
   "cell_type": "code",
   "execution_count": null,
   "id": "119b2b21",
   "metadata": {},
   "outputs": [
    {
     "data": {
      "text/html": [
       "<div>\n",
       "<style scoped>\n",
       "    .dataframe tbody tr th:only-of-type {\n",
       "        vertical-align: middle;\n",
       "    }\n",
       "\n",
       "    .dataframe tbody tr th {\n",
       "        vertical-align: top;\n",
       "    }\n",
       "\n",
       "    .dataframe thead th {\n",
       "        text-align: right;\n",
       "    }\n",
       "</style>\n",
       "<table border=\"1\" class=\"dataframe\">\n",
       "  <thead>\n",
       "    <tr style=\"text-align: right;\">\n",
       "      <th></th>\n",
       "      <th>Feature</th>\n",
       "      <th>Importance</th>\n",
       "    </tr>\n",
       "  </thead>\n",
       "  <tbody>\n",
       "    <tr>\n",
       "      <th>0</th>\n",
       "      <td>Monthly_Bill</td>\n",
       "      <td>0.316383</td>\n",
       "    </tr>\n",
       "    <tr>\n",
       "      <th>1</th>\n",
       "      <td>Total_Usage_GB</td>\n",
       "      <td>0.290353</td>\n",
       "    </tr>\n",
       "    <tr>\n",
       "      <th>2</th>\n",
       "      <td>Age</td>\n",
       "      <td>0.194396</td>\n",
       "    </tr>\n",
       "    <tr>\n",
       "      <th>3</th>\n",
       "      <td>Subscription_Length_Months</td>\n",
       "      <td>0.142624</td>\n",
       "    </tr>\n",
       "    <tr>\n",
       "      <th>4</th>\n",
       "      <td>Gender_Male</td>\n",
       "      <td>0.016683</td>\n",
       "    </tr>\n",
       "    <tr>\n",
       "      <th>5</th>\n",
       "      <td>Location_Los Angeles</td>\n",
       "      <td>0.010595</td>\n",
       "    </tr>\n",
       "    <tr>\n",
       "      <th>6</th>\n",
       "      <td>Location_Houston</td>\n",
       "      <td>0.010007</td>\n",
       "    </tr>\n",
       "    <tr>\n",
       "      <th>7</th>\n",
       "      <td>Location_Miami</td>\n",
       "      <td>0.009792</td>\n",
       "    </tr>\n",
       "    <tr>\n",
       "      <th>8</th>\n",
       "      <td>Location_New York</td>\n",
       "      <td>0.009166</td>\n",
       "    </tr>\n",
       "  </tbody>\n",
       "</table>\n",
       "</div>"
      ],
      "text/plain": [
       "                      Feature  Importance\n",
       "0                Monthly_Bill    0.316383\n",
       "1              Total_Usage_GB    0.290353\n",
       "2                         Age    0.194396\n",
       "3  Subscription_Length_Months    0.142624\n",
       "4                 Gender_Male    0.016683\n",
       "5        Location_Los Angeles    0.010595\n",
       "6            Location_Houston    0.010007\n",
       "7              Location_Miami    0.009792\n",
       "8           Location_New York    0.009166"
      ]
     },
     "execution_count": 138,
     "metadata": {},
     "output_type": "execute_result"
    }
   ],
   "source": [
    "from sklearn.ensemble import RandomForestClassifier\n",
    "\n",
    "rf_classifier = RandomForestClassifier(n_jobs=-1, random_state=42)\n",
    "\n",
    "rf_classifier.fit(X_train, y_train)\n",
    "\n",
    "importances = rf_classifier.feature_importances_\n",
    "\n",
    "feature_importance_df = pd.DataFrame({'Feature': X_train.columns, 'Importance': importances})\n",
    "\n",
    "feature_importance_df = feature_importance_df.sort_values(by='Importance', ascending=False).reset_index(drop=True)\n",
    "\n",
    "feature_importance_df"
   ]
  },
  {
   "cell_type": "code",
   "execution_count": null,
   "id": "ed2cabfd",
   "metadata": {},
   "outputs": [
    {
     "data": {
      "image/png": "[encoded data removed]",
      "text/plain": [
       "<Figure size 640x480 with 1 Axes>"
      ]
     },
     "metadata": {},
     "output_type": "display_data"
    }
   ],
   "source": [
    "#check optimal number of features\n",
    "\n",
    "sorted_indices = np.argsort(importances)[::-1]\n",
    "cumulative_importance = np.cumsum(importances[sorted_indices])\n",
    "\n",
    "plt.plot(range(1, len(importances) + 1), cumulative_importance, 'b-')\n",
    "plt.xlabel('Number of Features')\n",
    "plt.ylabel('Cumulative Importance')\n",
    "plt.title('Cumulative Importance of Features')\n",
    "plt.grid(True)\n",
    "plt.show()"
   ]
  },
  {
   "cell_type": "markdown",
   "id": "d5d712fa",
   "metadata": {},
   "source": [
    "**The graph shows that only 4 variables are important for the analysis. These variables are:**\n",
    "\n",
    "* **Monthly bill**\n",
    "\n",
    "\n",
    "* **Total usage in GB**\n",
    "\n",
    "\n",
    "* **Age**\n",
    "\n",
    "\n",
    "* **Subscription length in months**\n",
    "\n",
    "\n",
    "* **These 4 variables together account for approximately 94% of the importance for the analysis. This means that they are the most important variables to consider when trying to predict customer churn.**\n",
    "\n",
    "\n",
    "* **Here, I will use all the variables for analysis because there are not many variables. If the model does not perform well or overfits, I will remove variables and build a model on the features that contribute more to the model.**"
   ]
  },
  {
   "cell_type": "markdown",
   "id": "65c055c6",
   "metadata": {},
   "source": [
    "# `Check multi-colinearity between variables`\n",
    "\n",
    "* In machine learning, it is important to check if there are variables that are highly correlated with each other. This is called multicollinearity.\n",
    "\n",
    "\n",
    "* Multicollinearity can cause problems with the model, such as making it unstable and difficult to interpret. This is because correlated variables are redundant, meaning that they provide the same information. This can cause the model to give too much importance to one variable, leading to overfitting.\n",
    "\n",
    "\n",
    "* By identifying and addressing multicollinearity, we can make the model more reliable and interpretable. This improves the model's predictive power and makes it easier to understand how the variables affect the target variable."
   ]
  },
  {
   "cell_type": "code",
   "execution_count": null,
   "id": "40457ee0",
   "metadata": {},
   "outputs": [
    {
     "name": "stdout",
     "output_type": "stream",
     "text": [
      "                     Variable       VIF\n",
      "2                Monthly_Bill  3.055120\n",
      "3              Total_Usage_GB  3.043256\n",
      "0                         Age  3.002887\n",
      "1  Subscription_Length_Months  2.922424\n"
     ]
    }
   ],
   "source": [
    "#checking multicolinearity of X_train_resampled\n",
    "\n",
    "from statsmodels.stats.outliers_influence import variance_inflation_factor\n",
    "\n",
    "# Ensure all columns are numeric\n",
    "X_train_numeric = X_train.select_dtypes(include=[np.number])\n",
    "\n",
    "vif = pd.DataFrame()\n",
    "vif[\"Variable\"] = X_train_numeric.columns\n",
    "vif[\"VIF\"] = [variance_inflation_factor(X_train_numeric.values, i) for i in range(X_train_numeric.shape[1])]\n",
    "vif = vif.sort_values(by='VIF', ascending=False)\n",
    "print(vif)"
   ]
  },
  {
   "cell_type": "markdown",
   "id": "4ec6c0fa",
   "metadata": {},
   "source": [
    "**The training data does not contain multicollinearity because all of the variables have a VIF value less than 5.**"
   ]
  },
  {
   "cell_type": "markdown",
   "id": "a540b882",
   "metadata": {},
   "source": [
    "# `Model Building: Machine Learning Algorithms`"
   ]
  },
  {
   "cell_type": "code",
   "execution_count": null,
   "id": "2e1185dc",
   "metadata": {},
   "outputs": [],
   "source": [
    "#importing algorithms, metrics and time\n",
    "\n",
    "import time\n",
    "\n",
    "from sklearn.metrics import classification_report, accuracy_score, precision_score, recall_score, f1_score\n",
    "\n",
    "from sklearn.linear_model import LogisticRegression\n",
    "from sklearn.tree import DecisionTreeClassifier\n",
    "from sklearn.neighbors import KNeighborsClassifier\n",
    "from sklearn.svm import SVC\n",
    "from sklearn.naive_bayes import GaussianNB\n",
    "from sklearn.ensemble import AdaBoostClassifier, GradientBoostingClassifier, RandomForestClassifier\n",
    "from xgboost import XGBClassifier"
   ]
  },
  {
   "cell_type": "code",
   "execution_count": null,
   "id": "81daac2c",
   "metadata": {},
   "outputs": [
    {
     "data": {
      "text/html": [
       "<div>\n",
       "<style scoped>\n",
       "    .dataframe tbody tr th:only-of-type {\n",
       "        vertical-align: middle;\n",
       "    }\n",
       "\n",
       "    .dataframe tbody tr th {\n",
       "        vertical-align: top;\n",
       "    }\n",
       "\n",
       "    .dataframe thead th {\n",
       "        text-align: right;\n",
       "    }\n",
       "</style>\n",
       "<table border=\"1\" class=\"dataframe\">\n",
       "  <thead>\n",
       "    <tr style=\"text-align: right;\">\n",
       "      <th></th>\n",
       "      <th>Algorithm</th>\n",
       "      <th>Accuracy</th>\n",
       "      <th>Precision</th>\n",
       "      <th>Recall</th>\n",
       "      <th>F1-score</th>\n",
       "      <th>Building Time (s)</th>\n",
       "    </tr>\n",
       "  </thead>\n",
       "  <tbody>\n",
       "    <tr>\n",
       "      <th>0</th>\n",
       "      <td>LogisticRegression</td>\n",
       "      <td>0.503214</td>\n",
       "      <td>0.503138</td>\n",
       "      <td>0.503214</td>\n",
       "      <td>0.500180</td>\n",
       "      <td>5.820612</td>\n",
       "    </tr>\n",
       "    <tr>\n",
       "      <th>1</th>\n",
       "      <td>DecisionTreeClassifier</td>\n",
       "      <td>1.000000</td>\n",
       "      <td>1.000000</td>\n",
       "      <td>1.000000</td>\n",
       "      <td>1.000000</td>\n",
       "      <td>0.950215</td>\n",
       "    </tr>\n",
       "    <tr>\n",
       "      <th>2</th>\n",
       "      <td>KNeighborsClassifier</td>\n",
       "      <td>0.687743</td>\n",
       "      <td>0.687744</td>\n",
       "      <td>0.687743</td>\n",
       "      <td>0.687743</td>\n",
       "      <td>5.192589</td>\n",
       "    </tr>\n",
       "    <tr>\n",
       "      <th>3</th>\n",
       "      <td>GaussianNB</td>\n",
       "      <td>0.504471</td>\n",
       "      <td>0.504419</td>\n",
       "      <td>0.504471</td>\n",
       "      <td>0.503437</td>\n",
       "      <td>0.117415</td>\n",
       "    </tr>\n",
       "    <tr>\n",
       "      <th>4</th>\n",
       "      <td>AdaBoostClassifier</td>\n",
       "      <td>0.516557</td>\n",
       "      <td>0.516552</td>\n",
       "      <td>0.516557</td>\n",
       "      <td>0.516205</td>\n",
       "      <td>2.225000</td>\n",
       "    </tr>\n",
       "    <tr>\n",
       "      <th>5</th>\n",
       "      <td>GradientBoostingClassifier</td>\n",
       "      <td>0.541729</td>\n",
       "      <td>0.541847</td>\n",
       "      <td>0.541729</td>\n",
       "      <td>0.541213</td>\n",
       "      <td>6.066101</td>\n",
       "    </tr>\n",
       "    <tr>\n",
       "      <th>6</th>\n",
       "      <td>RandomForestClassifier</td>\n",
       "      <td>1.000000</td>\n",
       "      <td>1.000000</td>\n",
       "      <td>1.000000</td>\n",
       "      <td>1.000000</td>\n",
       "      <td>3.880947</td>\n",
       "    </tr>\n",
       "    <tr>\n",
       "      <th>7</th>\n",
       "      <td>XGBClassifier</td>\n",
       "      <td>0.671286</td>\n",
       "      <td>0.671308</td>\n",
       "      <td>0.671286</td>\n",
       "      <td>0.671266</td>\n",
       "      <td>0.366545</td>\n",
       "    </tr>\n",
       "    <tr>\n",
       "      <th>8</th>\n",
       "      <td>SVC</td>\n",
       "      <td>0.516986</td>\n",
       "      <td>0.517164</td>\n",
       "      <td>0.516986</td>\n",
       "      <td>0.514768</td>\n",
       "      <td>608.966257</td>\n",
       "    </tr>\n",
       "  </tbody>\n",
       "</table>\n",
       "</div>"
      ],
      "text/plain": [
       "                    Algorithm  Accuracy  Precision    Recall  F1-score  \\\n",
       "0          LogisticRegression  0.503214   0.503138  0.503214  0.500180   \n",
       "1      DecisionTreeClassifier  1.000000   1.000000  1.000000  1.000000   \n",
       "2        KNeighborsClassifier  0.687743   0.687744  0.687743  0.687743   \n",
       "3                  GaussianNB  0.504471   0.504419  0.504471  0.503437   \n",
       "4          AdaBoostClassifier  0.516557   0.516552  0.516557  0.516205   \n",
       "5  GradientBoostingClassifier  0.541729   0.541847  0.541729  0.541213   \n",
       "6      RandomForestClassifier  1.000000   1.000000  1.000000  1.000000   \n",
       "7               XGBClassifier  0.671286   0.671308  0.671286  0.671266   \n",
       "8                         SVC  0.516986   0.517164  0.516986  0.514768   \n",
       "\n",
       "   Building Time (s)  \n",
       "0           5.820612  \n",
       "1           0.950215  \n",
       "2           5.192589  \n",
       "3           0.117415  \n",
       "4           2.225000  \n",
       "5           6.066101  \n",
       "6           3.880947  \n",
       "7           0.366545  \n",
       "8         608.966257  "
      ]
     },
     "execution_count": 147,
     "metadata": {},
     "output_type": "execute_result"
    }
   ],
   "source": [
    "algorithms = [\n",
    "    LogisticRegression(n_jobs=-1, random_state=42),\n",
    "    DecisionTreeClassifier(random_state=42),\n",
    "    KNeighborsClassifier(n_jobs=-1),\n",
    "    GaussianNB(),\n",
    "    AdaBoostClassifier(random_state=42),\n",
    "    GradientBoostingClassifier(random_state=42),\n",
    "    RandomForestClassifier(n_jobs=-1, random_state=42),\n",
    "    XGBClassifier(n_jobs=-1, random_state=42),\n",
    "    SVC(random_state=42)\n",
    "]\n",
    "\n",
    "# Initialize the results dictionary for training data\n",
    "results_train = {\n",
    "    'Algorithm': [],\n",
    "    'Accuracy': [],\n",
    "    'Precision': [],\n",
    "    'Recall': [],\n",
    "    'F1-score': [],\n",
    "    'Building Time (s)': []\n",
    "}\n",
    "\n",
    "# Apply the algorithms and calculate performance metrics for training data\n",
    "for algorithm in algorithms:\n",
    "    start_time = time.time()  # Start timer\n",
    "\n",
    "    algorithm_name = type(algorithm).__name__\n",
    "    algorithm.fit(X_train, y_train)\n",
    "    y_train_pred = algorithm.predict(X_train)\n",
    "\n",
    "    accuracy = accuracy_score(y_train, y_train_pred)\n",
    "    precision = precision_score(y_train, y_train_pred, average='weighted')\n",
    "    recall = recall_score(y_train, y_train_pred, average='weighted')\n",
    "    f1 = f1_score(y_train, y_train_pred, average='weighted')\n",
    "\n",
    "    end_time = time.time()  # End timer\n",
    "    building_time = end_time - start_time\n",
    "\n",
    "    results_train['Algorithm'].append(algorithm_name)\n",
    "    results_train['Accuracy'].append(accuracy)\n",
    "    results_train['Precision'].append(precision)\n",
    "    results_train['Recall'].append(recall)\n",
    "    results_train['F1-score'].append(f1)\n",
    "    results_train['Building Time (s)'].append(building_time)\n",
    "\n",
    "# Create a dataframe for the training data results\n",
    "df_train = pd.DataFrame(results_train)\n",
    "df_train"
   ]
  },
  {
   "cell_type": "markdown",
   "id": "64c4b923",
   "metadata": {},
   "source": [
    "* **Decision Tree, Random Forest, and Gradient Boosting achieved perfect accuracy on the training data, suggesting potential overfitting.**\n",
    "\n",
    "\n",
    "* **Logistic Regression, GaussianNB, and AdaBoost have relatively low accuracy and F1-score.**\n",
    "\n",
    "\n",
    "* **KNeighborsClassifier and XGBClassifier have moderate accuracy and F1-score.**\n",
    "\n",
    "\n",
    "* **SVC has moderate accuracy but high building time.**"
   ]
  },
  {
   "cell_type": "code",
   "execution_count": null,
   "id": "c1c1a933",
   "metadata": {},
   "outputs": [
    {
     "data": {
      "text/html": [
       "<div>\n",
       "<style scoped>\n",
       "    .dataframe tbody tr th:only-of-type {\n",
       "        vertical-align: middle;\n",
       "    }\n",
       "\n",
       "    .dataframe tbody tr th {\n",
       "        vertical-align: top;\n",
       "    }\n",
       "\n",
       "    .dataframe thead th {\n",
       "        text-align: right;\n",
       "    }\n",
       "</style>\n",
       "<table border=\"1\" class=\"dataframe\">\n",
       "  <thead>\n",
       "    <tr style=\"text-align: right;\">\n",
       "      <th></th>\n",
       "      <th>Algorithm</th>\n",
       "      <th>Accuracy</th>\n",
       "      <th>Precision</th>\n",
       "      <th>Recall</th>\n",
       "      <th>F1-score</th>\n",
       "    </tr>\n",
       "  </thead>\n",
       "  <tbody>\n",
       "    <tr>\n",
       "      <th>0</th>\n",
       "      <td>LogisticRegression</td>\n",
       "      <td>0.504733</td>\n",
       "      <td>0.504061</td>\n",
       "      <td>0.504733</td>\n",
       "      <td>0.501456</td>\n",
       "    </tr>\n",
       "    <tr>\n",
       "      <th>1</th>\n",
       "      <td>DecisionTreeClassifier</td>\n",
       "      <td>0.499100</td>\n",
       "      <td>0.499157</td>\n",
       "      <td>0.499100</td>\n",
       "      <td>0.499113</td>\n",
       "    </tr>\n",
       "    <tr>\n",
       "      <th>2</th>\n",
       "      <td>KNeighborsClassifier</td>\n",
       "      <td>0.496500</td>\n",
       "      <td>0.496527</td>\n",
       "      <td>0.496500</td>\n",
       "      <td>0.496510</td>\n",
       "    </tr>\n",
       "    <tr>\n",
       "      <th>3</th>\n",
       "      <td>GaussianNB</td>\n",
       "      <td>0.505267</td>\n",
       "      <td>0.504866</td>\n",
       "      <td>0.505267</td>\n",
       "      <td>0.504104</td>\n",
       "    </tr>\n",
       "    <tr>\n",
       "      <th>4</th>\n",
       "      <td>AdaBoostClassifier</td>\n",
       "      <td>0.504200</td>\n",
       "      <td>0.504030</td>\n",
       "      <td>0.504200</td>\n",
       "      <td>0.503962</td>\n",
       "    </tr>\n",
       "    <tr>\n",
       "      <th>5</th>\n",
       "      <td>GradientBoostingClassifier</td>\n",
       "      <td>0.499567</td>\n",
       "      <td>0.499291</td>\n",
       "      <td>0.499567</td>\n",
       "      <td>0.499067</td>\n",
       "    </tr>\n",
       "    <tr>\n",
       "      <th>6</th>\n",
       "      <td>RandomForestClassifier</td>\n",
       "      <td>0.497267</td>\n",
       "      <td>0.497076</td>\n",
       "      <td>0.497267</td>\n",
       "      <td>0.497004</td>\n",
       "    </tr>\n",
       "    <tr>\n",
       "      <th>7</th>\n",
       "      <td>XGBClassifier</td>\n",
       "      <td>0.497367</td>\n",
       "      <td>0.497303</td>\n",
       "      <td>0.497367</td>\n",
       "      <td>0.497315</td>\n",
       "    </tr>\n",
       "    <tr>\n",
       "      <th>8</th>\n",
       "      <td>SVC</td>\n",
       "      <td>0.500933</td>\n",
       "      <td>0.500248</td>\n",
       "      <td>0.500933</td>\n",
       "      <td>0.498261</td>\n",
       "    </tr>\n",
       "  </tbody>\n",
       "</table>\n",
       "</div>"
      ],
      "text/plain": [
       "                    Algorithm  Accuracy  Precision    Recall  F1-score\n",
       "0          LogisticRegression  0.504733   0.504061  0.504733  0.501456\n",
       "1      DecisionTreeClassifier  0.499100   0.499157  0.499100  0.499113\n",
       "2        KNeighborsClassifier  0.496500   0.496527  0.496500  0.496510\n",
       "3                  GaussianNB  0.505267   0.504866  0.505267  0.504104\n",
       "4          AdaBoostClassifier  0.504200   0.504030  0.504200  0.503962\n",
       "5  GradientBoostingClassifier  0.499567   0.499291  0.499567  0.499067\n",
       "6      RandomForestClassifier  0.497267   0.497076  0.497267  0.497004\n",
       "7               XGBClassifier  0.497367   0.497303  0.497367  0.497315\n",
       "8                         SVC  0.500933   0.500248  0.500933  0.498261"
      ]
     },
     "execution_count": 148,
     "metadata": {},
     "output_type": "execute_result"
    }
   ],
   "source": [
    "results_test = {\n",
    "    'Algorithm': [],\n",
    "    'Accuracy': [],\n",
    "    'Precision': [],\n",
    "    'Recall': [],\n",
    "    'F1-score': []\n",
    "}\n",
    "\n",
    "# Apply the algorithms and calculate performance metrics for test data\n",
    "for algorithm in algorithms:\n",
    "    algorithm_name = type(algorithm).__name__\n",
    "    y_test_pred = algorithm.predict(X_test)\n",
    "\n",
    "    accuracy = accuracy_score(y_test, y_test_pred)\n",
    "    precision = precision_score(y_test, y_test_pred, average='weighted')\n",
    "    recall = recall_score(y_test, y_test_pred, average='weighted')\n",
    "    f1 = f1_score(y_test, y_test_pred, average='weighted')\n",
    "\n",
    "    results_test['Algorithm'].append(algorithm_name)\n",
    "    results_test['Accuracy'].append(accuracy)\n",
    "    results_test['Precision'].append(precision)\n",
    "    results_test['Recall'].append(recall)\n",
    "    results_test['F1-score'].append(f1)\n",
    "\n",
    "# Create a dataframe for the test data results\n",
    "df_test = pd.DataFrame(results_test)\n",
    "df_test"
   ]
  },
  {
   "cell_type": "markdown",
   "id": "f9ff4f2e",
   "metadata": {},
   "source": [
    "* **Most algorithms have mediocre performance on the test data, with accuracy close to random guessing (around 0.5).**\n",
    "\n",
    "\n",
    "* **Decision Tree, Random Forest, and Gradient Boosting also show subpar results, indicating overfitting.**\n",
    "\n",
    "\n",
    "* **No algorithm is performing well, so I decided to take only 4 variables that contribute more to the target variable and build the model again.**\n",
    "\n",
    "\n",
    "* **I removed the age and location variables because they are not good predictors of whether a customer will churn or not.**"
   ]
  },
  {
   "cell_type": "code",
   "execution_count": null,
   "id": "74bb15cb",
   "metadata": {},
   "outputs": [],
   "source": [
    "X_train = X_train[['Monthly_Bill', 'Total_Usage_GB', 'Age', 'Subscription_Length_Months']]\n",
    "\n",
    "X_test = X_test[['Monthly_Bill', 'Total_Usage_GB', 'Age', 'Subscription_Length_Months']]"
   ]
  },
  {
   "cell_type": "code",
   "execution_count": null,
   "id": "24fda754",
   "metadata": {},
   "outputs": [
    {
     "name": "stdout",
     "output_type": "stream",
     "text": [
      "X_train columns: Index(['Monthly_Bill', 'Total_Usage_GB', 'Age', 'Subscription_Length_Months'], dtype='object')\n",
      "------------------------------------------------------------------------------------------------------------------------\n",
      "X_test columns: Index(['Monthly_Bill', 'Total_Usage_GB', 'Age', 'Subscription_Length_Months'], dtype='object')\n"
     ]
    }
   ],
   "source": [
    "print('X_train columns:', X_train.columns)\n",
    "print('-'*120)\n",
    "print('X_test columns:', X_test.columns)"
   ]
  },
  {
   "cell_type": "code",
   "execution_count": null,
   "id": "fa3ef4e4",
   "metadata": {},
   "outputs": [
    {
     "data": {
      "text/html": [
       "<div>\n",
       "<style scoped>\n",
       "    .dataframe tbody tr th:only-of-type {\n",
       "        vertical-align: middle;\n",
       "    }\n",
       "\n",
       "    .dataframe tbody tr th {\n",
       "        vertical-align: top;\n",
       "    }\n",
       "\n",
       "    .dataframe thead th {\n",
       "        text-align: right;\n",
       "    }\n",
       "</style>\n",
       "<table border=\"1\" class=\"dataframe\">\n",
       "  <thead>\n",
       "    <tr style=\"text-align: right;\">\n",
       "      <th></th>\n",
       "      <th>Algorithm</th>\n",
       "      <th>Accuracy</th>\n",
       "      <th>Precision</th>\n",
       "      <th>Recall</th>\n",
       "      <th>F1-score</th>\n",
       "      <th>Building Time (s)</th>\n",
       "    </tr>\n",
       "  </thead>\n",
       "  <tbody>\n",
       "    <tr>\n",
       "      <th>0</th>\n",
       "      <td>LogisticRegression</td>\n",
       "      <td>0.502671</td>\n",
       "      <td>0.502584</td>\n",
       "      <td>0.502671</td>\n",
       "      <td>0.495610</td>\n",
       "      <td>1.750670</td>\n",
       "    </tr>\n",
       "    <tr>\n",
       "      <th>1</th>\n",
       "      <td>DecisionTreeClassifier</td>\n",
       "      <td>1.000000</td>\n",
       "      <td>1.000000</td>\n",
       "      <td>1.000000</td>\n",
       "      <td>1.000000</td>\n",
       "      <td>0.826520</td>\n",
       "    </tr>\n",
       "    <tr>\n",
       "      <th>2</th>\n",
       "      <td>KNeighborsClassifier</td>\n",
       "      <td>0.686600</td>\n",
       "      <td>0.686602</td>\n",
       "      <td>0.686600</td>\n",
       "      <td>0.686596</td>\n",
       "      <td>3.337292</td>\n",
       "    </tr>\n",
       "    <tr>\n",
       "      <th>3</th>\n",
       "      <td>GaussianNB</td>\n",
       "      <td>0.501486</td>\n",
       "      <td>0.501325</td>\n",
       "      <td>0.501486</td>\n",
       "      <td>0.493915</td>\n",
       "      <td>0.085836</td>\n",
       "    </tr>\n",
       "    <tr>\n",
       "      <th>4</th>\n",
       "      <td>AdaBoostClassifier</td>\n",
       "      <td>0.513000</td>\n",
       "      <td>0.512984</td>\n",
       "      <td>0.513000</td>\n",
       "      <td>0.512904</td>\n",
       "      <td>1.918393</td>\n",
       "    </tr>\n",
       "    <tr>\n",
       "      <th>5</th>\n",
       "      <td>GradientBoostingClassifier</td>\n",
       "      <td>0.538557</td>\n",
       "      <td>0.538573</td>\n",
       "      <td>0.538557</td>\n",
       "      <td>0.538399</td>\n",
       "      <td>5.713689</td>\n",
       "    </tr>\n",
       "    <tr>\n",
       "      <th>6</th>\n",
       "      <td>RandomForestClassifier</td>\n",
       "      <td>1.000000</td>\n",
       "      <td>1.000000</td>\n",
       "      <td>1.000000</td>\n",
       "      <td>1.000000</td>\n",
       "      <td>4.836732</td>\n",
       "    </tr>\n",
       "    <tr>\n",
       "      <th>7</th>\n",
       "      <td>XGBClassifier</td>\n",
       "      <td>0.662214</td>\n",
       "      <td>0.662220</td>\n",
       "      <td>0.662214</td>\n",
       "      <td>0.662205</td>\n",
       "      <td>0.317517</td>\n",
       "    </tr>\n",
       "    <tr>\n",
       "      <th>8</th>\n",
       "      <td>SVC</td>\n",
       "      <td>0.517729</td>\n",
       "      <td>0.518011</td>\n",
       "      <td>0.517729</td>\n",
       "      <td>0.514761</td>\n",
       "      <td>597.640109</td>\n",
       "    </tr>\n",
       "  </tbody>\n",
       "</table>\n",
       "</div>"
      ],
      "text/plain": [
       "                    Algorithm  Accuracy  Precision    Recall  F1-score  \\\n",
       "0          LogisticRegression  0.502671   0.502584  0.502671  0.495610   \n",
       "1      DecisionTreeClassifier  1.000000   1.000000  1.000000  1.000000   \n",
       "2        KNeighborsClassifier  0.686600   0.686602  0.686600  0.686596   \n",
       "3                  GaussianNB  0.501486   0.501325  0.501486  0.493915   \n",
       "4          AdaBoostClassifier  0.513000   0.512984  0.513000  0.512904   \n",
       "5  GradientBoostingClassifier  0.538557   0.538573  0.538557  0.538399   \n",
       "6      RandomForestClassifier  1.000000   1.000000  1.000000  1.000000   \n",
       "7               XGBClassifier  0.662214   0.662220  0.662214  0.662205   \n",
       "8                         SVC  0.517729   0.518011  0.517729  0.514761   \n",
       "\n",
       "   Building Time (s)  \n",
       "0           1.750670  \n",
       "1           0.826520  \n",
       "2           3.337292  \n",
       "3           0.085836  \n",
       "4           1.918393  \n",
       "5           5.713689  \n",
       "6           4.836732  \n",
       "7           0.317517  \n",
       "8         597.640109  "
      ]
     },
     "execution_count": 151,
     "metadata": {},
     "output_type": "execute_result"
    }
   ],
   "source": [
    "algorithms = [\n",
    "    LogisticRegression(n_jobs=-1, random_state=42),\n",
    "    DecisionTreeClassifier(random_state=42),\n",
    "    KNeighborsClassifier(n_jobs=-1),\n",
    "    GaussianNB(),\n",
    "    AdaBoostClassifier(random_state=42),\n",
    "    GradientBoostingClassifier(random_state=42),\n",
    "    RandomForestClassifier(n_jobs=-1, random_state=42),\n",
    "    XGBClassifier(n_jobs=-1, random_state=42),\n",
    "    SVC(random_state=42)\n",
    "]\n",
    "\n",
    "# Initialize the results dictionary for training data\n",
    "results_train = {\n",
    "    'Algorithm': [],\n",
    "    'Accuracy': [],\n",
    "    'Precision': [],\n",
    "    'Recall': [],\n",
    "    'F1-score': [],\n",
    "    'Building Time (s)': []\n",
    "}\n",
    "\n",
    "# Apply the algorithms and calculate performance metrics for training data\n",
    "for algorithm in algorithms:\n",
    "    start_time = time.time()  # Start timer\n",
    "\n",
    "    algorithm_name = type(algorithm).__name__\n",
    "    algorithm.fit(X_train, y_train)\n",
    "    y_train_pred = algorithm.predict(X_train)\n",
    "\n",
    "    accuracy = accuracy_score(y_train, y_train_pred)\n",
    "    precision = precision_score(y_train, y_train_pred, average='weighted')\n",
    "    recall = recall_score(y_train, y_train_pred, average='weighted')\n",
    "    f1 = f1_score(y_train, y_train_pred, average='weighted')\n",
    "\n",
    "    end_time = time.time()  # End timer\n",
    "    building_time = end_time - start_time\n",
    "\n",
    "    results_train['Algorithm'].append(algorithm_name)\n",
    "    results_train['Accuracy'].append(accuracy)\n",
    "    results_train['Precision'].append(precision)\n",
    "    results_train['Recall'].append(recall)\n",
    "    results_train['F1-score'].append(f1)\n",
    "    results_train['Building Time (s)'].append(building_time)\n",
    "\n",
    "# Create a dataframe for the training data results\n",
    "df_train = pd.DataFrame(results_train)\n",
    "df_train"
   ]
  },
  {
   "cell_type": "markdown",
   "id": "4b51c921",
   "metadata": {},
   "source": [
    "* **Decision Tree and Random Forest still achieve perfect accuracy, likely overfitting again.**\n",
    "\n",
    "\n",
    "* **Logistic Regression, GaussianNB, and AdaBoost have improved slightly.**\n",
    "\n",
    "\n",
    "* **KNeighborsClassifier and XGBClassifier remain moderate.**\n",
    "\n",
    "\n",
    "* **SVC still has high building time.**"
   ]
  },
  {
   "cell_type": "code",
   "execution_count": null,
   "id": "b3fa9f01",
   "metadata": {},
   "outputs": [
    {
     "data": {
      "text/html": [
       "<div>\n",
       "<style scoped>\n",
       "    .dataframe tbody tr th:only-of-type {\n",
       "        vertical-align: middle;\n",
       "    }\n",
       "\n",
       "    .dataframe tbody tr th {\n",
       "        vertical-align: top;\n",
       "    }\n",
       "\n",
       "    .dataframe thead th {\n",
       "        text-align: right;\n",
       "    }\n",
       "</style>\n",
       "<table border=\"1\" class=\"dataframe\">\n",
       "  <thead>\n",
       "    <tr style=\"text-align: right;\">\n",
       "      <th></th>\n",
       "      <th>Algorithm</th>\n",
       "      <th>Accuracy</th>\n",
       "      <th>Precision</th>\n",
       "      <th>Recall</th>\n",
       "      <th>F1-score</th>\n",
       "    </tr>\n",
       "  </thead>\n",
       "  <tbody>\n",
       "    <tr>\n",
       "      <th>0</th>\n",
       "      <td>LogisticRegression</td>\n",
       "      <td>0.498433</td>\n",
       "      <td>0.497171</td>\n",
       "      <td>0.498433</td>\n",
       "      <td>0.491696</td>\n",
       "    </tr>\n",
       "    <tr>\n",
       "      <th>1</th>\n",
       "      <td>DecisionTreeClassifier</td>\n",
       "      <td>0.500400</td>\n",
       "      <td>0.500360</td>\n",
       "      <td>0.500400</td>\n",
       "      <td>0.500372</td>\n",
       "    </tr>\n",
       "    <tr>\n",
       "      <th>2</th>\n",
       "      <td>KNeighborsClassifier</td>\n",
       "      <td>0.497900</td>\n",
       "      <td>0.497918</td>\n",
       "      <td>0.497900</td>\n",
       "      <td>0.497907</td>\n",
       "    </tr>\n",
       "    <tr>\n",
       "      <th>3</th>\n",
       "      <td>GaussianNB</td>\n",
       "      <td>0.499333</td>\n",
       "      <td>0.498084</td>\n",
       "      <td>0.499333</td>\n",
       "      <td>0.492268</td>\n",
       "    </tr>\n",
       "    <tr>\n",
       "      <th>4</th>\n",
       "      <td>AdaBoostClassifier</td>\n",
       "      <td>0.498467</td>\n",
       "      <td>0.498457</td>\n",
       "      <td>0.498467</td>\n",
       "      <td>0.498461</td>\n",
       "    </tr>\n",
       "    <tr>\n",
       "      <th>5</th>\n",
       "      <td>GradientBoostingClassifier</td>\n",
       "      <td>0.502000</td>\n",
       "      <td>0.501906</td>\n",
       "      <td>0.502000</td>\n",
       "      <td>0.501909</td>\n",
       "    </tr>\n",
       "    <tr>\n",
       "      <th>6</th>\n",
       "      <td>RandomForestClassifier</td>\n",
       "      <td>0.505767</td>\n",
       "      <td>0.505583</td>\n",
       "      <td>0.505767</td>\n",
       "      <td>0.505489</td>\n",
       "    </tr>\n",
       "    <tr>\n",
       "      <th>7</th>\n",
       "      <td>XGBClassifier</td>\n",
       "      <td>0.500233</td>\n",
       "      <td>0.500166</td>\n",
       "      <td>0.500233</td>\n",
       "      <td>0.500178</td>\n",
       "    </tr>\n",
       "    <tr>\n",
       "      <th>8</th>\n",
       "      <td>SVC</td>\n",
       "      <td>0.501733</td>\n",
       "      <td>0.501010</td>\n",
       "      <td>0.501733</td>\n",
       "      <td>0.498641</td>\n",
       "    </tr>\n",
       "  </tbody>\n",
       "</table>\n",
       "</div>"
      ],
      "text/plain": [
       "                    Algorithm  Accuracy  Precision    Recall  F1-score\n",
       "0          LogisticRegression  0.498433   0.497171  0.498433  0.491696\n",
       "1      DecisionTreeClassifier  0.500400   0.500360  0.500400  0.500372\n",
       "2        KNeighborsClassifier  0.497900   0.497918  0.497900  0.497907\n",
       "3                  GaussianNB  0.499333   0.498084  0.499333  0.492268\n",
       "4          AdaBoostClassifier  0.498467   0.498457  0.498467  0.498461\n",
       "5  GradientBoostingClassifier  0.502000   0.501906  0.502000  0.501909\n",
       "6      RandomForestClassifier  0.505767   0.505583  0.505767  0.505489\n",
       "7               XGBClassifier  0.500233   0.500166  0.500233  0.500178\n",
       "8                         SVC  0.501733   0.501010  0.501733  0.498641"
      ]
     },
     "execution_count": 152,
     "metadata": {},
     "output_type": "execute_result"
    }
   ],
   "source": [
    "results_test = {\n",
    "    'Algorithm': [],\n",
    "    'Accuracy': [],\n",
    "    'Precision': [],\n",
    "    'Recall': [],\n",
    "    'F1-score': []\n",
    "}\n",
    "\n",
    "# Apply the algorithms and calculate performance metrics for test data\n",
    "for algorithm in algorithms:\n",
    "    algorithm_name = type(algorithm).__name__\n",
    "    y_test_pred = algorithm.predict(X_test)\n",
    "\n",
    "    accuracy = accuracy_score(y_test, y_test_pred)\n",
    "    precision = precision_score(y_test, y_test_pred, average='weighted')\n",
    "    recall = recall_score(y_test, y_test_pred, average='weighted')\n",
    "    f1 = f1_score(y_test, y_test_pred, average='weighted')\n",
    "\n",
    "    results_test['Algorithm'].append(algorithm_name)\n",
    "    results_test['Accuracy'].append(accuracy)\n",
    "    results_test['Precision'].append(precision)\n",
    "    results_test['Recall'].append(recall)\n",
    "    results_test['F1-score'].append(f1)\n",
    "\n",
    "# Create a dataframe for the test data results\n",
    "df_test = pd.DataFrame(results_test)\n",
    "df_test"
   ]
  },
  {
   "cell_type": "markdown",
   "id": "03dcb884",
   "metadata": {},
   "source": [
    "* **Decision Tree and Random Forest overfits.**\n",
    "\n",
    "\n",
    "* **No algorithm is performing well, so I decided to build model using neural networks.**\n",
    "\n",
    "\n",
    "* **If the neural network does not provide better results than machine learning algorithms, then I will build ensembles of random forests because random forests achieve perfect scores in all metrics in the training data. Decision trees also achieve perfect scores in all metrics in the training data, but I have already tried and tested multiple ensembles that use decision trees. Therefore, I will now build ensembles using random forests**."
   ]
  },
  {
   "cell_type": "markdown",
   "id": "5cd508fc",
   "metadata": {},
   "source": [
    "# `Model Building: Neural Network`"
   ]
  },
  {
   "cell_type": "code",
   "execution_count": null,
   "id": "d56b5604",
   "metadata": {},
   "outputs": [
    {
     "ename": "ModuleNotFoundError",
     "evalue": "No module named 'tensorflow'",
     "output_type": "error",
     "traceback": [
      "\u001b[1;31m---------------------------------------------------------------------------\u001b[0m",
      "\u001b[1;31mModuleNotFoundError\u001b[0m                       Traceback (most recent call last)",
      "Cell \u001b[1;32mIn[156], line 1\u001b[0m\n\u001b[1;32m----> 1\u001b[0m \u001b[38;5;28;01mimport\u001b[39;00m \u001b[38;5;21;01mtensorflow\u001b[39;00m \u001b[38;5;28;01mas\u001b[39;00m \u001b[38;5;21;01mtf\u001b[39;00m\n\u001b[0;32m      2\u001b[0m \u001b[38;5;28;01mfrom\u001b[39;00m \u001b[38;5;21;01mtensorflow\u001b[39;00m\u001b[38;5;21;01m.\u001b[39;00m\u001b[38;5;21;01mkeras\u001b[39;00m\u001b[38;5;21;01m.\u001b[39;00m\u001b[38;5;21;01mmodels\u001b[39;00m \u001b[38;5;28;01mimport\u001b[39;00m Sequential\n\u001b[0;32m      3\u001b[0m \u001b[38;5;28;01mfrom\u001b[39;00m \u001b[38;5;21;01mtensorflow\u001b[39;00m\u001b[38;5;21;01m.\u001b[39;00m\u001b[38;5;21;01mkeras\u001b[39;00m\u001b[38;5;21;01m.\u001b[39;00m\u001b[38;5;21;01mutils\u001b[39;00m \u001b[38;5;28;01mimport\u001b[39;00m plot_model\n",
      "\u001b[1;31mModuleNotFoundError\u001b[0m: No module named 'tensorflow'"
     ]
    }
   ],
   "source": [
    "import tensorflow as tf\n",
    "from tensorflow.keras.models import Sequential\n",
    "from tensorflow.keras.utils import plot_model\n",
    "from tensorflow.keras.layers import Dense, BatchNormalization, Activation, Dropout\n",
    "from tensorflow.keras.optimizers import Adam\n",
    "from tensorflow.keras.callbacks import EarlyStopping, ModelCheckpoint\n",
    "from sklearn.metrics import recall_score"
   ]
  },
  {
   "cell_type": "markdown",
   "id": "abacd02c",
   "metadata": {},
   "source": [
    "## `Defining Callbacks for Early Stopping and Model Checkpoint`\n",
    "\n",
    "* Best model will save to pwd (present working directory) as 'Churn Classifier.h5'\n",
    "\n",
    "\n",
    "* Early stopping is a regularization technique that stops the training of a neural network before it reaches the maximum number of epochs or iterations. It is important because it helps to prevent overfitting.\n",
    "\n",
    "\n",
    "* Early stopping is a technique that stops the training of a model when the validation loss stops improving. If you set restore_best_weights to False, the model will be saved at the end of the training, even if the validation loss has not improved. This could result in the model being saved at a point where it is overfitting the training data. By setting restore_best_weights to True, the model will be saved at the epoch with the best validation loss. This ensures that the model that is saved is the one that is most likely to generalize well to new data.\n",
    "\n",
    "\n",
    "* When you set restore_best_weights=True in the EarlyStopping callback, it ensures that the model's weights are restored to the state they were in at the epoch with the lowest validation loss. This means that when you evaluate the model after training, the evaluation metrics, including accuracy and other metrics, are computed based on the weights of the model that performed the best on the validation data."
   ]
  },
  {
   "cell_type": "code",
   "execution_count": null,
   "id": "0d997187",
   "metadata": {},
   "outputs": [
    {
     "ename": "NameError",
     "evalue": "name 'EarlyStopping' is not defined",
     "output_type": "error",
     "traceback": [
      "\u001b[1;31m---------------------------------------------------------------------------\u001b[0m",
      "\u001b[1;31mNameError\u001b[0m                                 Traceback (most recent call last)",
      "Cell \u001b[1;32mIn[85], line 3\u001b[0m\n\u001b[0;32m      1\u001b[0m \u001b[38;5;66;03m# Define the EarlyStopping and ModelCheckpoint callbacks\u001b[39;00m\n\u001b[1;32m----> 3\u001b[0m early_stopping \u001b[38;5;241m=\u001b[39m EarlyStopping(\n\u001b[0;32m      4\u001b[0m     monitor\u001b[38;5;241m=\u001b[39m\u001b[38;5;124m'\u001b[39m\u001b[38;5;124mval_loss\u001b[39m\u001b[38;5;124m'\u001b[39m,        \u001b[38;5;66;03m# The metric to monitor. This is usually the validation loss.\u001b[39;00m\n\u001b[0;32m      5\u001b[0m     min_delta\u001b[38;5;241m=\u001b[39m\u001b[38;5;241m0.001\u001b[39m,           \u001b[38;5;66;03m# The minimum amount of improvement required to consider the model to have improved.\u001b[39;00m\n\u001b[0;32m      6\u001b[0m     patience\u001b[38;5;241m=\u001b[39m\u001b[38;5;241m10\u001b[39m,               \u001b[38;5;66;03m# The number of epochs to wait without improvement before stopping the training.\u001b[39;00m\n\u001b[0;32m      7\u001b[0m     verbose\u001b[38;5;241m=\u001b[39m\u001b[38;5;241m1\u001b[39m,                 \u001b[38;5;66;03m# Print output\u001b[39;00m\n\u001b[0;32m      8\u001b[0m     mode\u001b[38;5;241m=\u001b[39m\u001b[38;5;124m'\u001b[39m\u001b[38;5;124mauto\u001b[39m\u001b[38;5;124m'\u001b[39m,               \u001b[38;5;66;03m# Consider mode of the metric as min or max.\u001b[39;00m\n\u001b[0;32m      9\u001b[0m     restore_best_weights\u001b[38;5;241m=\u001b[39m\u001b[38;5;28;01mTrue\u001b[39;00m  \u001b[38;5;66;03m# Whether to restore the model weights at the epoch with the best validation loss.\u001b[39;00m\n\u001b[0;32m     10\u001b[0m )\n",
      "\u001b[1;31mNameError\u001b[0m: name 'EarlyStopping' is not defined"
     ]
    }
   ],
   "source": [
    "# Define the EarlyStopping and ModelCheckpoint callbacks\n",
    "\n",
    "early_stopping = EarlyStopping(\n",
    "    monitor='val_loss',        # The metric to monitor. This is usually the validation loss.\n",
    "    min_delta=0.001,           # The minimum amount of improvement required to consider the model to have improved.\n",
    "    patience=10,               # The number of epochs to wait without improvement before stopping the training.\n",
    "    verbose=1,                 # Print output\n",
    "    mode='auto',               # Consider mode of the metric as min or max.\n",
    "    restore_best_weights=True  # Whether to restore the model weights at the epoch with the best validation loss.\n",
    ")"
   ]
  },
  {
   "cell_type": "code",
   "execution_count": null,
   "id": "aa0fb849",
   "metadata": {},
   "outputs": [
    {
     "ename": "NameError",
     "evalue": "name 'ModelCheckpoint' is not defined",
     "output_type": "error",
     "traceback": [
      "\u001b[1;31m---------------------------------------------------------------------------\u001b[0m",
      "\u001b[1;31mNameError\u001b[0m                                 Traceback (most recent call last)",
      "Cell \u001b[1;32mIn[86], line 1\u001b[0m\n\u001b[1;32m----> 1\u001b[0m checkpoint \u001b[38;5;241m=\u001b[39m ModelCheckpoint(\u001b[38;5;124m'\u001b[39m\u001b[38;5;124mChurnClassifier.h5\u001b[39m\u001b[38;5;124m'\u001b[39m, monitor\u001b[38;5;241m=\u001b[39m\u001b[38;5;124m'\u001b[39m\u001b[38;5;124mval_loss\u001b[39m\u001b[38;5;124m'\u001b[39m, verbose\u001b[38;5;241m=\u001b[39m\u001b[38;5;241m1\u001b[39m, save_best_only\u001b[38;5;241m=\u001b[39m\u001b[38;5;28;01mTrue\u001b[39;00m, mode\u001b[38;5;241m=\u001b[39m\u001b[38;5;124m'\u001b[39m\u001b[38;5;124mmin\u001b[39m\u001b[38;5;124m'\u001b[39m)\n",
      "\u001b[1;31mNameError\u001b[0m: name 'ModelCheckpoint' is not defined"
     ]
    }
   ],
   "source": [
    "checkpoint = ModelCheckpoint('ChurnClassifier.h5', monitor='val_loss', verbose=1, save_best_only=True, mode='min')"
   ]
  },
  {
   "cell_type": "markdown",
   "id": "1ee0c8bf",
   "metadata": {},
   "source": [
    "## `Build Neural Network Architectures & Fit Model on Training Data`"
   ]
  },
  {
   "cell_type": "markdown",
   "id": "10399651",
   "metadata": {},
   "source": [
    "### `Architecture I`"
   ]
  },
  {
   "cell_type": "code",
   "execution_count": null,
   "id": "af7bb570",
   "metadata": {},
   "outputs": [],
   "source": [
    "model = tf.keras.Sequential([\n",
    "    tf.keras.layers.Dense(128, activation='relu'),\n",
    "    tf.keras.layers.Dense(64, activation='relu'),\n",
    "    tf.keras.layers.Dense(1, activation='sigmoid')\n",
    "])\n",
    "\n",
    "# Compile the model]\n",
    "model.compile(optimizer='adam', loss='binary_crossentropy', metrics=['accuracy'])"
   ]
  },
  {
   "cell_type": "code",
   "execution_count": null,
   "id": "36a16a03",
   "metadata": {},
   "outputs": [
    {
     "name": "stdout",
     "output_type": "stream",
     "text": [
      "Epoch 1/100\n",
      "363/383 [===========================>..] - ETA: 0s - loss: 0.6937 - accuracy: 0.4993\n",
      "Epoch 1: val_loss improved from inf to 0.69363, saving model to ChurnClassifier.h5\n",
      "383/383 [==============================] - 2s 3ms/step - loss: 0.6937 - accuracy: 0.4993 - val_loss: 0.6936 - val_accuracy: 0.4971\n",
      "Epoch 2/100\n",
      " 35/383 [=>............................] - ETA: 1s - loss: 0.6927 - accuracy: 0.5152"
     ]
    },
    {
     "name": "stderr",
     "output_type": "stream",
     "text": [
      "C:\\Users\\HP\\Anaconda3\\lib\\site-packages\\keras\\src\\engine\\training.py:3000: UserWarning: You are saving your model as an HDF5 file via `model.save()`. This file format is considered legacy. We recommend using instead the native Keras format, e.g. `model.save('my_model.keras')`.\n",
      "  saving_api.save_model(\n"
     ]
    },
    {
     "name": "stdout",
     "output_type": "stream",
     "text": [
      "370/383 [===========================>..] - ETA: 0s - loss: 0.6933 - accuracy: 0.5038\n",
      "Epoch 2: val_loss improved from 0.69363 to 0.69333, saving model to ChurnClassifier.h5\n",
      "383/383 [==============================] - 1s 3ms/step - loss: 0.6933 - accuracy: 0.5037 - val_loss: 0.6933 - val_accuracy: 0.4981\n",
      "Epoch 3/100\n",
      "360/383 [===========================>..] - ETA: 0s - loss: 0.6932 - accuracy: 0.5036\n",
      "Epoch 3: val_loss improved from 0.69333 to 0.69316, saving model to ChurnClassifier.h5\n",
      "383/383 [==============================] - 1s 3ms/step - loss: 0.6933 - accuracy: 0.5032 - val_loss: 0.6932 - val_accuracy: 0.5034\n",
      "Epoch 4/100\n",
      "364/383 [===========================>..] - ETA: 0s - loss: 0.6932 - accuracy: 0.5070\n",
      "Epoch 4: val_loss improved from 0.69316 to 0.69313, saving model to ChurnClassifier.h5\n",
      "383/383 [==============================] - 1s 3ms/step - loss: 0.6932 - accuracy: 0.5062 - val_loss: 0.6931 - val_accuracy: 0.5016\n",
      "Epoch 5/100\n",
      "370/383 [===========================>..] - ETA: 0s - loss: 0.6932 - accuracy: 0.5017\n",
      "Epoch 5: val_loss improved from 0.69313 to 0.69309, saving model to ChurnClassifier.h5\n",
      "383/383 [==============================] - 1s 3ms/step - loss: 0.6932 - accuracy: 0.5007 - val_loss: 0.6931 - val_accuracy: 0.5046\n",
      "Epoch 6/100\n",
      "383/383 [==============================] - ETA: 0s - loss: 0.6931 - accuracy: 0.5032\n",
      "Epoch 6: val_loss did not improve from 0.69309\n",
      "383/383 [==============================] - 1s 3ms/step - loss: 0.6931 - accuracy: 0.5032 - val_loss: 0.6932 - val_accuracy: 0.5035\n",
      "Epoch 7/100\n",
      "360/383 [===========================>..] - ETA: 0s - loss: 0.6931 - accuracy: 0.5042\n",
      "Epoch 7: val_loss did not improve from 0.69309\n",
      "383/383 [==============================] - 1s 2ms/step - loss: 0.6932 - accuracy: 0.5041 - val_loss: 0.6933 - val_accuracy: 0.4995\n",
      "Epoch 8/100\n",
      "364/383 [===========================>..] - ETA: 0s - loss: 0.6931 - accuracy: 0.5071\n",
      "Epoch 8: val_loss did not improve from 0.69309\n",
      "383/383 [==============================] - 1s 2ms/step - loss: 0.6931 - accuracy: 0.5064 - val_loss: 0.6932 - val_accuracy: 0.5011\n",
      "Epoch 9/100\n",
      "368/383 [===========================>..] - ETA: 0s - loss: 0.6931 - accuracy: 0.5029\n",
      "Epoch 9: val_loss did not improve from 0.69309\n",
      "383/383 [==============================] - 1s 2ms/step - loss: 0.6931 - accuracy: 0.5032 - val_loss: 0.6935 - val_accuracy: 0.4972\n",
      "Epoch 10/100\n",
      "364/383 [===========================>..] - ETA: 0s - loss: 0.6931 - accuracy: 0.5066\n",
      "Epoch 10: val_loss did not improve from 0.69309\n",
      "383/383 [==============================] - 1s 2ms/step - loss: 0.6931 - accuracy: 0.5063 - val_loss: 0.6932 - val_accuracy: 0.5013\n",
      "Epoch 11/100\n",
      "361/383 [===========================>..] - ETA: 0s - loss: 0.6931 - accuracy: 0.5043Restoring model weights from the end of the best epoch: 1.\n",
      "\n",
      "Epoch 11: val_loss did not improve from 0.69309\n",
      "383/383 [==============================] - 1s 3ms/step - loss: 0.6931 - accuracy: 0.5041 - val_loss: 0.6931 - val_accuracy: 0.5037\n",
      "Epoch 11: early stopping\n"
     ]
    }
   ],
   "source": [
    "# Train the model\n",
    "history = model.fit(X_train, y_train, epochs=100, batch_size=128, validation_split=0.3, callbacks=[early_stopping, checkpoint],\n",
    "                    verbose=1)"
   ]
  },
  {
   "cell_type": "markdown",
   "id": "174e1ecb",
   "metadata": {},
   "source": [
    "### `Architecture II`"
   ]
  },
  {
   "cell_type": "code",
   "execution_count": null,
   "id": "fbb03b77",
   "metadata": {},
   "outputs": [],
   "source": [
    "model = Sequential()\n",
    "\n",
    "# layers\n",
    "model.add(Dense(units = 32, kernel_initializer = 'uniform', activation = 'relu', input_dim = 4))\n",
    "model.add(Dense(units = 32, kernel_initializer = 'uniform', activation = 'relu'))\n",
    "model.add(Dense(units = 16, kernel_initializer = 'uniform', activation = 'relu'))\n",
    "model.add(Dropout(0.25))\n",
    "model.add(Dense(units = 8, kernel_initializer = 'uniform', activation = 'relu'))\n",
    "model.add(Dropout(0.5))\n",
    "model.add(Dense(units = 1, kernel_initializer = 'uniform', activation = 'sigmoid'))\n",
    "\n",
    "# Compile the model]\n",
    "model.compile(optimizer='adam', loss='binary_crossentropy', metrics=['accuracy'])"
   ]
  },
  {
   "cell_type": "code",
   "execution_count": null,
   "id": "7efcf0ed",
   "metadata": {},
   "outputs": [
    {
     "name": "stdout",
     "output_type": "stream",
     "text": [
      "Epoch 1/100\n",
      "359/383 [===========================>..] - ETA: 0s - loss: 0.6931 - accuracy: 0.5017\n",
      "Epoch 1: val_loss did not improve from 0.69309\n",
      "383/383 [==============================] - 2s 3ms/step - loss: 0.6931 - accuracy: 0.5007 - val_loss: 0.6932 - val_accuracy: 0.4967\n",
      "Epoch 2/100\n",
      "379/383 [============================>.] - ETA: 0s - loss: 0.6931 - accuracy: 0.5029\n",
      "Epoch 2: val_loss did not improve from 0.69309\n",
      "383/383 [==============================] - 1s 2ms/step - loss: 0.6931 - accuracy: 0.5028 - val_loss: 0.6932 - val_accuracy: 0.4967\n",
      "Epoch 3/100\n",
      "361/383 [===========================>..] - ETA: 0s - loss: 0.6931 - accuracy: 0.5011\n",
      "Epoch 3: val_loss did not improve from 0.69309\n",
      "383/383 [==============================] - 1s 2ms/step - loss: 0.6931 - accuracy: 0.5021 - val_loss: 0.6933 - val_accuracy: 0.4967\n",
      "Epoch 4/100\n",
      "368/383 [===========================>..] - ETA: 0s - loss: 0.6931 - accuracy: 0.5034\n",
      "Epoch 4: val_loss did not improve from 0.69309\n",
      "383/383 [==============================] - 1s 2ms/step - loss: 0.6931 - accuracy: 0.5028 - val_loss: 0.6932 - val_accuracy: 0.4967\n",
      "Epoch 5/100\n",
      "367/383 [===========================>..] - ETA: 0s - loss: 0.6931 - accuracy: 0.5024\n",
      "Epoch 5: val_loss did not improve from 0.69309\n",
      "383/383 [==============================] - 1s 2ms/step - loss: 0.6931 - accuracy: 0.5022 - val_loss: 0.6932 - val_accuracy: 0.4967\n",
      "Epoch 6/100\n",
      "369/383 [===========================>..] - ETA: 0s - loss: 0.6931 - accuracy: 0.5012\n",
      "Epoch 6: val_loss did not improve from 0.69309\n",
      "383/383 [==============================] - 1s 2ms/step - loss: 0.6931 - accuracy: 0.5014 - val_loss: 0.6932 - val_accuracy: 0.4967\n",
      "Epoch 7/100\n",
      "371/383 [============================>.] - ETA: 0s - loss: 0.6932 - accuracy: 0.5025\n",
      "Epoch 7: val_loss did not improve from 0.69309\n",
      "383/383 [==============================] - 1s 2ms/step - loss: 0.6931 - accuracy: 0.5028 - val_loss: 0.6932 - val_accuracy: 0.4967\n",
      "Epoch 8/100\n",
      "368/383 [===========================>..] - ETA: 0s - loss: 0.6931 - accuracy: 0.5031\n",
      "Epoch 8: val_loss did not improve from 0.69309\n",
      "383/383 [==============================] - 1s 2ms/step - loss: 0.6931 - accuracy: 0.5028 - val_loss: 0.6932 - val_accuracy: 0.4967\n",
      "Epoch 9/100\n",
      "363/383 [===========================>..] - ETA: 0s - loss: 0.6931 - accuracy: 0.5002\n",
      "Epoch 9: val_loss did not improve from 0.69309\n",
      "383/383 [==============================] - 1s 2ms/step - loss: 0.6931 - accuracy: 0.4998 - val_loss: 0.6933 - val_accuracy: 0.4967\n",
      "Epoch 10/100\n",
      "366/383 [===========================>..] - ETA: 0s - loss: 0.6932 - accuracy: 0.5007\n",
      "Epoch 10: val_loss did not improve from 0.69309\n",
      "383/383 [==============================] - 1s 2ms/step - loss: 0.6932 - accuracy: 0.5013 - val_loss: 0.6932 - val_accuracy: 0.4967\n",
      "Epoch 11/100\n",
      "363/383 [===========================>..] - ETA: 0s - loss: 0.6932 - accuracy: 0.5025Restoring model weights from the end of the best epoch: 1.\n",
      "\n",
      "Epoch 11: val_loss did not improve from 0.69309\n",
      "383/383 [==============================] - 1s 2ms/step - loss: 0.6931 - accuracy: 0.5028 - val_loss: 0.6932 - val_accuracy: 0.4967\n",
      "Epoch 11: early stopping\n"
     ]
    }
   ],
   "source": [
    "# Train the model\n",
    "history = model.fit(X_train, y_train, epochs=100, batch_size=128, validation_split=0.3, callbacks=[early_stopping, checkpoint],\n",
    "                    verbose=1)"
   ]
  },
  {
   "cell_type": "markdown",
   "id": "a77f8ba9",
   "metadata": {},
   "source": [
    "### `Architecture III`"
   ]
  },
  {
   "cell_type": "code",
   "execution_count": null,
   "id": "7083bca6",
   "metadata": {},
   "outputs": [],
   "source": [
    "# Initialising the NN\n",
    "model = Sequential()\n",
    "\n",
    "# layers\n",
    "model.add(Dense(units = 16, kernel_initializer = 'uniform', activation = 'relu', input_dim = 4))\n",
    "model.add(Dense(units = 8, kernel_initializer = 'uniform', activation = 'relu'))\n",
    "model.add(Dropout(0.25))\n",
    "model.add(Dense(units = 4, kernel_initializer = 'uniform', activation = 'relu'))\n",
    "model.add(Dropout(0.5))\n",
    "model.add(Dense(units = 1, kernel_initializer = 'uniform', activation = 'sigmoid'))\n",
    "from keras.optimizers import SGD\n",
    "\n",
    "# Compiling the ANN\n",
    "model.compile(optimizer = 'adam', loss = 'binary_crossentropy', metrics = ['accuracy'])"
   ]
  },
  {
   "cell_type": "code",
   "execution_count": null,
   "id": "8087721a",
   "metadata": {},
   "outputs": [
    {
     "name": "stdout",
     "output_type": "stream",
     "text": [
      "Epoch 1/100\n",
      "365/383 [===========================>..] - ETA: 0s - loss: 0.6932 - accuracy: 0.4993\n",
      "Epoch 1: val_loss did not improve from 0.69309\n",
      "383/383 [==============================] - 2s 3ms/step - loss: 0.6932 - accuracy: 0.4992 - val_loss: 0.6932 - val_accuracy: 0.4967\n",
      "Epoch 2/100\n",
      "373/383 [============================>.] - ETA: 0s - loss: 0.6931 - accuracy: 0.5027\n",
      "Epoch 2: val_loss did not improve from 0.69309\n",
      "383/383 [==============================] - 1s 2ms/step - loss: 0.6931 - accuracy: 0.5028 - val_loss: 0.6932 - val_accuracy: 0.4967\n",
      "Epoch 3/100\n",
      "373/383 [============================>.] - ETA: 0s - loss: 0.6932 - accuracy: 0.5006\n",
      "Epoch 3: val_loss did not improve from 0.69309\n",
      "383/383 [==============================] - 1s 2ms/step - loss: 0.6932 - accuracy: 0.5007 - val_loss: 0.6932 - val_accuracy: 0.4967\n",
      "Epoch 4/100\n",
      "371/383 [============================>.] - ETA: 0s - loss: 0.6931 - accuracy: 0.5031\n",
      "Epoch 4: val_loss did not improve from 0.69309\n",
      "383/383 [==============================] - 1s 2ms/step - loss: 0.6931 - accuracy: 0.5028 - val_loss: 0.6932 - val_accuracy: 0.4967\n",
      "Epoch 5/100\n",
      "374/383 [============================>.] - ETA: 0s - loss: 0.6931 - accuracy: 0.5029\n",
      "Epoch 5: val_loss did not improve from 0.69309\n",
      "383/383 [==============================] - 1s 2ms/step - loss: 0.6931 - accuracy: 0.5028 - val_loss: 0.6932 - val_accuracy: 0.4967\n",
      "Epoch 6/100\n",
      "371/383 [============================>.] - ETA: 0s - loss: 0.6932 - accuracy: 0.5027\n",
      "Epoch 6: val_loss did not improve from 0.69309\n",
      "383/383 [==============================] - 1s 2ms/step - loss: 0.6931 - accuracy: 0.5028 - val_loss: 0.6932 - val_accuracy: 0.4967\n",
      "Epoch 7/100\n",
      "358/383 [===========================>..] - ETA: 0s - loss: 0.6932 - accuracy: 0.4971\n",
      "Epoch 7: val_loss did not improve from 0.69309\n",
      "383/383 [==============================] - 1s 2ms/step - loss: 0.6931 - accuracy: 0.4994 - val_loss: 0.6933 - val_accuracy: 0.4967\n",
      "Epoch 8/100\n",
      "376/383 [============================>.] - ETA: 0s - loss: 0.6932 - accuracy: 0.5032\n",
      "Epoch 8: val_loss did not improve from 0.69309\n",
      "383/383 [==============================] - 1s 2ms/step - loss: 0.6932 - accuracy: 0.5028 - val_loss: 0.6932 - val_accuracy: 0.4967\n",
      "Epoch 9/100\n",
      "376/383 [============================>.] - ETA: 0s - loss: 0.6932 - accuracy: 0.5022\n",
      "Epoch 9: val_loss did not improve from 0.69309\n",
      "383/383 [==============================] - 1s 2ms/step - loss: 0.6931 - accuracy: 0.5028 - val_loss: 0.6932 - val_accuracy: 0.4967\n",
      "Epoch 10/100\n",
      "374/383 [============================>.] - ETA: 0s - loss: 0.6932 - accuracy: 0.5026\n",
      "Epoch 10: val_loss did not improve from 0.69309\n",
      "383/383 [==============================] - 1s 2ms/step - loss: 0.6931 - accuracy: 0.5028 - val_loss: 0.6932 - val_accuracy: 0.4967\n",
      "Epoch 11/100\n",
      "375/383 [============================>.] - ETA: 0s - loss: 0.6931 - accuracy: 0.5024Restoring model weights from the end of the best epoch: 1.\n",
      "\n",
      "Epoch 11: val_loss did not improve from 0.69309\n",
      "383/383 [==============================] - 1s 2ms/step - loss: 0.6931 - accuracy: 0.5028 - val_loss: 0.6932 - val_accuracy: 0.4967\n",
      "Epoch 11: early stopping\n"
     ]
    }
   ],
   "source": [
    "# Train the model\n",
    "history = model.fit(X_train, y_train, epochs=100, batch_size=128, validation_split=0.3, callbacks=[early_stopping, checkpoint],\n",
    "                    verbose=1)"
   ]
  },
  {
   "cell_type": "markdown",
   "id": "a1267af1",
   "metadata": {},
   "source": [
    "### `Architecture IV`"
   ]
  },
  {
   "cell_type": "code",
   "execution_count": null,
   "id": "6e160692",
   "metadata": {},
   "outputs": [],
   "source": [
    "model = Sequential()\n",
    "\n",
    "# Input layer with BatchNormalization and Activation (ReLU)\n",
    "model.add(Dense(10, input_dim=4, kernel_initializer='he_normal'))\n",
    "model.add(BatchNormalization())\n",
    "model.add(Activation('relu'))\n",
    "\n",
    "# First hidden layer with BatchNormalization, Activation (ReLU), and Dropout\n",
    "model.add(Dense(10, kernel_initializer='he_normal'))\n",
    "model.add(BatchNormalization())\n",
    "model.add(Activation('relu'))\n",
    "model.add(Dropout(0.2))  # 20% dropout\n",
    "\n",
    "# Second hidden layer with BatchNormalization, Activation (ReLU), and Dropout\n",
    "model.add(Dense(5, kernel_initializer='he_normal'))\n",
    "model.add(BatchNormalization())\n",
    "model.add(Activation('relu'))\n",
    "model.add(Dropout(0.1))  # 10% dropout\n",
    "\n",
    "# Output layer with Sigmoid activation\n",
    "model.add(Dense(1, activation='sigmoid'))\n",
    "\n",
    "# Compile the model\n",
    "model.compile(optimizer=Adam(), loss='binary_crossentropy', metrics=['accuracy'])"
   ]
  },
  {
   "cell_type": "markdown",
   "id": "0ff07c03",
   "metadata": {},
   "source": [
    "**`Batch Normalization`** is used before the activation function in neural networks to enhance training stability and speed up convergence. By normalizing inputs within each batch, it maintains stable distribution and prevents extreme activations, leading to faster learning and better performance.\n",
    "\n",
    "\n",
    "**`\"He_normal\"`** is a weight initialization technique in neural networks. It sets initial weights to encourage effective learning, especially with ReLU activation. It helps prevent vanishing gradient and works well in deep networks."
   ]
  },
  {
   "cell_type": "code",
   "execution_count": null,
   "id": "2fb5b655",
   "metadata": {},
   "outputs": [
    {
     "ename": "NameError",
     "evalue": "name 'model' is not defined",
     "output_type": "error",
     "traceback": [
      "\u001b[1;31m---------------------------------------------------------------------------\u001b[0m",
      "\u001b[1;31mNameError\u001b[0m                                 Traceback (most recent call last)",
      "Cell \u001b[1;32mIn[46], line 2\u001b[0m\n\u001b[0;32m      1\u001b[0m \u001b[38;5;66;03m# Train the model\u001b[39;00m\n\u001b[1;32m----> 2\u001b[0m history \u001b[38;5;241m=\u001b[39m model\u001b[38;5;241m.\u001b[39mfit(X_train, y_train, epochs\u001b[38;5;241m=\u001b[39m\u001b[38;5;241m100\u001b[39m, batch_size\u001b[38;5;241m=\u001b[39m\u001b[38;5;241m128\u001b[39m, validation_split\u001b[38;5;241m=\u001b[39m\u001b[38;5;241m0.3\u001b[39m, callbacks\u001b[38;5;241m=\u001b[39m[early_stopping, checkpoint],\n\u001b[0;32m      3\u001b[0m                     verbose\u001b[38;5;241m=\u001b[39m\u001b[38;5;241m1\u001b[39m)\n",
      "\u001b[1;31mNameError\u001b[0m: name 'model' is not defined"
     ]
    }
   ],
   "source": [
    "# Train the model\n",
    "history = model.fit(X_train, y_train, epochs=100, batch_size=128, validation_split=0.3, callbacks=[early_stopping, checkpoint],\n",
    "                    verbose=1)"
   ]
  },
  {
   "cell_type": "markdown",
   "id": "fe2c0da8",
   "metadata": {},
   "source": [
    "### `Architecture V`"
   ]
  },
  {
   "cell_type": "code",
   "execution_count": null,
   "id": "4099a888",
   "metadata": {},
   "outputs": [
    {
     "ename": "NameError",
     "evalue": "name 'Sequential' is not defined",
     "output_type": "error",
     "traceback": [
      "\u001b[1;31m---------------------------------------------------------------------------\u001b[0m",
      "\u001b[1;31mNameError\u001b[0m                                 Traceback (most recent call last)",
      "Cell \u001b[1;32mIn[47], line 2\u001b[0m\n\u001b[0;32m      1\u001b[0m \u001b[38;5;66;03m# Build the neural network\u001b[39;00m\n\u001b[1;32m----> 2\u001b[0m model \u001b[38;5;241m=\u001b[39m Sequential([\n\u001b[0;32m      3\u001b[0m     Dense(\u001b[38;5;241m64\u001b[39m, activation \u001b[38;5;241m=\u001b[39m \u001b[38;5;124m'\u001b[39m\u001b[38;5;124mrelu\u001b[39m\u001b[38;5;124m'\u001b[39m, input_dim \u001b[38;5;241m=\u001b[39m \u001b[38;5;241m4\u001b[39m),\n\u001b[0;32m      4\u001b[0m     Dropout(\u001b[38;5;241m0.5\u001b[39m),\n\u001b[0;32m      5\u001b[0m     Dense(\u001b[38;5;241m32\u001b[39m, activation\u001b[38;5;241m=\u001b[39m\u001b[38;5;124m'\u001b[39m\u001b[38;5;124mrelu\u001b[39m\u001b[38;5;124m'\u001b[39m),\n\u001b[0;32m      6\u001b[0m     Dropout(\u001b[38;5;241m0.5\u001b[39m),\n\u001b[0;32m      7\u001b[0m     Dense(\u001b[38;5;241m1\u001b[39m, activation\u001b[38;5;241m=\u001b[39m\u001b[38;5;124m'\u001b[39m\u001b[38;5;124msigmoid\u001b[39m\u001b[38;5;124m'\u001b[39m)\n\u001b[0;32m      8\u001b[0m ])\n\u001b[0;32m     10\u001b[0m \u001b[38;5;66;03m# Compile the model\u001b[39;00m\n\u001b[0;32m     11\u001b[0m model\u001b[38;5;241m.\u001b[39mcompile(optimizer\u001b[38;5;241m=\u001b[39mAdam(), loss\u001b[38;5;241m=\u001b[39m\u001b[38;5;124m'\u001b[39m\u001b[38;5;124mbinary_crossentropy\u001b[39m\u001b[38;5;124m'\u001b[39m, metrics\u001b[38;5;241m=\u001b[39m[\u001b[38;5;124m'\u001b[39m\u001b[38;5;124maccuracy\u001b[39m\u001b[38;5;124m'\u001b[39m])\n",
      "\u001b[1;31mNameError\u001b[0m: name 'Sequential' is not defined"
     ]
    }
   ],
   "source": [
    "# Build the neural network\n",
    "model = Sequential([\n",
    "    Dense(64, activation = 'relu', input_dim = 4),\n",
    "    Dropout(0.5),\n",
    "    Dense(32, activation='relu'),\n",
    "    Dropout(0.5),\n",
    "    Dense(1, activation='sigmoid')\n",
    "])\n",
    "\n",
    "# Compile the model\n",
    "model.compile(optimizer=Adam(), loss='binary_crossentropy', metrics=['accuracy'])"
   ]
  },
  {
   "cell_type": "code",
   "execution_count": null,
   "id": "f8f20a8b",
   "metadata": {},
   "outputs": [
    {
     "ename": "NameError",
     "evalue": "name 'model' is not defined",
     "output_type": "error",
     "traceback": [
      "\u001b[1;31m---------------------------------------------------------------------------\u001b[0m",
      "\u001b[1;31mNameError\u001b[0m                                 Traceback (most recent call last)",
      "Cell \u001b[1;32mIn[48], line 2\u001b[0m\n\u001b[0;32m      1\u001b[0m \u001b[38;5;66;03m# Train the model\u001b[39;00m\n\u001b[1;32m----> 2\u001b[0m history \u001b[38;5;241m=\u001b[39m model\u001b[38;5;241m.\u001b[39mfit(X_train, y_train, epochs\u001b[38;5;241m=\u001b[39m\u001b[38;5;241m100\u001b[39m, batch_size\u001b[38;5;241m=\u001b[39m\u001b[38;5;241m128\u001b[39m, validation_split\u001b[38;5;241m=\u001b[39m\u001b[38;5;241m0.2\u001b[39m, callbacks\u001b[38;5;241m=\u001b[39m[early_stopping, checkpoint],\n\u001b[0;32m      3\u001b[0m                     verbose\u001b[38;5;241m=\u001b[39m\u001b[38;5;241m1\u001b[39m)\n",
      "\u001b[1;31mNameError\u001b[0m: name 'model' is not defined"
     ]
    }
   ],
   "source": [
    "# Train the model\n",
    "history = model.fit(X_train, y_train, epochs=100, batch_size=128, validation_split=0.2, callbacks=[early_stopping, checkpoint],\n",
    "                    verbose=1)"
   ]
  },
  {
   "cell_type": "markdown",
   "id": "0a931ea6",
   "metadata": {},
   "source": [
    "* **I have tried multiple ANN architectures, but none of them have provided good results.**"
   ]
  },
  {
   "cell_type": "markdown",
   "id": "a86a95d2",
   "metadata": {},
   "source": [
    "## `Ensembles of Random Forest`"
   ]
  },
  {
   "cell_type": "code",
   "execution_count": null,
   "id": "1d7fb4d9",
   "metadata": {},
   "outputs": [
    {
     "ename": "NameError",
     "evalue": "name 'AdaBoostClassifier' is not defined",
     "output_type": "error",
     "traceback": [
      "\u001b[1;31m---------------------------------------------------------------------------\u001b[0m",
      "\u001b[1;31mNameError\u001b[0m                                 Traceback (most recent call last)",
      "Cell \u001b[1;32mIn[49], line 5\u001b[0m\n\u001b[0;32m      2\u001b[0m base_estimator \u001b[38;5;241m=\u001b[39m RandomForestClassifier(n_estimators\u001b[38;5;241m=\u001b[39m\u001b[38;5;241m100\u001b[39m, random_state\u001b[38;5;241m=\u001b[39m\u001b[38;5;241m42\u001b[39m)\n\u001b[0;32m      4\u001b[0m \u001b[38;5;66;03m# Initialize models\u001b[39;00m\n\u001b[1;32m----> 5\u001b[0m adaboost_model \u001b[38;5;241m=\u001b[39m AdaBoostClassifier(base_estimator\u001b[38;5;241m=\u001b[39mbase_estimator, n_estimators\u001b[38;5;241m=\u001b[39m\u001b[38;5;241m50\u001b[39m, random_state\u001b[38;5;241m=\u001b[39m\u001b[38;5;241m42\u001b[39m)\n\u001b[0;32m      6\u001b[0m gradient_boost_model \u001b[38;5;241m=\u001b[39m GradientBoostingClassifier(n_estimators\u001b[38;5;241m=\u001b[39m\u001b[38;5;241m50\u001b[39m, random_state\u001b[38;5;241m=\u001b[39m\u001b[38;5;241m42\u001b[39m)\n\u001b[0;32m      7\u001b[0m xgboost_model \u001b[38;5;241m=\u001b[39m XGBClassifier(n_estimators\u001b[38;5;241m=\u001b[39m\u001b[38;5;241m50\u001b[39m, random_state\u001b[38;5;241m=\u001b[39m\u001b[38;5;241m42\u001b[39m)\n",
      "\u001b[1;31mNameError\u001b[0m: name 'AdaBoostClassifier' is not defined"
     ]
    }
   ],
   "source": [
    "# Initialize base estimator (Random Forest)\n",
    "base_estimator = RandomForestClassifier(n_estimators=100, random_state=42)\n",
    "\n",
    "# Initialize models\n",
    "adaboost_model = AdaBoostClassifier(base_estimator=base_estimator, n_estimators=50, random_state=42)\n",
    "gradient_boost_model = GradientBoostingClassifier(n_estimators=50, random_state=42)\n",
    "xgboost_model = XGBClassifier(n_estimators=50, random_state=42)\n",
    "\n",
    "# Initialize lists to store metrics\n",
    "models = ['AdaBoost', 'Gradient Boosting', 'XGBoost']\n",
    "metrics = ['Accuracy', 'Precision', 'Recall', 'F1 Score', 'Building Time']\n",
    "results_train = {metric: [] for metric in metrics}\n",
    "results_test = {metric: [] for metric in metrics}\n",
    "\n",
    "# Train and evaluate models\n",
    "for model in [adaboost_model, gradient_boost_model, xgboost_model]:\n",
    "    start_time = time.time()\n",
    "    model.fit(X_train, y_train)\n",
    "    end_time = time.time()\n",
    "\n",
    "    # Predict on the training set\n",
    "    y_train_pred = model.predict(X_train)\n",
    "\n",
    "    # Calculate metrics on training data\n",
    "    accuracy_train = accuracy_score(y_train, y_train_pred)\n",
    "    precision_train = precision_score(y_train, y_train_pred, average='weighted')\n",
    "    recall_train = recall_score(y_train, y_train_pred, average='weighted')\n",
    "    f1_train = f1_score(y_train, y_train_pred, average='weighted')\n",
    "    building_time = end_time - start_time\n",
    "\n",
    "    # Predict on the test set\n",
    "    y_test_pred = model.predict(X_test)\n",
    "\n",
    "    # Calculate metrics on test data\n",
    "    accuracy_test = accuracy_score(y_test, y_test_pred)\n",
    "    precision_test = precision_score(y_test, y_test_pred, average='weighted')\n",
    "    recall_test = recall_score(y_test, y_test_pred, average='weighted')\n",
    "    f1_test = f1_score(y_test, y_test_pred, average='weighted')\n",
    "\n",
    "    # Append metrics to the results dictionaries\n",
    "    results_train['Accuracy'].append(accuracy_train)\n",
    "    results_train['Precision'].append(precision_train)\n",
    "    results_train['Recall'].append(recall_train)\n",
    "    results_train['F1 Score'].append(f1_train)\n",
    "    results_train['Building Time'].append(building_time)\n",
    "\n",
    "    results_test['Accuracy'].append(accuracy_test)\n",
    "    results_test['Precision'].append(precision_test)\n",
    "    results_test['Recall'].append(recall_test)\n",
    "    results_test['F1 Score'].append(f1_test)\n",
    "    results_test['Building Time'].append(building_time)\n",
    "\n",
    "# Create DataFrames from the results\n",
    "results_train_df = pd.DataFrame(results_train, index=models)\n",
    "results_test_df = pd.DataFrame(results_test, index=models)\n",
    "\n",
    "# Display the DataFrames\n",
    "print(\"Training Data Results:\")\n",
    "results_train_df"
   ]
  },
  {
   "cell_type": "code",
   "execution_count": null,
   "id": "db7b3d7e",
   "metadata": {},
   "outputs": [
    {
     "name": "stdout",
     "output_type": "stream",
     "text": [
      "\n",
      "Test Data Results:\n"
     ]
    },
    {
     "ename": "NameError",
     "evalue": "name 'results_test_df' is not defined",
     "output_type": "error",
     "traceback": [
      "\u001b[1;31m---------------------------------------------------------------------------\u001b[0m",
      "\u001b[1;31mNameError\u001b[0m                                 Traceback (most recent call last)",
      "Cell \u001b[1;32mIn[50], line 2\u001b[0m\n\u001b[0;32m      1\u001b[0m \u001b[38;5;28mprint\u001b[39m(\u001b[38;5;124m\"\u001b[39m\u001b[38;5;130;01m\\n\u001b[39;00m\u001b[38;5;124mTest Data Results:\u001b[39m\u001b[38;5;124m\"\u001b[39m)\n\u001b[1;32m----> 2\u001b[0m results_test_df\n",
      "\u001b[1;31mNameError\u001b[0m: name 'results_test_df' is not defined"
     ]
    }
   ],
   "source": [
    "print(\"\\nTest Data Results:\")\n",
    "results_test_df"
   ]
  },
  {
   "cell_type": "markdown",
   "id": "667932e4",
   "metadata": {},
   "source": [
    "* **The performance of ensembles can vary, but they are usually not much better than individual algorithms.**\n",
    "\n",
    "\n",
    "* **None of the ensembles provided the desired results. So, I decided to trial and error using a different approach.**"
   ]
  },
  {
   "cell_type": "markdown",
   "id": "2d764cee",
   "metadata": {},
   "source": [
    "# `Model Building: PCA`"
   ]
  },
  {
   "cell_type": "code",
   "execution_count": null,
   "id": "94366989",
   "metadata": {},
   "outputs": [],
   "source": [
    "df_cleaned = pd.get_dummies(df_cleaned, columns=['Gender', 'Location'], drop_first = True)"
   ]
  },
  {
   "cell_type": "code",
   "execution_count": null,
   "id": "b7040da2",
   "metadata": {},
   "outputs": [],
   "source": [
    "x = df_cleaned.drop('Churn', axis=1)\n",
    "y = df_cleaned['Churn']"
   ]
  },
  {
   "cell_type": "code",
   "execution_count": null,
   "id": "c08cf20c",
   "metadata": {},
   "outputs": [],
   "source": [
    "X_train, X_test, y_train, y_test = train_test_split(x, y, test_size=0.3, random_state=42)"
   ]
  },
  {
   "cell_type": "code",
   "execution_count": null,
   "id": "1369be14",
   "metadata": {},
   "outputs": [],
   "source": [
    "from sklearn.preprocessing import StandardScaler\n",
    "\n",
    "scaler = StandardScaler()\n",
    "\n",
    "X_train = scaler.fit_transform(X_train)\n",
    "\n",
    "X_test = scaler.transform(X_test)"
   ]
  },
  {
   "cell_type": "code",
   "execution_count": null,
   "id": "16d2a470",
   "metadata": {},
   "outputs": [],
   "source": [
    "# Convert scaled numpy arrays back to DataFrames\n",
    "\n",
    "X_train = pd.DataFrame(X_train)\n",
    "\n",
    "X_test = pd.DataFrame(X_test)"
   ]
  },
  {
   "cell_type": "code",
   "execution_count": null,
   "id": "16766486",
   "metadata": {},
   "outputs": [
    {
     "data": {
      "text/html": [
       "<div>\n",
       "<style scoped>\n",
       "    .dataframe tbody tr th:only-of-type {\n",
       "        vertical-align: middle;\n",
       "    }\n",
       "\n",
       "    .dataframe tbody tr th {\n",
       "        vertical-align: top;\n",
       "    }\n",
       "\n",
       "    .dataframe thead th {\n",
       "        text-align: right;\n",
       "    }\n",
       "</style>\n",
       "<table border=\"1\" class=\"dataframe\">\n",
       "  <thead>\n",
       "    <tr style=\"text-align: right;\">\n",
       "      <th></th>\n",
       "      <th>0</th>\n",
       "      <th>1</th>\n",
       "      <th>2</th>\n",
       "      <th>3</th>\n",
       "      <th>4</th>\n",
       "      <th>5</th>\n",
       "      <th>6</th>\n",
       "      <th>7</th>\n",
       "      <th>8</th>\n",
       "    </tr>\n",
       "  </thead>\n",
       "  <tbody>\n",
       "    <tr>\n",
       "      <th>0</th>\n",
       "      <td>-1.243589</td>\n",
       "      <td>0.074501</td>\n",
       "      <td>1.632642</td>\n",
       "      <td>1.481066</td>\n",
       "      <td>1.005731</td>\n",
       "      <td>-0.502610</td>\n",
       "      <td>1.998751</td>\n",
       "      <td>-0.502499</td>\n",
       "      <td>-0.498169</td>\n",
       "    </tr>\n",
       "    <tr>\n",
       "      <th>1</th>\n",
       "      <td>0.654284</td>\n",
       "      <td>-1.515230</td>\n",
       "      <td>0.336478</td>\n",
       "      <td>0.829765</td>\n",
       "      <td>-0.994302</td>\n",
       "      <td>1.989613</td>\n",
       "      <td>-0.500312</td>\n",
       "      <td>-0.502499</td>\n",
       "      <td>-0.498169</td>\n",
       "    </tr>\n",
       "    <tr>\n",
       "      <th>2</th>\n",
       "      <td>-0.785482</td>\n",
       "      <td>1.086147</td>\n",
       "      <td>0.027632</td>\n",
       "      <td>1.166909</td>\n",
       "      <td>1.005731</td>\n",
       "      <td>-0.502610</td>\n",
       "      <td>-0.500312</td>\n",
       "      <td>-0.502499</td>\n",
       "      <td>-0.498169</td>\n",
       "    </tr>\n",
       "    <tr>\n",
       "      <th>3</th>\n",
       "      <td>1.112391</td>\n",
       "      <td>-0.070020</td>\n",
       "      <td>0.894871</td>\n",
       "      <td>-1.614532</td>\n",
       "      <td>-0.994302</td>\n",
       "      <td>1.989613</td>\n",
       "      <td>-0.500312</td>\n",
       "      <td>-0.502499</td>\n",
       "      <td>-0.498169</td>\n",
       "    </tr>\n",
       "    <tr>\n",
       "      <th>4</th>\n",
       "      <td>1.701386</td>\n",
       "      <td>-1.081667</td>\n",
       "      <td>-1.144499</td>\n",
       "      <td>-1.346349</td>\n",
       "      <td>-0.994302</td>\n",
       "      <td>-0.502610</td>\n",
       "      <td>-0.500312</td>\n",
       "      <td>-0.502499</td>\n",
       "      <td>2.007351</td>\n",
       "    </tr>\n",
       "  </tbody>\n",
       "</table>\n",
       "</div>"
      ],
      "text/plain": [
       "          0         1         2         3         4         5         6  \\\n",
       "0 -1.243589  0.074501  1.632642  1.481066  1.005731 -0.502610  1.998751   \n",
       "1  0.654284 -1.515230  0.336478  0.829765 -0.994302  1.989613 -0.500312   \n",
       "2 -0.785482  1.086147  0.027632  1.166909  1.005731 -0.502610 -0.500312   \n",
       "3  1.112391 -0.070020  0.894871 -1.614532 -0.994302  1.989613 -0.500312   \n",
       "4  1.701386 -1.081667 -1.144499 -1.346349 -0.994302 -0.502610 -0.500312   \n",
       "\n",
       "          7         8  \n",
       "0 -0.502499 -0.498169  \n",
       "1 -0.502499 -0.498169  \n",
       "2 -0.502499 -0.498169  \n",
       "3 -0.502499 -0.498169  \n",
       "4 -0.502499  2.007351  "
      ]
     },
     "execution_count": 56,
     "metadata": {},
     "output_type": "execute_result"
    }
   ],
   "source": [
    "X_train.head()"
   ]
  },
  {
   "cell_type": "code",
   "execution_count": null,
   "id": "b4452a34",
   "metadata": {},
   "outputs": [
    {
     "data": {
      "text/html": [
       "<div>\n",
       "<style scoped>\n",
       "    .dataframe tbody tr th:only-of-type {\n",
       "        vertical-align: middle;\n",
       "    }\n",
       "\n",
       "    .dataframe tbody tr th {\n",
       "        vertical-align: top;\n",
       "    }\n",
       "\n",
       "    .dataframe thead th {\n",
       "        text-align: right;\n",
       "    }\n",
       "</style>\n",
       "<table border=\"1\" class=\"dataframe\">\n",
       "  <thead>\n",
       "    <tr style=\"text-align: right;\">\n",
       "      <th></th>\n",
       "      <th>0</th>\n",
       "      <th>1</th>\n",
       "      <th>2</th>\n",
       "      <th>3</th>\n",
       "      <th>4</th>\n",
       "      <th>5</th>\n",
       "      <th>6</th>\n",
       "      <th>7</th>\n",
       "      <th>8</th>\n",
       "    </tr>\n",
       "  </thead>\n",
       "  <tbody>\n",
       "    <tr>\n",
       "      <th>0</th>\n",
       "      <td>0.261620</td>\n",
       "      <td>-0.214541</td>\n",
       "      <td>1.155784</td>\n",
       "      <td>1.664963</td>\n",
       "      <td>-0.994302</td>\n",
       "      <td>1.989613</td>\n",
       "      <td>-0.500312</td>\n",
       "      <td>-0.502499</td>\n",
       "      <td>-0.498169</td>\n",
       "    </tr>\n",
       "    <tr>\n",
       "      <th>1</th>\n",
       "      <td>0.327064</td>\n",
       "      <td>0.074501</td>\n",
       "      <td>-1.209728</td>\n",
       "      <td>1.136259</td>\n",
       "      <td>1.005731</td>\n",
       "      <td>-0.502610</td>\n",
       "      <td>-0.500312</td>\n",
       "      <td>-0.502499</td>\n",
       "      <td>2.007351</td>\n",
       "    </tr>\n",
       "    <tr>\n",
       "      <th>2</th>\n",
       "      <td>-0.850926</td>\n",
       "      <td>-1.081667</td>\n",
       "      <td>-1.585284</td>\n",
       "      <td>0.009891</td>\n",
       "      <td>-0.994302</td>\n",
       "      <td>-0.502610</td>\n",
       "      <td>1.998751</td>\n",
       "      <td>-0.502499</td>\n",
       "      <td>-0.498169</td>\n",
       "    </tr>\n",
       "    <tr>\n",
       "      <th>3</th>\n",
       "      <td>0.588840</td>\n",
       "      <td>-1.226188</td>\n",
       "      <td>1.461171</td>\n",
       "      <td>0.492620</td>\n",
       "      <td>1.005731</td>\n",
       "      <td>-0.502610</td>\n",
       "      <td>-0.500312</td>\n",
       "      <td>-0.502499</td>\n",
       "      <td>2.007351</td>\n",
       "    </tr>\n",
       "    <tr>\n",
       "      <th>4</th>\n",
       "      <td>-1.374477</td>\n",
       "      <td>1.664231</td>\n",
       "      <td>0.845950</td>\n",
       "      <td>0.224437</td>\n",
       "      <td>-0.994302</td>\n",
       "      <td>-0.502610</td>\n",
       "      <td>1.998751</td>\n",
       "      <td>-0.502499</td>\n",
       "      <td>-0.498169</td>\n",
       "    </tr>\n",
       "  </tbody>\n",
       "</table>\n",
       "</div>"
      ],
      "text/plain": [
       "          0         1         2         3         4         5         6  \\\n",
       "0  0.261620 -0.214541  1.155784  1.664963 -0.994302  1.989613 -0.500312   \n",
       "1  0.327064  0.074501 -1.209728  1.136259  1.005731 -0.502610 -0.500312   \n",
       "2 -0.850926 -1.081667 -1.585284  0.009891 -0.994302 -0.502610  1.998751   \n",
       "3  0.588840 -1.226188  1.461171  0.492620  1.005731 -0.502610 -0.500312   \n",
       "4 -1.374477  1.664231  0.845950  0.224437 -0.994302 -0.502610  1.998751   \n",
       "\n",
       "          7         8  \n",
       "0 -0.502499 -0.498169  \n",
       "1 -0.502499  2.007351  \n",
       "2 -0.502499 -0.498169  \n",
       "3 -0.502499  2.007351  \n",
       "4 -0.502499 -0.498169  "
      ]
     },
     "execution_count": 57,
     "metadata": {},
     "output_type": "execute_result"
    }
   ],
   "source": [
    "X_test.head()"
   ]
  },
  {
   "cell_type": "code",
   "execution_count": null,
   "id": "ef9075d2",
   "metadata": {},
   "outputs": [],
   "source": [
    "from sklearn.decomposition import PCA\n",
    "\n",
    "pca = PCA()\n",
    "\n",
    "X_train_pca = pca.fit_transform(X_train)"
   ]
  },
  {
   "cell_type": "code",
   "execution_count": null,
   "id": "f85ebff6",
   "metadata": {},
   "outputs": [
    {
     "data": {
      "text/plain": [
       "(70000, 9)"
      ]
     },
     "execution_count": 59,
     "metadata": {},
     "output_type": "execute_result"
    }
   ],
   "source": [
    "X_train_pca.shape"
   ]
  },
  {
   "cell_type": "code",
   "execution_count": null,
   "id": "11681537",
   "metadata": {},
   "outputs": [
    {
     "data": {
      "image/png": "[encoded data removed]",
      "text/plain": [
       "<Figure size 1000x600 with 1 Axes>"
      ]
     },
     "metadata": {},
     "output_type": "display_data"
    }
   ],
   "source": [
    "# Calculate the explained variance ratio\n",
    "explained_variance_ratio = pca.explained_variance_ratio_\n",
    "\n",
    "# Calculate the cumulative explained variance ratio\n",
    "cumulative_variance_ratio = np.cumsum(explained_variance_ratio)\n",
    "\n",
    "# Plot the scree plot\n",
    "plt.figure(figsize=(10, 6))\n",
    "plt.plot(range(1, len(cumulative_variance_ratio) + 1), cumulative_variance_ratio, marker='o')\n",
    "plt.title('Scree Plot')\n",
    "plt.xlabel('Number of Principal Components')\n",
    "plt.ylabel('Cumulative Explained Variance Ratio')\n",
    "plt.grid()\n",
    "plt.show()"
   ]
  },
  {
   "cell_type": "markdown",
   "id": "1c3cfb5a",
   "metadata": {},
   "source": [
    "**8 out of 9 principal components (PCs) capture approximately 98% of the variance of the data. Therefore, I will select 8 PCs for further analysis.**"
   ]
  },
  {
   "cell_type": "code",
   "execution_count": null,
   "id": "fad67fa8",
   "metadata": {},
   "outputs": [],
   "source": [
    "pca = PCA(n_components=8)  # Select 8 principal components\n",
    "\n",
    "X_train_pca = pca.fit_transform(X_train)\n",
    "X_test_pca = pca.transform(X_test)"
   ]
  },
  {
   "cell_type": "code",
   "execution_count": null,
   "id": "20bae1ae",
   "metadata": {},
   "outputs": [
    {
     "data": {
      "text/plain": [
       "((70000, 8), (30000, 8))"
      ]
     },
     "execution_count": 62,
     "metadata": {},
     "output_type": "execute_result"
    }
   ],
   "source": [
    "X_train_pca.shape, X_test_pca.shape"
   ]
  },
  {
   "cell_type": "code",
   "execution_count": null,
   "id": "16cbbe8c",
   "metadata": {},
   "outputs": [
    {
     "ename": "NameError",
     "evalue": "name 'LogisticRegression' is not defined",
     "output_type": "error",
     "traceback": [
      "\u001b[1;31m---------------------------------------------------------------------------\u001b[0m",
      "\u001b[1;31mNameError\u001b[0m                                 Traceback (most recent call last)",
      "Cell \u001b[1;32mIn[63], line 2\u001b[0m\n\u001b[0;32m      1\u001b[0m algorithms \u001b[38;5;241m=\u001b[39m [\n\u001b[1;32m----> 2\u001b[0m     LogisticRegression(n_jobs\u001b[38;5;241m=\u001b[39m\u001b[38;5;241m-\u001b[39m\u001b[38;5;241m1\u001b[39m, random_state\u001b[38;5;241m=\u001b[39m\u001b[38;5;241m42\u001b[39m),\n\u001b[0;32m      3\u001b[0m     DecisionTreeClassifier(random_state\u001b[38;5;241m=\u001b[39m\u001b[38;5;241m42\u001b[39m),\n\u001b[0;32m      4\u001b[0m     KNeighborsClassifier(n_jobs\u001b[38;5;241m=\u001b[39m\u001b[38;5;241m-\u001b[39m\u001b[38;5;241m1\u001b[39m),\n\u001b[0;32m      5\u001b[0m     GaussianNB(),\n\u001b[0;32m      6\u001b[0m     AdaBoostClassifier(random_state\u001b[38;5;241m=\u001b[39m\u001b[38;5;241m42\u001b[39m),\n\u001b[0;32m      7\u001b[0m     GradientBoostingClassifier(random_state\u001b[38;5;241m=\u001b[39m\u001b[38;5;241m42\u001b[39m),\n\u001b[0;32m      8\u001b[0m     RandomForestClassifier(n_jobs\u001b[38;5;241m=\u001b[39m\u001b[38;5;241m-\u001b[39m\u001b[38;5;241m1\u001b[39m, random_state\u001b[38;5;241m=\u001b[39m\u001b[38;5;241m42\u001b[39m),\n\u001b[0;32m      9\u001b[0m     XGBClassifier(n_jobs\u001b[38;5;241m=\u001b[39m\u001b[38;5;241m-\u001b[39m\u001b[38;5;241m1\u001b[39m, random_state\u001b[38;5;241m=\u001b[39m\u001b[38;5;241m42\u001b[39m),\n\u001b[0;32m     10\u001b[0m     SVC(random_state\u001b[38;5;241m=\u001b[39m\u001b[38;5;241m42\u001b[39m)\n\u001b[0;32m     11\u001b[0m ]\n\u001b[0;32m     13\u001b[0m \u001b[38;5;66;03m# Initialize the results dictionary for training data\u001b[39;00m\n\u001b[0;32m     14\u001b[0m results_train \u001b[38;5;241m=\u001b[39m {\n\u001b[0;32m     15\u001b[0m     \u001b[38;5;124m'\u001b[39m\u001b[38;5;124mAlgorithm\u001b[39m\u001b[38;5;124m'\u001b[39m: [],\n\u001b[0;32m     16\u001b[0m     \u001b[38;5;124m'\u001b[39m\u001b[38;5;124mAccuracy\u001b[39m\u001b[38;5;124m'\u001b[39m: [],\n\u001b[1;32m   (...)\u001b[0m\n\u001b[0;32m     20\u001b[0m     \u001b[38;5;124m'\u001b[39m\u001b[38;5;124mBuilding Time (s)\u001b[39m\u001b[38;5;124m'\u001b[39m: []\n\u001b[0;32m     21\u001b[0m }\n",
      "\u001b[1;31mNameError\u001b[0m: name 'LogisticRegression' is not defined"
     ]
    }
   ],
   "source": [
    "algorithms = [\n",
    "    LogisticRegression(n_jobs=-1, random_state=42),\n",
    "    DecisionTreeClassifier(random_state=42),\n",
    "    KNeighborsClassifier(n_jobs=-1),\n",
    "    GaussianNB(),\n",
    "    AdaBoostClassifier(random_state=42),\n",
    "    GradientBoostingClassifier(random_state=42),\n",
    "    RandomForestClassifier(n_jobs=-1, random_state=42),\n",
    "    XGBClassifier(n_jobs=-1, random_state=42),\n",
    "    SVC(random_state=42)\n",
    "]\n",
    "\n",
    "# Initialize the results dictionary for training data\n",
    "results_train = {\n",
    "    'Algorithm': [],\n",
    "    'Accuracy': [],\n",
    "    'Precision': [],\n",
    "    'Recall': [],\n",
    "    'F1-score': [],\n",
    "    'Building Time (s)': []\n",
    "}\n",
    "\n",
    "# Apply the algorithms and calculate performance metrics for training data using X_train_pca\n",
    "for algorithm in algorithms:\n",
    "    start_time = time.time()  # Start timer\n",
    "\n",
    "    algorithm_name = type(algorithm).__name__\n",
    "    algorithm.fit(X_train_pca, y_train)\n",
    "    y_train_pred = algorithm.predict(X_train_pca)\n",
    "\n",
    "    accuracy = accuracy_score(y_train, y_train_pred)\n",
    "    precision = precision_score(y_train, y_train_pred, average='weighted')\n",
    "    recall = recall_score(y_train, y_train_pred, average='weighted')\n",
    "    f1 = f1_score(y_train, y_train_pred, average='weighted')\n",
    "\n",
    "    end_time = time.time()  # End timer\n",
    "    building_time = end_time - start_time\n",
    "\n",
    "    results_train['Algorithm'].append(algorithm_name)\n",
    "    results_train['Accuracy'].append(accuracy)\n",
    "    results_train['Precision'].append(precision)\n",
    "    results_train['Recall'].append(recall)\n",
    "    results_train['F1-score'].append(f1)\n",
    "    results_train['Building Time (s)'].append(building_time)\n",
    "\n",
    "# Create a DataFrame for the training data results\n",
    "df_train = pd.DataFrame(results_train)\n",
    "df_train"
   ]
  },
  {
   "cell_type": "code",
   "execution_count": null,
   "id": "651353c3",
   "metadata": {},
   "outputs": [
    {
     "ename": "NameError",
     "evalue": "name 'algorithms' is not defined",
     "output_type": "error",
     "traceback": [
      "\u001b[1;31m---------------------------------------------------------------------------\u001b[0m",
      "\u001b[1;31mNameError\u001b[0m                                 Traceback (most recent call last)",
      "Cell \u001b[1;32mIn[64], line 10\u001b[0m\n\u001b[0;32m      1\u001b[0m results_test \u001b[38;5;241m=\u001b[39m {\n\u001b[0;32m      2\u001b[0m     \u001b[38;5;124m'\u001b[39m\u001b[38;5;124mAlgorithm\u001b[39m\u001b[38;5;124m'\u001b[39m: [],\n\u001b[0;32m      3\u001b[0m     \u001b[38;5;124m'\u001b[39m\u001b[38;5;124mAccuracy\u001b[39m\u001b[38;5;124m'\u001b[39m: [],\n\u001b[1;32m   (...)\u001b[0m\n\u001b[0;32m      6\u001b[0m     \u001b[38;5;124m'\u001b[39m\u001b[38;5;124mF1-score\u001b[39m\u001b[38;5;124m'\u001b[39m: []\n\u001b[0;32m      7\u001b[0m }\n\u001b[0;32m      9\u001b[0m \u001b[38;5;66;03m# Apply the algorithms and calculate performance metrics for test data using X_test_pca\u001b[39;00m\n\u001b[1;32m---> 10\u001b[0m \u001b[38;5;28;01mfor\u001b[39;00m algorithm \u001b[38;5;129;01min\u001b[39;00m algorithms:\n\u001b[0;32m     11\u001b[0m     algorithm_name \u001b[38;5;241m=\u001b[39m \u001b[38;5;28mtype\u001b[39m(algorithm)\u001b[38;5;241m.\u001b[39m\u001b[38;5;18m__name__\u001b[39m\n\u001b[0;32m     12\u001b[0m     y_test_pred \u001b[38;5;241m=\u001b[39m algorithm\u001b[38;5;241m.\u001b[39mpredict(X_test_pca)\n",
      "\u001b[1;31mNameError\u001b[0m: name 'algorithms' is not defined"
     ]
    }
   ],
   "source": [
    "results_test = {\n",
    "    'Algorithm': [],\n",
    "    'Accuracy': [],\n",
    "    'Precision': [],\n",
    "    'Recall': [],\n",
    "    'F1-score': []\n",
    "}\n",
    "\n",
    "# Apply the algorithms and calculate performance metrics for test data using X_test_pca\n",
    "for algorithm in algorithms:\n",
    "    algorithm_name = type(algorithm).__name__\n",
    "    y_test_pred = algorithm.predict(X_test_pca)\n",
    "\n",
    "    accuracy = accuracy_score(y_test, y_test_pred)\n",
    "    precision = precision_score(y_test, y_test_pred, average='weighted')\n",
    "    recall = recall_score(y_test, y_test_pred, average='weighted')\n",
    "    f1 = f1_score(y_test, y_test_pred, average='weighted')\n",
    "\n",
    "    results_test['Algorithm'].append(algorithm_name)\n",
    "    results_test['Accuracy'].append(accuracy)\n",
    "    results_test['Precision'].append(precision)\n",
    "    results_test['Recall'].append(recall)\n",
    "    results_test['F1-score'].append(f1)\n",
    "\n",
    "# Create a DataFrame for the test data results\n",
    "df_test = pd.DataFrame(results_test)\n",
    "df_test"
   ]
  },
  {
   "cell_type": "markdown",
   "id": "01aa5ff2",
   "metadata": {},
   "source": [
    "**There's no significant improvement in performance with PCA.**"
   ]
  },
  {
   "cell_type": "markdown",
   "id": "003e0238",
   "metadata": {},
   "source": [
    "**`Final Model:` XGBClassifier is the best-performing algorithm on both the training and test data, using 9 variables, 4 variables, or PCA. It has the highest accuracy, precision, recall, and F1-score on all three. Therefore, I will build the final model using XGBoost Classifier using 9 variables.**"
   ]
  },
  {
   "cell_type": "markdown",
   "id": "551aff0a",
   "metadata": {},
   "source": [
    "# `Final Model: XGBoost Using 9 variables`"
   ]
  },
  {
   "cell_type": "code",
   "execution_count": null,
   "id": "017bf4e8",
   "metadata": {},
   "outputs": [],
   "source": [
    "x = df_cleaned.drop(\"Churn\",axis=1)\n",
    "y = df_cleaned['Churn']"
   ]
  },
  {
   "cell_type": "code",
   "execution_count": null,
   "id": "1ad161be",
   "metadata": {},
   "outputs": [],
   "source": [
    "X_train, X_test, y_train, y_test = train_test_split(x, y, test_size=0.3, random_state=42)"
   ]
  },
  {
   "cell_type": "code",
   "execution_count": null,
   "id": "b636f4b1",
   "metadata": {},
   "outputs": [
    {
     "data": {
      "text/plain": [
       "((70000, 9), (30000, 9))"
      ]
     },
     "execution_count": 67,
     "metadata": {},
     "output_type": "execute_result"
    }
   ],
   "source": [
    "X_train.shape, X_test.shape"
   ]
  },
  {
   "cell_type": "code",
   "execution_count": null,
   "id": "5eeffc6d",
   "metadata": {},
   "outputs": [
    {
     "data": {
      "text/plain": [
       "Index(['Age', 'Subscription_Length_Months', 'Monthly_Bill', 'Total_Usage_GB',\n",
       "       'Gender_Male', 'Location_Houston', 'Location_Los Angeles',\n",
       "       'Location_Miami', 'Location_New York'],\n",
       "      dtype='object')"
      ]
     },
     "execution_count": 68,
     "metadata": {},
     "output_type": "execute_result"
    }
   ],
   "source": [
    "X_train.columns"
   ]
  },
  {
   "cell_type": "code",
   "execution_count": null,
   "id": "7af7dc73",
   "metadata": {},
   "outputs": [],
   "source": [
    "columns_to_scale = ['Age', 'Subscription_Length_Months', 'Monthly_Bill', 'Total_Usage_GB']\n",
    "\n",
    "scaler = MinMaxScaler()\n",
    "\n",
    "X_train[columns_to_scale] = scaler.fit_transform(X_train[columns_to_scale])\n",
    "\n",
    "X_test[columns_to_scale] = scaler.transform(X_test[columns_to_scale])"
   ]
  },
  {
   "cell_type": "code",
   "execution_count": null,
   "id": "bd3ce919",
   "metadata": {},
   "outputs": [
    {
     "ename": "NameError",
     "evalue": "name 'XGBClassifier' is not defined",
     "output_type": "error",
     "traceback": [
      "\u001b[1;31m---------------------------------------------------------------------------\u001b[0m",
      "\u001b[1;31mNameError\u001b[0m                                 Traceback (most recent call last)",
      "Cell \u001b[1;32mIn[70], line 2\u001b[0m\n\u001b[0;32m      1\u001b[0m \u001b[38;5;66;03m# Initialize the XGBoost classifier\u001b[39;00m\n\u001b[1;32m----> 2\u001b[0m xgb_classifier \u001b[38;5;241m=\u001b[39m XGBClassifier(\n\u001b[0;32m      3\u001b[0m     objective\u001b[38;5;241m=\u001b[39m\u001b[38;5;124m'\u001b[39m\u001b[38;5;124mbinary:logistic\u001b[39m\u001b[38;5;124m'\u001b[39m,  \u001b[38;5;66;03m# For binary classification\u001b[39;00m\n\u001b[0;32m      4\u001b[0m     random_state\u001b[38;5;241m=\u001b[39m\u001b[38;5;241m42\u001b[39m               \u001b[38;5;66;03m# Random seed for reproducibility\u001b[39;00m\n\u001b[0;32m      5\u001b[0m )\n\u001b[0;32m      7\u001b[0m \u001b[38;5;66;03m# Train (fit) the model\u001b[39;00m\n\u001b[0;32m      8\u001b[0m xgb_classifier\u001b[38;5;241m.\u001b[39mfit(X_train, y_train)\n",
      "\u001b[1;31mNameError\u001b[0m: name 'XGBClassifier' is not defined"
     ]
    }
   ],
   "source": [
    "# Initialize the XGBoost classifier\n",
    "xgb_classifier = XGBClassifier(\n",
    "    objective='binary:logistic',  # For binary classification\n",
    "    random_state=42               # Random seed for reproducibility\n",
    ")\n",
    "\n",
    "# Train (fit) the model\n",
    "xgb_classifier.fit(X_train, y_train)\n"
   ]
  },
  {
   "cell_type": "code",
   "execution_count": null,
   "id": "dc09c244",
   "metadata": {},
   "outputs": [
    {
     "ename": "NameError",
     "evalue": "name 'xgb_classifier' is not defined",
     "output_type": "error",
     "traceback": [
      "\u001b[1;31m---------------------------------------------------------------------------\u001b[0m",
      "\u001b[1;31mNameError\u001b[0m                                 Traceback (most recent call last)",
      "Cell \u001b[1;32mIn[71], line 1\u001b[0m\n\u001b[1;32m----> 1\u001b[0m y_train_pred \u001b[38;5;241m=\u001b[39m xgb_classifier\u001b[38;5;241m.\u001b[39mpredict(X_train)\n\u001b[0;32m      2\u001b[0m y_test_pred \u001b[38;5;241m=\u001b[39m xgb_classifier\u001b[38;5;241m.\u001b[39mpredict(X_test)\n\u001b[0;32m      4\u001b[0m \u001b[38;5;66;03m# Calculate metrics for train set\u001b[39;00m\n",
      "\u001b[1;31mNameError\u001b[0m: name 'xgb_classifier' is not defined"
     ]
    }
   ],
   "source": [
    "y_train_pred = xgb_classifier.predict(X_train)\n",
    "y_test_pred = xgb_classifier.predict(X_test)\n",
    "\n",
    "# Calculate metrics for train set\n",
    "train_accuracy = accuracy_score(y_train, y_train_pred)\n",
    "train_precision = precision_score(y_train, y_train_pred)\n",
    "train_recall = recall_score(y_train, y_train_pred)\n",
    "train_f1 = f1_score(y_train, y_train_pred)\n",
    "\n",
    "# Calculate metrics for test set\n",
    "test_accuracy = accuracy_score(y_test, y_test_pred)\n",
    "test_precision = precision_score(y_test, y_test_pred)\n",
    "test_recall = recall_score(y_test, y_test_pred)\n",
    "test_f1 = f1_score(y_test, y_test_pred)\n",
    "\n",
    "# Create a DataFrame to store the results\n",
    "results = pd.DataFrame({\n",
    "    'Metric': ['Accuracy', 'Precision', 'Recall', 'F1-Score'],\n",
    "    'Train': [train_accuracy, train_precision, train_recall, train_f1],\n",
    "    'Test': [test_accuracy, test_precision, test_recall, test_f1]\n",
    "})\n",
    "\n",
    "results"
   ]
  },
  {
   "cell_type": "markdown",
   "id": "b20b997f",
   "metadata": {},
   "source": [
    "# `Hyperparameter Tunning`\n",
    "\n",
    "Hyperparameters are settings in machine learning algorithms that control how the algorithm works. They are like the knobs and dials on a machine, and they can be adjusted to improve the performance of the algorithm."
   ]
  },
  {
   "cell_type": "code",
   "execution_count": null,
   "id": "123a8187",
   "metadata": {},
   "outputs": [],
   "source": [
    "from sklearn.model_selection import GridSearchCV\n",
    "\n",
    "# Define the parameter grid for hyperparameter tuning\n",
    "\n",
    "param_grid = {\n",
    "    'max_depth': [3, 4, 5],\n",
    "    'learning_rate': [0.1, 0.01, 0.001],\n",
    "    'n_estimators': [50, 100, 150]\n",
    "}"
   ]
  },
  {
   "cell_type": "code",
   "execution_count": null,
   "id": "9866b820",
   "metadata": {},
   "outputs": [
    {
     "ename": "NameError",
     "evalue": "name 'xgb_classifier' is not defined",
     "output_type": "error",
     "traceback": [
      "\u001b[1;31m---------------------------------------------------------------------------\u001b[0m",
      "\u001b[1;31mNameError\u001b[0m                                 Traceback (most recent call last)",
      "Cell \u001b[1;32mIn[73], line 3\u001b[0m\n\u001b[0;32m      1\u001b[0m \u001b[38;5;66;03m# Initialize GridSearchCV with recall as the scoring metric\u001b[39;00m\n\u001b[0;32m      2\u001b[0m grid_search \u001b[38;5;241m=\u001b[39m GridSearchCV(\n\u001b[1;32m----> 3\u001b[0m     estimator\u001b[38;5;241m=\u001b[39mxgb_classifier,\n\u001b[0;32m      4\u001b[0m     param_grid\u001b[38;5;241m=\u001b[39mparam_grid,\n\u001b[0;32m      5\u001b[0m     scoring\u001b[38;5;241m=\u001b[39m\u001b[38;5;124m'\u001b[39m\u001b[38;5;124mrecall\u001b[39m\u001b[38;5;124m'\u001b[39m,\n\u001b[0;32m      6\u001b[0m     cv\u001b[38;5;241m=\u001b[39m\u001b[38;5;241m5\u001b[39m\n\u001b[0;32m      7\u001b[0m )\n\u001b[0;32m      9\u001b[0m \u001b[38;5;66;03m# Fit the GridSearchCV on the training data\u001b[39;00m\n\u001b[0;32m     10\u001b[0m grid_search\u001b[38;5;241m.\u001b[39mfit(X_train, y_train)\n",
      "\u001b[1;31mNameError\u001b[0m: name 'xgb_classifier' is not defined"
     ]
    }
   ],
   "source": [
    "# Initialize GridSearchCV with recall as the scoring metric\n",
    "grid_search = GridSearchCV(\n",
    "    estimator=xgb_classifier,\n",
    "    param_grid=param_grid,\n",
    "    scoring='recall',\n",
    "    cv=5\n",
    ")\n",
    "\n",
    "# Fit the GridSearchCV on the training data\n",
    "grid_search.fit(X_train, y_train)"
   ]
  },
  {
   "cell_type": "markdown",
   "id": "c77426fe",
   "metadata": {},
   "source": [
    "**According to the problem statement, false negatives are more important to reduce. Therefore, I selected recall as a metric to focus on.**"
   ]
  },
  {
   "cell_type": "code",
   "execution_count": null,
   "id": "b4bc2604",
   "metadata": {},
   "outputs": [
    {
     "ename": "NameError",
     "evalue": "name 'grid_search' is not defined",
     "output_type": "error",
     "traceback": [
      "\u001b[1;31m---------------------------------------------------------------------------\u001b[0m",
      "\u001b[1;31mNameError\u001b[0m                                 Traceback (most recent call last)",
      "Cell \u001b[1;32mIn[74], line 2\u001b[0m\n\u001b[0;32m      1\u001b[0m \u001b[38;5;66;03m# Get the best model from the search\u001b[39;00m\n\u001b[1;32m----> 2\u001b[0m best_xgb \u001b[38;5;241m=\u001b[39m grid_search\u001b[38;5;241m.\u001b[39mbest_estimator_\n\u001b[0;32m      4\u001b[0m \u001b[38;5;66;03m# Make predictions on the test set using the best model\u001b[39;00m\n\u001b[0;32m      5\u001b[0m y_test_pred \u001b[38;5;241m=\u001b[39m best_xgb\u001b[38;5;241m.\u001b[39mpredict(X_test)\n",
      "\u001b[1;31mNameError\u001b[0m: name 'grid_search' is not defined"
     ]
    }
   ],
   "source": [
    "# Get the best model from the search\n",
    "best_xgb = grid_search.best_estimator_\n",
    "\n",
    "# Make predictions on the test set using the best model\n",
    "y_test_pred = best_xgb.predict(X_test)\n",
    "\n",
    "# Calculate recall for the test set\n",
    "test_recall = recall_score(y_test, y_test_pred)\n",
    "\n",
    "print(\"Best Parameters:\", grid_search.best_params_)\n",
    "print(\"Test Recall with Best Model:\", test_recall)"
   ]
  },
  {
   "cell_type": "markdown",
   "id": "dbae3723",
   "metadata": {},
   "source": [
    "**After hyperparameter tuning, the performance of the model did not improve. Hence, I choose XGBoost CLassifier without hyperparameter tunning and perform cross-validation on it.**"
   ]
  },
  {
   "cell_type": "markdown",
   "id": "94e29ae7",
   "metadata": {},
   "source": [
    "# `Cross Validation`\n",
    "\n",
    "* Cross-validation is a technique used to evaluate the performance of a machine learning model. It works by dividing the data into several parts, called folds. The model is then trained on a subset of the data and tested on the remaining folds. This process is repeated several times, and the results are averaged to get an estimate of the model's performance.\n",
    "\n",
    "\n",
    "* Cross-validation is necessary because it helps us avoid overfitting the model to the training data.\n",
    "\n",
    "\n",
    "* Cross-validation is a way to make sure that our model is not just memorizing the training data, but that it is actually learning to make accurate predictions on new data."
   ]
  },
  {
   "cell_type": "code",
   "execution_count": null,
   "id": "c2a1e598",
   "metadata": {},
   "outputs": [
    {
     "ename": "NameError",
     "evalue": "name 'xgb_classifier' is not defined",
     "output_type": "error",
     "traceback": [
      "\u001b[1;31m---------------------------------------------------------------------------\u001b[0m",
      "\u001b[1;31mNameError\u001b[0m                                 Traceback (most recent call last)",
      "Cell \u001b[1;32mIn[75], line 5\u001b[0m\n\u001b[0;32m      1\u001b[0m \u001b[38;5;66;03m#cross validation of accuracy\u001b[39;00m\n\u001b[0;32m      3\u001b[0m \u001b[38;5;28;01mfrom\u001b[39;00m \u001b[38;5;21;01msklearn\u001b[39;00m\u001b[38;5;21;01m.\u001b[39;00m\u001b[38;5;21;01mmodel_selection\u001b[39;00m \u001b[38;5;28;01mimport\u001b[39;00m cross_val_score\n\u001b[1;32m----> 5\u001b[0m scores \u001b[38;5;241m=\u001b[39m cross_val_score(xgb_classifier, X_train, y_train, cv\u001b[38;5;241m=\u001b[39m\u001b[38;5;241m5\u001b[39m, scoring\u001b[38;5;241m=\u001b[39m\u001b[38;5;124m'\u001b[39m\u001b[38;5;124maccuracy\u001b[39m\u001b[38;5;124m'\u001b[39m,n_jobs\u001b[38;5;241m=\u001b[39m\u001b[38;5;241m-\u001b[39m\u001b[38;5;241m1\u001b[39m)\n\u001b[0;32m      7\u001b[0m \u001b[38;5;28mprint\u001b[39m(\u001b[38;5;124m\"\u001b[39m\u001b[38;5;124mCross-Validation Scores (Accuracy):\u001b[39m\u001b[38;5;124m\"\u001b[39m, scores)\n\u001b[0;32m      8\u001b[0m \u001b[38;5;28mprint\u001b[39m()\n",
      "\u001b[1;31mNameError\u001b[0m: name 'xgb_classifier' is not defined"
     ]
    }
   ],
   "source": [
    "#cross validation of accuracy\n",
    "\n",
    "from sklearn.model_selection import cross_val_score\n",
    "\n",
    "scores = cross_val_score(xgb_classifier, X_train, y_train, cv=5, scoring='accuracy',n_jobs=-1)\n",
    "\n",
    "print(\"Cross-Validation Scores (Accuracy):\", scores)\n",
    "print()\n",
    "print(\"Mean Accuracy Score:\", scores.mean())"
   ]
  },
  {
   "cell_type": "code",
   "execution_count": null,
   "id": "a6c7b3d6",
   "metadata": {},
   "outputs": [
    {
     "ename": "NameError",
     "evalue": "name 'xgb_classifier' is not defined",
     "output_type": "error",
     "traceback": [
      "\u001b[1;31m---------------------------------------------------------------------------\u001b[0m",
      "\u001b[1;31mNameError\u001b[0m                                 Traceback (most recent call last)",
      "Cell \u001b[1;32mIn[76], line 3\u001b[0m\n\u001b[0;32m      1\u001b[0m \u001b[38;5;66;03m#cross validation of recall\u001b[39;00m\n\u001b[1;32m----> 3\u001b[0m scores \u001b[38;5;241m=\u001b[39m cross_val_score(xgb_classifier, X_train, y_train, cv\u001b[38;5;241m=\u001b[39m\u001b[38;5;241m5\u001b[39m, scoring\u001b[38;5;241m=\u001b[39m\u001b[38;5;124m'\u001b[39m\u001b[38;5;124mrecall\u001b[39m\u001b[38;5;124m'\u001b[39m,n_jobs\u001b[38;5;241m=\u001b[39m\u001b[38;5;241m-\u001b[39m\u001b[38;5;241m1\u001b[39m)\n\u001b[0;32m      5\u001b[0m \u001b[38;5;28mprint\u001b[39m(\u001b[38;5;124m\"\u001b[39m\u001b[38;5;124mCross-Validation Scores (Recall):\u001b[39m\u001b[38;5;124m\"\u001b[39m, scores)\n\u001b[0;32m      6\u001b[0m \u001b[38;5;28mprint\u001b[39m()\n",
      "\u001b[1;31mNameError\u001b[0m: name 'xgb_classifier' is not defined"
     ]
    }
   ],
   "source": [
    "#cross validation of recall\n",
    "\n",
    "scores = cross_val_score(xgb_classifier, X_train, y_train, cv=5, scoring='recall',n_jobs=-1)\n",
    "\n",
    "print(\"Cross-Validation Scores (Recall):\", scores)\n",
    "print()\n",
    "print(\"Mean Recall Score:\", scores.mean())"
   ]
  },
  {
   "cell_type": "markdown",
   "id": "54677bf9",
   "metadata": {},
   "source": [
    "# `Finding Optimal Threshold`"
   ]
  },
  {
   "cell_type": "code",
   "execution_count": null,
   "id": "ad4e4573",
   "metadata": {},
   "outputs": [
    {
     "ename": "NameError",
     "evalue": "name 'xgb_classifier' is not defined",
     "output_type": "error",
     "traceback": [
      "\u001b[1;31m---------------------------------------------------------------------------\u001b[0m",
      "\u001b[1;31mNameError\u001b[0m                                 Traceback (most recent call last)",
      "Cell \u001b[1;32mIn[77], line 3\u001b[0m\n\u001b[0;32m      1\u001b[0m \u001b[38;5;66;03m#creating a dataframe of probabilites, actual labels, predicted labels for genral check\u001b[39;00m\n\u001b[1;32m----> 3\u001b[0m probabilities \u001b[38;5;241m=\u001b[39m xgb_classifier\u001b[38;5;241m.\u001b[39mpredict_proba(X_train)\n\u001b[0;32m      5\u001b[0m predicted_labels \u001b[38;5;241m=\u001b[39m xgb_classifier\u001b[38;5;241m.\u001b[39mpredict(X_train)\n\u001b[0;32m      7\u001b[0m results \u001b[38;5;241m=\u001b[39m pd\u001b[38;5;241m.\u001b[39mDataFrame({\u001b[38;5;124m'\u001b[39m\u001b[38;5;124mProbability\u001b[39m\u001b[38;5;124m'\u001b[39m: probabilities[:, \u001b[38;5;241m1\u001b[39m],\n\u001b[0;32m      8\u001b[0m                         \u001b[38;5;124m'\u001b[39m\u001b[38;5;124mActual_Label\u001b[39m\u001b[38;5;124m'\u001b[39m: y_train,\n\u001b[0;32m      9\u001b[0m                         \u001b[38;5;124m'\u001b[39m\u001b[38;5;124mPredicted_Label\u001b[39m\u001b[38;5;124m'\u001b[39m: predicted_labels})\n",
      "\u001b[1;31mNameError\u001b[0m: name 'xgb_classifier' is not defined"
     ]
    }
   ],
   "source": [
    "#creating a dataframe of probabilites, actual labels, predicted labels for genral check\n",
    "\n",
    "probabilities = xgb_classifier.predict_proba(X_train)\n",
    "\n",
    "predicted_labels = xgb_classifier.predict(X_train)\n",
    "\n",
    "results = pd.DataFrame({'Probability': probabilities[:, 1],\n",
    "                        'Actual_Label': y_train,\n",
    "                        'Predicted_Label': predicted_labels})\n",
    "\n",
    "results.sample(10)"
   ]
  },
  {
   "cell_type": "code",
   "execution_count": null,
   "id": "5d000988",
   "metadata": {},
   "outputs": [
    {
     "ename": "NameError",
     "evalue": "name 'probabilities' is not defined",
     "output_type": "error",
     "traceback": [
      "\u001b[1;31m---------------------------------------------------------------------------\u001b[0m",
      "\u001b[1;31mNameError\u001b[0m                                 Traceback (most recent call last)",
      "Cell \u001b[1;32mIn[78], line 11\u001b[0m\n\u001b[0;32m      8\u001b[0m \u001b[38;5;66;03m# Iterating over the probability thresholds\u001b[39;00m\n\u001b[0;32m      9\u001b[0m \u001b[38;5;28;01mfor\u001b[39;00m threshold \u001b[38;5;129;01min\u001b[39;00m thresholds:\n\u001b[0;32m     10\u001b[0m     \u001b[38;5;66;03m# Converting probabilities to predicted labels based on the threshold\u001b[39;00m\n\u001b[1;32m---> 11\u001b[0m     predicted_labels \u001b[38;5;241m=\u001b[39m (probabilities[:, \u001b[38;5;241m1\u001b[39m] \u001b[38;5;241m>\u001b[39m\u001b[38;5;241m=\u001b[39m threshold)\u001b[38;5;241m.\u001b[39mastype(\u001b[38;5;28mint\u001b[39m)\n\u001b[0;32m     13\u001b[0m     \u001b[38;5;66;03m# Calculating evaluation metrics\u001b[39;00m\n\u001b[0;32m     14\u001b[0m     accuracy \u001b[38;5;241m=\u001b[39m accuracy_score(y_train, predicted_labels)\n",
      "\u001b[1;31mNameError\u001b[0m: name 'probabilities' is not defined"
     ]
    }
   ],
   "source": [
    "#check evaulation metrics for different thresholds\n",
    "\n",
    "thresholds = [0.1, 0.2, 0.3, 0.4, 0.5, 0.6, 0.7, 0.8, 0.9, 1.0]\n",
    "\n",
    "# Creating an empty DataFrame to store the evaluation metrics\n",
    "metrics_df = pd.DataFrame(columns=['Probability', 'Accuracy', 'Precision', 'Recall', 'F1 Score'])\n",
    "\n",
    "# Iterating over the probability thresholds\n",
    "for threshold in thresholds:\n",
    "    # Converting probabilities to predicted labels based on the threshold\n",
    "    predicted_labels = (probabilities[:, 1] >= threshold).astype(int)\n",
    "\n",
    "    # Calculating evaluation metrics\n",
    "    accuracy = accuracy_score(y_train, predicted_labels)\n",
    "    precision = precision_score(y_train, predicted_labels, zero_division=1)\n",
    "    recall = recall_score(y_train, predicted_labels, zero_division=1)\n",
    "    f1 = f1_score(y_train, predicted_labels, zero_division=1)\n",
    "\n",
    "    # Adding the metrics to the DataFrame\n",
    "    metrics_df = pd.concat([metrics_df, pd.DataFrame({'Probability': [threshold],\n",
    "                                                      'Accuracy': [accuracy],\n",
    "                                                      'Precision': [precision],\n",
    "                                                      'Recall': [recall],\n",
    "                                                      'F1 Score': [f1]})], ignore_index=True)\n",
    "metrics_df"
   ]
  },
  {
   "cell_type": "markdown",
   "id": "2f5513a7",
   "metadata": {},
   "source": [
    "## `Check the Trade-Off Between Accuracy, Sensitivity, Specitivity, F-1 Score and Probabilities (Thresholds)`"
   ]
  },
  {
   "cell_type": "code",
   "execution_count": null,
   "id": "c5ad2048",
   "metadata": {},
   "outputs": [
    {
     "ename": "NameError",
     "evalue": "name 'xgb_classifier' is not defined",
     "output_type": "error",
     "traceback": [
      "\u001b[1;31m---------------------------------------------------------------------------\u001b[0m",
      "\u001b[1;31mNameError\u001b[0m                                 Traceback (most recent call last)",
      "Cell \u001b[1;32mIn[79], line 4\u001b[0m\n\u001b[0;32m      1\u001b[0m \u001b[38;5;28;01mfrom\u001b[39;00m \u001b[38;5;21;01msklearn\u001b[39;00m\u001b[38;5;21;01m.\u001b[39;00m\u001b[38;5;21;01mmetrics\u001b[39;00m \u001b[38;5;28;01mimport\u001b[39;00m confusion_matrix\n\u001b[0;32m      3\u001b[0m \u001b[38;5;66;03m# Calculate predicted probabilities for the train data\u001b[39;00m\n\u001b[1;32m----> 4\u001b[0m train_probabilities \u001b[38;5;241m=\u001b[39m xgb_classifier\u001b[38;5;241m.\u001b[39mpredict_proba(X_train)[:, \u001b[38;5;241m1\u001b[39m]\n\u001b[0;32m      6\u001b[0m \u001b[38;5;66;03m# Apply different thresholds to obtain binary predictions for train data\u001b[39;00m\n\u001b[0;32m      7\u001b[0m thresholds \u001b[38;5;241m=\u001b[39m np\u001b[38;5;241m.\u001b[39marange(\u001b[38;5;241m0\u001b[39m, \u001b[38;5;241m1.1\u001b[39m, \u001b[38;5;241m0.1\u001b[39m)\n",
      "\u001b[1;31mNameError\u001b[0m: name 'xgb_classifier' is not defined"
     ]
    }
   ],
   "source": [
    "from sklearn.metrics import confusion_matrix\n",
    "\n",
    "# Calculate predicted probabilities for the train data\n",
    "train_probabilities = xgb_classifier.predict_proba(X_train)[:, 1]\n",
    "\n",
    "# Apply different thresholds to obtain binary predictions for train data\n",
    "thresholds = np.arange(0, 1.1, 0.1)\n",
    "sensitivity = []\n",
    "specificity = []\n",
    "accuracy = []\n",
    "f1_scores = []\n",
    "\n",
    "for threshold in thresholds:\n",
    "    train_predictions = (train_probabilities >= threshold).astype(int)\n",
    "    tn, fp, fn, tp = confusion_matrix(y_train, train_predictions).ravel()\n",
    "    sensitivity.append(tp / (tp + fn))\n",
    "    specificity.append(tn / (tn + fp))\n",
    "    accuracy.append((tp + tn) / (tp + tn + fp + fn))\n",
    "    f1_scores.append(f1_score(y_train, train_predictions))\n",
    "\n",
    "# Plot the sensitivity, specificity, accuracy, and F1 score against probability thresholds\n",
    "plt.figure(figsize=(6,4))\n",
    "plt.plot(thresholds, sensitivity, label='Sensitivity')\n",
    "plt.plot(thresholds, specificity, label='Specificity')\n",
    "plt.plot(thresholds, accuracy, label='Accuracy')\n",
    "plt.plot(thresholds, f1_scores, label='F1 Score')\n",
    "plt.xlabel('Probability Threshold')\n",
    "plt.xticks(np.arange(0, 1.1, 0.1))\n",
    "plt.ylabel('Metric Value')\n",
    "plt.title('Metrics vs. Probability Threshold')\n",
    "plt.legend(loc='lower left')\n",
    "plt.show()"
   ]
  },
  {
   "cell_type": "markdown",
   "id": "33900411",
   "metadata": {},
   "source": [
    "**The graph indicates that 0.5 is the best threshold point, where accuracy, sensitivity, specificity, and F1 score are all stable.**"
   ]
  },
  {
   "cell_type": "markdown",
   "id": "7c81360d",
   "metadata": {},
   "source": [
    "# `Model Evaulation (XG Boost)`"
   ]
  },
  {
   "cell_type": "markdown",
   "id": "9c2cb8fe",
   "metadata": {},
   "source": [
    "## `Train & Test Data Metrics`"
   ]
  },
  {
   "cell_type": "code",
   "execution_count": null,
   "id": "bd89a37d",
   "metadata": {},
   "outputs": [
    {
     "ename": "NameError",
     "evalue": "name 'accuracy_score' is not defined",
     "output_type": "error",
     "traceback": [
      "\u001b[1;31m---------------------------------------------------------------------------\u001b[0m",
      "\u001b[1;31mNameError\u001b[0m                                 Traceback (most recent call last)",
      "Cell \u001b[1;32mIn[80], line 2\u001b[0m\n\u001b[0;32m      1\u001b[0m \u001b[38;5;66;03m# Calculate evaluation metrics for train data\u001b[39;00m\n\u001b[1;32m----> 2\u001b[0m train_accuracy \u001b[38;5;241m=\u001b[39m accuracy_score(y_train, y_train_pred)\n\u001b[0;32m      3\u001b[0m train_precision \u001b[38;5;241m=\u001b[39m precision_score(y_train, y_train_pred, average\u001b[38;5;241m=\u001b[39m\u001b[38;5;124m'\u001b[39m\u001b[38;5;124mmacro\u001b[39m\u001b[38;5;124m'\u001b[39m)\n\u001b[0;32m      4\u001b[0m train_recall \u001b[38;5;241m=\u001b[39m recall_score(y_train, y_train_pred, average\u001b[38;5;241m=\u001b[39m\u001b[38;5;124m'\u001b[39m\u001b[38;5;124mmacro\u001b[39m\u001b[38;5;124m'\u001b[39m)\n",
      "\u001b[1;31mNameError\u001b[0m: name 'accuracy_score' is not defined"
     ]
    }
   ],
   "source": [
    "# Calculate evaluation metrics for train data\n",
    "train_accuracy = accuracy_score(y_train, y_train_pred)\n",
    "train_precision = precision_score(y_train, y_train_pred, average='macro')\n",
    "train_recall = recall_score(y_train, y_train_pred, average='macro')\n",
    "train_f1_score = f1_score(y_train, y_train_pred, average='macro')\n",
    "\n",
    "# Predict on the test data\n",
    "y_test_pred = xgb_classifier.predict(X_test)\n",
    "\n",
    "# Calculate evaluation metrics for test data\n",
    "test_accuracy = accuracy_score(y_test, y_test_pred)\n",
    "test_precision = precision_score(y_test, y_test_pred, average='macro')\n",
    "test_recall = recall_score(y_test, y_test_pred, average='macro')\n",
    "test_f1_score = f1_score(y_test, y_test_pred, average='macro')\n",
    "\n",
    "# Create a DataFrame to store the evaluation metrics\n",
    "metrics_data = {\n",
    "    'Dataset': ['Train', 'Test'],\n",
    "    'Accuracy': [train_accuracy, test_accuracy],\n",
    "    'Precision': [train_precision, test_precision],\n",
    "    'Recall': [train_recall, test_recall],\n",
    "    'F1-score': [train_f1_score, test_f1_score]\n",
    "}\n",
    "\n",
    "metrics_df = pd.DataFrame(metrics_data)\n",
    "metrics_df"
   ]
  },
  {
   "cell_type": "markdown",
   "id": "6ed2be82",
   "metadata": {},
   "source": [
    "## `Confusion Matrix`\n",
    "\n",
    "Confusion matrix is a table that is used to evaluate the performance of a machine learning model. It shows how many instances were correctly classified as positive (true positives), incorrectly classified as positive (false positives), correctly classified as negative (true negatives), and incorrectly classified as negative (false negatives)."
   ]
  },
  {
   "cell_type": "code",
   "execution_count": null,
   "id": "0d130517",
   "metadata": {},
   "outputs": [
    {
     "ename": "NameError",
     "evalue": "name 'xgb_classifier' is not defined",
     "output_type": "error",
     "traceback": [
      "\u001b[1;31m---------------------------------------------------------------------------\u001b[0m",
      "\u001b[1;31mNameError\u001b[0m                                 Traceback (most recent call last)",
      "Cell \u001b[1;32mIn[81], line 4\u001b[0m\n\u001b[0;32m      1\u001b[0m \u001b[38;5;28;01mfrom\u001b[39;00m \u001b[38;5;21;01msklearn\u001b[39;00m\u001b[38;5;21;01m.\u001b[39;00m\u001b[38;5;21;01mmetrics\u001b[39;00m \u001b[38;5;28;01mimport\u001b[39;00m confusion_matrix\n\u001b[0;32m      3\u001b[0m \u001b[38;5;66;03m# Calculate predictions for the training set using a threshold of 0.50\u001b[39;00m\n\u001b[1;32m----> 4\u001b[0m train_predictions \u001b[38;5;241m=\u001b[39m (xgb_classifier\u001b[38;5;241m.\u001b[39mpredict_proba(X_train)[:, \u001b[38;5;241m1\u001b[39m] \u001b[38;5;241m>\u001b[39m\u001b[38;5;241m=\u001b[39m \u001b[38;5;241m0.50\u001b[39m)\u001b[38;5;241m.\u001b[39mastype(\u001b[38;5;28mint\u001b[39m)\n\u001b[0;32m      5\u001b[0m train_confusion_matrix \u001b[38;5;241m=\u001b[39m confusion_matrix(y_train, train_predictions)\n\u001b[0;32m      7\u001b[0m \u001b[38;5;66;03m# Calculate predictions for the test set using a threshold of 0.50\u001b[39;00m\n",
      "\u001b[1;31mNameError\u001b[0m: name 'xgb_classifier' is not defined"
     ]
    }
   ],
   "source": [
    "from sklearn.metrics import confusion_matrix\n",
    "\n",
    "# Calculate predictions for the training set using a threshold of 0.50\n",
    "train_predictions = (xgb_classifier.predict_proba(X_train)[:, 1] >= 0.50).astype(int)\n",
    "train_confusion_matrix = confusion_matrix(y_train, train_predictions)\n",
    "\n",
    "# Calculate predictions for the test set using a threshold of 0.50\n",
    "test_predictions = (xgb_classifier.predict_proba(X_test)[:, 1] >= 0.50).astype(int)\n",
    "test_confusion_matrix = confusion_matrix(y_test, test_predictions)\n",
    "\n",
    "# Calculate the total number of samples in each set\n",
    "train_total = len(y_train)\n",
    "test_total = len(y_test)\n",
    "\n",
    "# Calculate the confusion matrix in percentage form for the training set\n",
    "train_confusion_matrix_percent = train_confusion_matrix / train_total * 100\n",
    "\n",
    "# Calculate the confusion matrix in percentage form for the test set\n",
    "test_confusion_matrix_percent = test_confusion_matrix / test_total * 100\n",
    "\n",
    "# Create a dataframe for the confusion matrix\n",
    "confusion_matrix_df = pd.DataFrame({'Training Set': train_confusion_matrix_percent.flatten(),\n",
    "                                    'Test Set': test_confusion_matrix_percent.flatten()},\n",
    "                                   index=['True Positive (%)', 'True Negative (%)', 'False Positive (%)', 'False Negative (%)', ])\n",
    "#\n",
    "confusion_matrix_df"
   ]
  },
  {
   "cell_type": "markdown",
   "id": "15b520c0",
   "metadata": {},
   "source": [
    "## `ROC-AUC Curve`\n",
    "\n",
    "ROC-AUC curve, or Receiver Operating Characteristic-Area Under Curve, is a graph used in machine learning to measure the performance of a binary classifier. It plots the true positive rate (TPR) against the false positive rate (FPR) at different classification thresholds."
   ]
  },
  {
   "cell_type": "code",
   "execution_count": null,
   "id": "be8d8208",
   "metadata": {},
   "outputs": [
    {
     "ename": "NameError",
     "evalue": "name 'xgb_classifier' is not defined",
     "output_type": "error",
     "traceback": [
      "\u001b[1;31m---------------------------------------------------------------------------\u001b[0m",
      "\u001b[1;31mNameError\u001b[0m                                 Traceback (most recent call last)",
      "Cell \u001b[1;32mIn[82], line 4\u001b[0m\n\u001b[0;32m      1\u001b[0m \u001b[38;5;28;01mfrom\u001b[39;00m \u001b[38;5;21;01msklearn\u001b[39;00m\u001b[38;5;21;01m.\u001b[39;00m\u001b[38;5;21;01mmetrics\u001b[39;00m \u001b[38;5;28;01mimport\u001b[39;00m roc_curve, auc, roc_auc_score\n\u001b[0;32m      3\u001b[0m \u001b[38;5;66;03m# Calculate predicted probabilities for the train data\u001b[39;00m\n\u001b[1;32m----> 4\u001b[0m train_probabilities \u001b[38;5;241m=\u001b[39m xgb_classifier\u001b[38;5;241m.\u001b[39mpredict_proba(X_train)[:, \u001b[38;5;241m1\u001b[39m]\n\u001b[0;32m      6\u001b[0m \u001b[38;5;66;03m# Apply the threshold of 0.50 to obtain binary predictions for train data\u001b[39;00m\n\u001b[0;32m      7\u001b[0m train_predictions \u001b[38;5;241m=\u001b[39m (train_probabilities \u001b[38;5;241m>\u001b[39m\u001b[38;5;241m=\u001b[39m \u001b[38;5;241m0.50\u001b[39m)\u001b[38;5;241m.\u001b[39mastype(\u001b[38;5;28mint\u001b[39m)\n",
      "\u001b[1;31mNameError\u001b[0m: name 'xgb_classifier' is not defined"
     ]
    }
   ],
   "source": [
    "from sklearn.metrics import roc_curve, auc, roc_auc_score\n",
    "\n",
    "# Calculate predicted probabilities for the train data\n",
    "train_probabilities = xgb_classifier.predict_proba(X_train)[:, 1]\n",
    "\n",
    "# Apply the threshold of 0.50 to obtain binary predictions for train data\n",
    "train_predictions = (train_probabilities >= 0.50).astype(int)\n",
    "\n",
    "# Calculate the false positive rate, true positive rate, and thresholds for train data\n",
    "fpr_train, tpr_train, thresholds_train = roc_curve(y_train, train_probabilities)\n",
    "\n",
    "# Calculate the ROC-AUC score for train data\n",
    "roc_auc_train = roc_auc_score(y_train, train_predictions)\n",
    "\n",
    "# Calculate predicted probabilities for the test data\n",
    "test_probabilities = xgb_classifier.predict_proba(X_test)[:, 1]\n",
    "\n",
    "# Apply the threshold of 0.50 to obtain binary predictions for test data\n",
    "test_predictions = (test_probabilities >= 0.50).astype(int)\n",
    "\n",
    "# Calculate the false positive rate, true positive rate, and thresholds for test data\n",
    "fpr_test, tpr_test, thresholds_test = roc_curve(y_test, test_probabilities)\n",
    "\n",
    "# Calculate the ROC-AUC score for test data\n",
    "roc_auc_test = roc_auc_score(y_test, test_predictions)\n",
    "\n",
    "# Plot the ROC curves\n",
    "plt.figure(figsize=(6,4))\n",
    "plt.plot(fpr_train, tpr_train, label='Train ROC curve (area = {:.2f})'.format(roc_auc_train))\n",
    "plt.plot(fpr_test, tpr_test, label='Test ROC curve (area = {:.2f})'.format(roc_auc_test))\n",
    "plt.plot([0, 1], [0, 1], 'k--')\n",
    "plt.xlim([0.0, 1.0])\n",
    "plt.ylim([0.0, 1.05])\n",
    "plt.xlabel('False Positive Rate')\n",
    "plt.ylabel('True Positive Rate')\n",
    "plt.title('Receiver Operating Characteristic (ROC)')\n",
    "plt.legend(loc='lower right')\n",
    "plt.show()"
   ]
  },
  {
   "cell_type": "markdown",
   "id": "5b272b92",
   "metadata": {},
   "source": [
    "# `Important Features in Model Building`"
   ]
  },
  {
   "cell_type": "code",
   "execution_count": null,
   "id": "a90c65f3",
   "metadata": {},
   "outputs": [
    {
     "data": {
      "text/html": [
       "<div>\n",
       "<style scoped>\n",
       "    .dataframe tbody tr th:only-of-type {\n",
       "        vertical-align: middle;\n",
       "    }\n",
       "\n",
       "    .dataframe tbody tr th {\n",
       "        vertical-align: top;\n",
       "    }\n",
       "\n",
       "    .dataframe thead th {\n",
       "        text-align: right;\n",
       "    }\n",
       "</style>\n",
       "<table border=\"1\" class=\"dataframe\">\n",
       "  <thead>\n",
       "    <tr style=\"text-align: right;\">\n",
       "      <th></th>\n",
       "      <th>Feature</th>\n",
       "      <th>Importance</th>\n",
       "    </tr>\n",
       "  </thead>\n",
       "  <tbody>\n",
       "    <tr>\n",
       "      <th>0</th>\n",
       "      <td>Monthly_Bill</td>\n",
       "      <td>0.316383</td>\n",
       "    </tr>\n",
       "    <tr>\n",
       "      <th>1</th>\n",
       "      <td>Total_Usage_GB</td>\n",
       "      <td>0.290353</td>\n",
       "    </tr>\n",
       "    <tr>\n",
       "      <th>2</th>\n",
       "      <td>Age</td>\n",
       "      <td>0.194396</td>\n",
       "    </tr>\n",
       "    <tr>\n",
       "      <th>3</th>\n",
       "      <td>Subscription_Length_Months</td>\n",
       "      <td>0.142624</td>\n",
       "    </tr>\n",
       "    <tr>\n",
       "      <th>4</th>\n",
       "      <td>Gender_Male</td>\n",
       "      <td>0.016683</td>\n",
       "    </tr>\n",
       "    <tr>\n",
       "      <th>5</th>\n",
       "      <td>Location_Los Angeles</td>\n",
       "      <td>0.010595</td>\n",
       "    </tr>\n",
       "    <tr>\n",
       "      <th>6</th>\n",
       "      <td>Location_Houston</td>\n",
       "      <td>0.010007</td>\n",
       "    </tr>\n",
       "    <tr>\n",
       "      <th>7</th>\n",
       "      <td>Location_Miami</td>\n",
       "      <td>0.009792</td>\n",
       "    </tr>\n",
       "    <tr>\n",
       "      <th>8</th>\n",
       "      <td>Location_New York</td>\n",
       "      <td>0.009166</td>\n",
       "    </tr>\n",
       "  </tbody>\n",
       "</table>\n",
       "</div>"
      ],
      "text/plain": [
       "                      Feature  Importance\n",
       "0                Monthly_Bill    0.316383\n",
       "1              Total_Usage_GB    0.290353\n",
       "2                         Age    0.194396\n",
       "3  Subscription_Length_Months    0.142624\n",
       "4                 Gender_Male    0.016683\n",
       "5        Location_Los Angeles    0.010595\n",
       "6            Location_Houston    0.010007\n",
       "7              Location_Miami    0.009792\n",
       "8           Location_New York    0.009166"
      ]
     },
     "execution_count": 83,
     "metadata": {},
     "output_type": "execute_result"
    }
   ],
   "source": [
    "feature_importance_df"
   ]
  },
  {
   "cell_type": "markdown",
   "id": "91105e19",
   "metadata": {},
   "source": [
    "**The four variables ['Monthly_Bill', 'Total_Usage_GB', 'Age', and 'Subscription_Length_Months'] are the most important variables in the analysis because they contain 94% of the feature importance or information gain in predicting whether a customer will churn or not.**"
   ]
  },
  {
   "cell_type": "markdown",
   "id": "4f58250a",
   "metadata": {},
   "source": [
    "# `Save model in a pickle file`"
   ]
  },
  {
   "cell_type": "code",
   "execution_count": null,
   "id": "82acf819",
   "metadata": {},
   "outputs": [
    {
     "ename": "NameError",
     "evalue": "name 'xgb_classifier' is not defined",
     "output_type": "error",
     "traceback": [
      "\u001b[1;31m---------------------------------------------------------------------------\u001b[0m",
      "\u001b[1;31mNameError\u001b[0m                                 Traceback (most recent call last)",
      "Cell \u001b[1;32mIn[84], line 4\u001b[0m\n\u001b[0;32m      1\u001b[0m \u001b[38;5;28;01mimport\u001b[39;00m \u001b[38;5;21;01mjoblib\u001b[39;00m\n\u001b[1;32m----> 4\u001b[0m joblib\u001b[38;5;241m.\u001b[39mdump(xgb_classifier, \u001b[38;5;124m'\u001b[39m\u001b[38;5;124mcustomer_churn_classifier.pkl\u001b[39m\u001b[38;5;124m'\u001b[39m)\n",
      "\u001b[1;31mNameError\u001b[0m: name 'xgb_classifier' is not defined"
     ]
    }
   ],
   "source": [
    "import joblib\n",
    "\n",
    "\n",
    "joblib.dump(xgb_classifier, 'customer_churn_classifier.pkl')"
   ]
  },
  {
   "cell_type": "markdown",
   "id": "dbbf8995",
   "metadata": {},
   "source": [
    "# `Outcome`\n",
    "\n",
    "**The outcome of this customer churn prediction project involves developing a machine learning model to predict whether customers are likely to churn or not. This prediction is based on various customer attributes such as age, gender, location, subscription length, monthly bill, and total usage. The model's primary purpose is to assist in identifying customers who are at a higher risk of churning, enabling the business to take proactive measures to retain them. By using the trained model to predict churn, the company can allocate resources more effectively, personalize engagement strategies, and implement targeted retention efforts. Ultimately, the project's success is measured by the model's ability to make predictions, helping the company reduce churn rates, improve customer satisfaction, and optimize its customer retention strategies.**"
   ]
  },
  {
   "cell_type": "code",
   "execution_count": null,
   "id": "e585340d",
   "metadata": {},
   "outputs": [],
   "source": []
  }
 ],
 "metadata": {
  "kernelspec": {
   "display_name": "Python 3",
   "language": "python",
   "name": "python3"
  },
  "language_info": {
   "codemirror_mode": {
    "name": "ipython",
    "version": 3
   },
   "file_extension": ".py",
   "mimetype": "text/x-python",
   "name": "python",
   "nbconvert_exporter": "python",
   "pygments_lexer": "ipython3",
   "version": "3.11.5"
  }
 },
 "nbformat": 4,
 "nbformat_minor": 5
}
